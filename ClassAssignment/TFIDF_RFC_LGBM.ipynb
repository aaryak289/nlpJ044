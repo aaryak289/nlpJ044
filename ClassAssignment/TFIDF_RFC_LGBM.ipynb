{
  "nbformat": 4,
  "nbformat_minor": 0,
  "metadata": {
    "colab": {
      "name": "TFIDF_RFC_LGBM.ipynb",
      "provenance": [],
      "authorship_tag": "ABX9TyMDQjvtihEQHVGJqjJseeMl",
      "include_colab_link": true
    },
    "kernelspec": {
      "name": "python3",
      "display_name": "Python 3"
    }
  },
  "cells": [
    {
      "cell_type": "markdown",
      "metadata": {
        "id": "view-in-github",
        "colab_type": "text"
      },
      "source": [
        "<a href=\"https://colab.research.google.com/github/aaryak289/nlpJ044/blob/master/ClassAssignment/TFIDF_RFC_LGBM.ipynb\" target=\"_parent\"><img src=\"https://colab.research.google.com/assets/colab-badge.svg\" alt=\"Open In Colab\"/></a>"
      ]
    },
    {
      "cell_type": "code",
      "metadata": {
        "id": "8z9PfltPrfxr",
        "colab_type": "code",
        "colab": {}
      },
      "source": [
        "import pandas as pd  ##importing libraries\n",
        "import nltk\n",
        "from nltk import word_tokenize\n",
        "from sklearn.feature_extraction.text import CountVectorizer\n",
        "from sklearn.model_selection import train_test_split as tts\n",
        "from sklearn.ensemble import RandomForestClassifier\n",
        "from sklearn.model_selection import GridSearchCV\n",
        "import numpy as np\n",
        "from sklearn.preprocessing import LabelEncoder, LabelBinarizer\n",
        "from sklearn.metrics import classification_report, roc_auc_score\n",
        "import string\n",
        "from string import digits\n",
        "from nltk.corpus import stopwords\n",
        "import lightgbm as lgb"
      ],
      "execution_count": 0,
      "outputs": []
    },
    {
      "cell_type": "code",
      "metadata": {
        "id": "tm4Dv-F4rkMq",
        "colab_type": "code",
        "colab": {
          "base_uri": "https://localhost:8080/",
          "height": 141
        },
        "outputId": "f724bf50-1945-44b4-e3f1-f7e1a7d5ae0f"
      },
      "source": [
        "nltk.download('punkt')  #downloading nltk packages\n",
        "nltk.download('stopwords')\n",
        "nltk.download('words')"
      ],
      "execution_count": 2,
      "outputs": [
        {
          "output_type": "stream",
          "text": [
            "[nltk_data] Downloading package punkt to /root/nltk_data...\n",
            "[nltk_data]   Unzipping tokenizers/punkt.zip.\n",
            "[nltk_data] Downloading package stopwords to /root/nltk_data...\n",
            "[nltk_data]   Unzipping corpora/stopwords.zip.\n",
            "[nltk_data] Downloading package words to /root/nltk_data...\n",
            "[nltk_data]   Unzipping corpora/words.zip.\n"
          ],
          "name": "stdout"
        },
        {
          "output_type": "execute_result",
          "data": {
            "text/plain": [
              "True"
            ]
          },
          "metadata": {
            "tags": []
          },
          "execution_count": 2
        }
      ]
    },
    {
      "cell_type": "code",
      "metadata": {
        "id": "JrTYgh5XrkQi",
        "colab_type": "code",
        "colab": {}
      },
      "source": [
        "tweet = pd.read_csv('https://raw.githubusercontent.com/zfz/twitter_corpus/master/full-corpus.csv', error_bad_lines=False) #reading data"
      ],
      "execution_count": 0,
      "outputs": []
    },
    {
      "cell_type": "code",
      "metadata": {
        "id": "p00imiUwrkUp",
        "colab_type": "code",
        "colab": {}
      },
      "source": [
        "twitter = tweet[tweet['Sentiment']!='irrelevant']"
      ],
      "execution_count": 0,
      "outputs": []
    },
    {
      "cell_type": "code",
      "metadata": {
        "id": "E5MPsTT5rkcY",
        "colab_type": "code",
        "colab": {}
      },
      "source": [
        "def clean(text):   #cleaning\n",
        "  text= text.lower()\n",
        "  text = text.translate(text.maketrans('','',digits))#removing digits\n",
        "  text = text.translate(text.maketrans('', '', '!\"@#$%&\\'()*+,-./:;<=>?@[\\\\]^_`{|}~'))\n",
        "  return text"
      ],
      "execution_count": 0,
      "outputs": []
    },
    {
      "cell_type": "code",
      "metadata": {
        "id": "GTMAV-UYrkbj",
        "colab_type": "code",
        "colab": {
          "base_uri": "https://localhost:8080/",
          "height": 124
        },
        "outputId": "b8bfb306-f5b5-471c-e862-3f70881c7e37"
      },
      "source": [
        "twitter['TweetTokens']= twitter['TweetText'].apply(clean)"
      ],
      "execution_count": 6,
      "outputs": [
        {
          "output_type": "stream",
          "text": [
            "/usr/local/lib/python3.6/dist-packages/ipykernel_launcher.py:1: SettingWithCopyWarning: \n",
            "A value is trying to be set on a copy of a slice from a DataFrame.\n",
            "Try using .loc[row_indexer,col_indexer] = value instead\n",
            "\n",
            "See the caveats in the documentation: http://pandas.pydata.org/pandas-docs/stable/user_guide/indexing.html#returning-a-view-versus-a-copy\n",
            "  \"\"\"Entry point for launching an IPython kernel.\n"
          ],
          "name": "stderr"
        }
      ]
    },
    {
      "cell_type": "code",
      "metadata": {
        "id": "DNkhLJMVrkT8",
        "colab_type": "code",
        "colab": {}
      },
      "source": [
        "vectorizer = CountVectorizer(lowercase=True, stop_words=set(stopwords.words('english')))  #count vectorisation\n",
        "X = vectorizer.fit_transform(twitter['TweetTokens'])"
      ],
      "execution_count": 0,
      "outputs": []
    },
    {
      "cell_type": "code",
      "metadata": {
        "id": "WToXCccDrkPr",
        "colab_type": "code",
        "colab": {}
      },
      "source": [
        "features = pd.DataFrame(X.toarray(), columns=vectorizer.get_feature_names())"
      ],
      "execution_count": 0,
      "outputs": []
    },
    {
      "cell_type": "code",
      "metadata": {
        "id": "-JZY1TpsrkLX",
        "colab_type": "code",
        "colab": {}
      },
      "source": [
        "\n",
        "X_train,X_test,y_train,y_test = tts(X,twitter['Sentiment'],test_size=0.3, random_state=30)  #train test split"
      ],
      "execution_count": 0,
      "outputs": []
    },
    {
      "cell_type": "code",
      "metadata": {
        "id": "pVlxKTJQr-Lo",
        "colab_type": "code",
        "colab": {}
      },
      "source": [
        "x_train = pd.DataFrame(X_train.toarray(),columns=vectorizer.get_feature_names())\n",
        "x_test = pd.DataFrame(X_test.toarray(),columns=vectorizer.get_feature_names())"
      ],
      "execution_count": 0,
      "outputs": []
    },
    {
      "cell_type": "code",
      "metadata": {
        "id": "Npq2wzUFr-Qp",
        "colab_type": "code",
        "colab": {}
      },
      "source": [
        "ran = RandomForestClassifier()   # random forrest classifier"
      ],
      "execution_count": 0,
      "outputs": []
    },
    {
      "cell_type": "code",
      "metadata": {
        "id": "Psal4etFr-WF",
        "colab_type": "code",
        "colab": {
          "base_uri": "https://localhost:8080/",
          "height": 159
        },
        "outputId": "bd89ec4d-16e3-49db-ccf0-8a36e3423c05"
      },
      "source": [
        "ran.fit(x_train,y_train)"
      ],
      "execution_count": 12,
      "outputs": [
        {
          "output_type": "execute_result",
          "data": {
            "text/plain": [
              "RandomForestClassifier(bootstrap=True, ccp_alpha=0.0, class_weight=None,\n",
              "                       criterion='gini', max_depth=None, max_features='auto',\n",
              "                       max_leaf_nodes=None, max_samples=None,\n",
              "                       min_impurity_decrease=0.0, min_impurity_split=None,\n",
              "                       min_samples_leaf=1, min_samples_split=2,\n",
              "                       min_weight_fraction_leaf=0.0, n_estimators=100,\n",
              "                       n_jobs=None, oob_score=False, random_state=None,\n",
              "                       verbose=0, warm_start=False)"
            ]
          },
          "metadata": {
            "tags": []
          },
          "execution_count": 12
        }
      ]
    },
    {
      "cell_type": "code",
      "metadata": {
        "id": "uw9Ffq3Er-Ve",
        "colab_type": "code",
        "colab": {
          "base_uri": "https://localhost:8080/",
          "height": 195
        },
        "outputId": "6f09824c-49f2-4e29-92c7-9370c6b208b0"
      },
      "source": [
        "y_pred = ran.predict(x_test)   #predicting on the classifier\n",
        "print(classification_report(ran.predict(x_test),y_test))#default threshold(0.5)"
      ],
      "execution_count": 13,
      "outputs": [
        {
          "output_type": "stream",
          "text": [
            "              precision    recall  f1-score   support\n",
            "\n",
            "    negative       0.45      0.74      0.56       105\n",
            "     neutral       0.95      0.79      0.86       872\n",
            "    positive       0.24      0.59      0.34        51\n",
            "\n",
            "    accuracy                           0.77      1028\n",
            "   macro avg       0.54      0.71      0.59      1028\n",
            "weighted avg       0.86      0.77      0.80      1028\n",
            "\n"
          ],
          "name": "stdout"
        }
      ]
    },
    {
      "cell_type": "code",
      "metadata": {
        "id": "cf_HLFe_r-QG",
        "colab_type": "code",
        "colab": {}
      },
      "source": [
        "#roc auc score function\n",
        "def multiclass_roc_auc_score(y_test, y_pred, average='macro'):\n",
        "  lb = LabelBinarizer()\n",
        "  lb.fit(y_test)\n",
        "  Y_test = lb.transform(y_test)\n",
        "  y_pred = lb.transform(y_pred)\n",
        "  return roc_auc_score(Y_test, y_pred, average=average)"
      ],
      "execution_count": 0,
      "outputs": []
    },
    {
      "cell_type": "code",
      "metadata": {
        "id": "a8QjoYpgsOsV",
        "colab_type": "code",
        "colab": {
          "base_uri": "https://localhost:8080/",
          "height": 35
        },
        "outputId": "e497fad2-77da-45a7-9d8b-8057be0ebb39"
      },
      "source": [
        "multiclass_roc_auc_score(y_test, y_pred)   #getting the roc score"
      ],
      "execution_count": 15,
      "outputs": [
        {
          "output_type": "execute_result",
          "data": {
            "text/plain": [
              "0.6604211823389009"
            ]
          },
          "metadata": {
            "tags": []
          },
          "execution_count": 15
        }
      ]
    },
    {
      "cell_type": "code",
      "metadata": {
        "id": "COLOH_XosOy3",
        "colab_type": "code",
        "colab": {}
      },
      "source": [
        "le = LabelEncoder()   #label enoding\n",
        "Y_test = le.fit_transform(y_test)"
      ],
      "execution_count": 0,
      "outputs": []
    },
    {
      "cell_type": "code",
      "metadata": {
        "id": "-bGezG4ksO4P",
        "colab_type": "code",
        "colab": {
          "base_uri": "https://localhost:8080/",
          "height": 141
        },
        "outputId": "ae55bf6b-8fdf-480a-f735-692cf3a4b622"
      },
      "source": [
        "pred_ran = ran.predict_proba(x_test)\n",
        "pred_ran"
      ],
      "execution_count": 17,
      "outputs": [
        {
          "output_type": "execute_result",
          "data": {
            "text/plain": [
              "array([[0.02      , 0.938     , 0.042     ],\n",
              "       [0.01      , 0.29      , 0.7       ],\n",
              "       [0.16      , 0.66      , 0.18      ],\n",
              "       ...,\n",
              "       [0.        , 0.88081833, 0.11918167],\n",
              "       [0.29      , 0.678125  , 0.031875  ],\n",
              "       [0.        , 0.92007481, 0.07992519]])"
            ]
          },
          "metadata": {
            "tags": []
          },
          "execution_count": 17
        }
      ]
    },
    {
      "cell_type": "markdown",
      "metadata": {
        "id": "_U9ZXb-dscYm",
        "colab_type": "text"
      },
      "source": [
        "LIGHTGBM"
      ]
    },
    {
      "cell_type": "code",
      "metadata": {
        "id": "Vz-lvOvUsOyK",
        "colab_type": "code",
        "colab": {}
      },
      "source": [
        "params = { \n",
        "    \"objective\" : \"multiclass\",\n",
        "    'boosting_type': 'gbdt',\n",
        "    'objective': 'multiclass',\n",
        "    'num_class':3,\n",
        "    'learning_rate':0.01,\n",
        "    'max_depth': 7,\n",
        "    'num_leaves': 127,\n",
        "    'feature_fraction': 0.4,\n",
        "    'bagging_freq': 10,\n",
        "    'num_iterations':1000 ,\n",
        "    'max_bin' : 32}  #parameters"
      ],
      "execution_count": 0,
      "outputs": []
    },
    {
      "cell_type": "code",
      "metadata": {
        "id": "WhHJ_Unqsluv",
        "colab_type": "code",
        "colab": {}
      },
      "source": [
        "le = LabelEncoder()  \n",
        "d_train = lgb.Dataset(x_train,le.fit_transform(y_train))"
      ],
      "execution_count": 0,
      "outputs": []
    },
    {
      "cell_type": "code",
      "metadata": {
        "id": "I5nraa3Rslt9",
        "colab_type": "code",
        "colab": {
          "base_uri": "https://localhost:8080/",
          "height": 52
        },
        "outputId": "9eb1d8ff-71ab-4ad0-e183-43e1f1e71bfe"
      },
      "source": [
        "clf = lgb.train( params,d_train, 100)"
      ],
      "execution_count": 20,
      "outputs": [
        {
          "output_type": "stream",
          "text": [
            "/usr/local/lib/python3.6/dist-packages/lightgbm/engine.py:118: UserWarning: Found `num_iterations` in params. Will use it instead of argument\n",
            "  warnings.warn(\"Found `{}` in params. Will use it instead of argument\".format(alias))\n"
          ],
          "name": "stderr"
        }
      ]
    },
    {
      "cell_type": "code",
      "metadata": {
        "id": "fjAAO1C6slqb",
        "colab_type": "code",
        "colab": {}
      },
      "source": [
        "preds = clf.predict(x_test)\n",
        "best_preds= [np.argmax(line) for line in preds]"
      ],
      "execution_count": 0,
      "outputs": []
    },
    {
      "cell_type": "code",
      "metadata": {
        "id": "6eK_Wdxeslpu",
        "colab_type": "code",
        "colab": {
          "base_uri": "https://localhost:8080/",
          "height": 35
        },
        "outputId": "c321b2ad-f747-491d-e378-538112553e5e"
      },
      "source": [
        "np.bincount((le.fit_transform(y_train)))"
      ],
      "execution_count": 22,
      "outputs": [
        {
          "output_type": "execute_result",
          "data": {
            "text/plain": [
              "array([ 397, 1605,  394])"
            ]
          },
          "metadata": {
            "tags": []
          },
          "execution_count": 22
        }
      ]
    },
    {
      "cell_type": "code",
      "metadata": {
        "id": "Ii7Xqllesllw",
        "colab_type": "code",
        "colab": {
          "base_uri": "https://localhost:8080/",
          "height": 195
        },
        "outputId": "5cd6c93e-958d-4134-8791-e0243b00699f"
      },
      "source": [
        "print(classification_report(le.inverse_transform(best_preds),y_test))"
      ],
      "execution_count": 23,
      "outputs": [
        {
          "output_type": "stream",
          "text": [
            "              precision    recall  f1-score   support\n",
            "\n",
            "    negative       0.25      0.56      0.34        77\n",
            "     neutral       0.94      0.75      0.83       922\n",
            "    positive       0.09      0.38      0.14        29\n",
            "\n",
            "    accuracy                           0.72      1028\n",
            "   macro avg       0.43      0.56      0.44      1028\n",
            "weighted avg       0.87      0.72      0.78      1028\n",
            "\n"
          ],
          "name": "stdout"
        }
      ]
    },
    {
      "cell_type": "code",
      "metadata": {
        "id": "bau6KQl6slk_",
        "colab_type": "code",
        "colab": {
          "base_uri": "https://localhost:8080/",
          "height": 35
        },
        "outputId": "b01fd196-71a6-47ca-8262-6f0fa0fbace8"
      },
      "source": [
        "np.bincount((best_preds))"
      ],
      "execution_count": 24,
      "outputs": [
        {
          "output_type": "execute_result",
          "data": {
            "text/plain": [
              "array([ 77, 922,  29])"
            ]
          },
          "metadata": {
            "tags": []
          },
          "execution_count": 24
        }
      ]
    },
    {
      "cell_type": "code",
      "metadata": {
        "id": "xQdGuM9ZslhY",
        "colab_type": "code",
        "colab": {
          "base_uri": "https://localhost:8080/",
          "height": 195
        },
        "outputId": "4a927f05-1fd2-4f18-f129-0b09ed2763f2"
      },
      "source": [
        "preds = clf.predict(x_train)\n",
        "best_preds_train= [np.argmax(line) for line in preds]\n",
        "print(classification_report(le.inverse_transform(best_preds_train),y_train))"
      ],
      "execution_count": 25,
      "outputs": [
        {
          "output_type": "stream",
          "text": [
            "              precision    recall  f1-score   support\n",
            "\n",
            "    negative       0.32      0.73      0.44       172\n",
            "     neutral       0.97      0.74      0.84      2101\n",
            "    positive       0.25      0.80      0.38       123\n",
            "\n",
            "    accuracy                           0.74      2396\n",
            "   macro avg       0.51      0.76      0.55      2396\n",
            "weighted avg       0.88      0.74      0.79      2396\n",
            "\n"
          ],
          "name": "stdout"
        }
      ]
    },
    {
      "cell_type": "code",
      "metadata": {
        "id": "1p1yvclxslgm",
        "colab_type": "code",
        "colab": {
          "base_uri": "https://localhost:8080/",
          "height": 835
        },
        "outputId": "2c941d32-fbb8-4285-dbd6-9636a423f0ef"
      },
      "source": [
        "\n",
        "print(\"Default Threshold for lgbm : \\n\",classification_report(le.inverse_transform(best_preds_train),y_train))\n",
        "def thresh_1(array):\n",
        "  a = []\n",
        "  for i in range(len(array)):\n",
        "    if max(array[i])>0.6:\n",
        "      a.append(np.argmax(array[i]))\n",
        "    else:\n",
        "      a.append(2)\n",
        "  return a\n",
        "print(\"\\n 0.6 Threshold for lgbm : \\n\",classification_report(le.inverse_transform(thresh_1(preds)),y_train))\n",
        "      \n",
        "###For RandomForest\n",
        "pred_rf = ran.predict_proba(x_test)\n",
        "print(\"Default Threshold for rf : \\n\",(classification_report(ran.predict(x_test),y_test)))\n",
        "print(\"\\n 0.6 threshold for rf : \\n\",classification_report(le.inverse_transform(thresh_1(pred_rf)),y_test) )"
      ],
      "execution_count": 26,
      "outputs": [
        {
          "output_type": "stream",
          "text": [
            "Default Threshold for lgbm : \n",
            "               precision    recall  f1-score   support\n",
            "\n",
            "    negative       0.32      0.73      0.44       172\n",
            "     neutral       0.97      0.74      0.84      2101\n",
            "    positive       0.25      0.80      0.38       123\n",
            "\n",
            "    accuracy                           0.74      2396\n",
            "   macro avg       0.51      0.76      0.55      2396\n",
            "weighted avg       0.88      0.74      0.79      2396\n",
            "\n",
            "\n",
            " 0.6 Threshold for lgbm : \n",
            "               precision    recall  f1-score   support\n",
            "\n",
            "    negative       0.12      0.85      0.21        55\n",
            "     neutral       0.84      0.82      0.83      1637\n",
            "    positive       0.59      0.33      0.43       704\n",
            "\n",
            "    accuracy                           0.68      2396\n",
            "   macro avg       0.52      0.67      0.49      2396\n",
            "weighted avg       0.75      0.68      0.70      2396\n",
            "\n",
            "Default Threshold for rf : \n",
            "               precision    recall  f1-score   support\n",
            "\n",
            "    negative       0.45      0.74      0.56       105\n",
            "     neutral       0.95      0.79      0.86       872\n",
            "    positive       0.24      0.59      0.34        51\n",
            "\n",
            "    accuracy                           0.77      1028\n",
            "   macro avg       0.54      0.71      0.59      1028\n",
            "weighted avg       0.86      0.77      0.80      1028\n",
            "\n",
            "\n",
            " 0.6 threshold for rf : \n",
            "               precision    recall  f1-score   support\n",
            "\n",
            "    negative       0.15      0.84      0.25        31\n",
            "     neutral       0.83      0.84      0.84       722\n",
            "    positive       0.54      0.24      0.33       275\n",
            "\n",
            "    accuracy                           0.68      1028\n",
            "   macro avg       0.51      0.64      0.47      1028\n",
            "weighted avg       0.73      0.68      0.68      1028\n",
            "\n"
          ],
          "name": "stdout"
        }
      ]
    },
    {
      "cell_type": "code",
      "metadata": {
        "id": "Bxo0-BUZslc8",
        "colab_type": "code",
        "colab": {
          "base_uri": "https://localhost:8080/",
          "height": 835
        },
        "outputId": "d7883a24-2d34-4792-e52b-a530a9ebed6c"
      },
      "source": [
        "print(\"Default Threshold for lgbm : \\n\",classification_report(le.inverse_transform(best_preds_train),y_train))\n",
        "def thresh_2(array):\n",
        "  a = []\n",
        "  for i in range(len(array)):\n",
        "    if max(array[i])>0.7:\n",
        "      a.append(np.argmax(array[i]))\n",
        "    else:\n",
        "      a.append(2)\n",
        "  return a\n",
        "print(\"\\n 0.7 Threshold for lgbm : \\n\",classification_report(le.inverse_transform(thresh_2(preds)),y_train))\n",
        "      \n",
        "###For RandomForest\n",
        "pred_rf = ran.predict_proba(x_test)\n",
        "print(\"Default Threshold for rf : \\n\",(classification_report(ran.predict(x_test),y_test)))\n",
        "print(\"\\n 0.7 threshold for rf : \\n\",classification_report(le.inverse_transform(thresh_2(pred_rf)),y_test) )"
      ],
      "execution_count": 27,
      "outputs": [
        {
          "output_type": "stream",
          "text": [
            "Default Threshold for lgbm : \n",
            "               precision    recall  f1-score   support\n",
            "\n",
            "    negative       0.32      0.73      0.44       172\n",
            "     neutral       0.97      0.74      0.84      2101\n",
            "    positive       0.25      0.80      0.38       123\n",
            "\n",
            "    accuracy                           0.74      2396\n",
            "   macro avg       0.51      0.76      0.55      2396\n",
            "weighted avg       0.88      0.74      0.79      2396\n",
            "\n",
            "\n",
            " 0.7 Threshold for lgbm : \n",
            "               precision    recall  f1-score   support\n",
            "\n",
            "    negative       0.07      0.90      0.12        29\n",
            "     neutral       0.71      0.86      0.78      1327\n",
            "    positive       0.75      0.28      0.41      1040\n",
            "\n",
            "    accuracy                           0.61      2396\n",
            "   macro avg       0.51      0.68      0.44      2396\n",
            "weighted avg       0.72      0.61      0.61      2396\n",
            "\n",
            "Default Threshold for rf : \n",
            "               precision    recall  f1-score   support\n",
            "\n",
            "    negative       0.45      0.74      0.56       105\n",
            "     neutral       0.95      0.79      0.86       872\n",
            "    positive       0.24      0.59      0.34        51\n",
            "\n",
            "    accuracy                           0.77      1028\n",
            "   macro avg       0.54      0.71      0.59      1028\n",
            "weighted avg       0.86      0.77      0.80      1028\n",
            "\n",
            "\n",
            " 0.7 threshold for rf : \n",
            "               precision    recall  f1-score   support\n",
            "\n",
            "    negative       0.10      1.00      0.18        17\n",
            "     neutral       0.74      0.87      0.80       620\n",
            "    positive       0.67      0.21      0.33       391\n",
            "\n",
            "    accuracy                           0.62      1028\n",
            "   macro avg       0.50      0.69      0.43      1028\n",
            "weighted avg       0.70      0.62      0.61      1028\n",
            "\n"
          ],
          "name": "stdout"
        }
      ]
    },
    {
      "cell_type": "code",
      "metadata": {
        "id": "jpSjIIqqslb0",
        "colab_type": "code",
        "colab": {
          "base_uri": "https://localhost:8080/",
          "height": 835
        },
        "outputId": "3b6c02ac-ff4e-45d5-b01c-62a3fb8c51c1"
      },
      "source": [
        "print(\"Default Threshold for lgbm : \\n\",classification_report(le.inverse_transform(best_preds_train),y_train))\n",
        "def thresh_3(array):\n",
        "  a = []\n",
        "  for i in range(len(array)):\n",
        "    if max(array[i])>0.8:\n",
        "      a.append(np.argmax(array[i]))\n",
        "    else:\n",
        "      a.append(2)\n",
        "  return a\n",
        "print(\"\\n 0.8 Threshold for lgbm : \\n\",classification_report(le.inverse_transform(thresh_3(preds)),y_train))\n",
        "      \n",
        "###For RandomForest\n",
        "pred_rf = ran.predict_proba(x_test)\n",
        "print(\"Default Threshold for rf : \\n\",(classification_report(ran.predict(x_test),y_test)))\n",
        "print(\"\\n 0.8 threshold for rf : \\n\",classification_report(le.inverse_transform(thresh_3(pred_rf)),y_test) )"
      ],
      "execution_count": 28,
      "outputs": [
        {
          "output_type": "stream",
          "text": [
            "Default Threshold for lgbm : \n",
            "               precision    recall  f1-score   support\n",
            "\n",
            "    negative       0.32      0.73      0.44       172\n",
            "     neutral       0.97      0.74      0.84      2101\n",
            "    positive       0.25      0.80      0.38       123\n",
            "\n",
            "    accuracy                           0.74      2396\n",
            "   macro avg       0.51      0.76      0.55      2396\n",
            "weighted avg       0.88      0.74      0.79      2396\n",
            "\n",
            "\n",
            " 0.8 Threshold for lgbm : \n",
            "               precision    recall  f1-score   support\n",
            "\n",
            "    negative       0.03      0.85      0.05        13\n",
            "     neutral       0.42      0.92      0.58       737\n",
            "    positive       0.92      0.22      0.35      1646\n",
            "\n",
            "    accuracy                           0.44      2396\n",
            "   macro avg       0.46      0.66      0.33      2396\n",
            "weighted avg       0.76      0.44      0.42      2396\n",
            "\n",
            "Default Threshold for rf : \n",
            "               precision    recall  f1-score   support\n",
            "\n",
            "    negative       0.45      0.74      0.56       105\n",
            "     neutral       0.95      0.79      0.86       872\n",
            "    positive       0.24      0.59      0.34        51\n",
            "\n",
            "    accuracy                           0.77      1028\n",
            "   macro avg       0.54      0.71      0.59      1028\n",
            "weighted avg       0.86      0.77      0.80      1028\n",
            "\n",
            "\n",
            " 0.8 threshold for rf : \n",
            "               precision    recall  f1-score   support\n",
            "\n",
            "    negative       0.06      1.00      0.12        11\n",
            "     neutral       0.61      0.90      0.73       495\n",
            "    positive       0.80      0.19      0.31       522\n",
            "\n",
            "    accuracy                           0.54      1028\n",
            "   macro avg       0.49      0.70      0.39      1028\n",
            "weighted avg       0.70      0.54      0.51      1028\n",
            "\n"
          ],
          "name": "stdout"
        }
      ]
    }
  ]
}