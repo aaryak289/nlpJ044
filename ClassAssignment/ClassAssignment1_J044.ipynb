{
  "nbformat": 4,
  "nbformat_minor": 0,
  "metadata": {
    "colab": {
      "name": "ClassAssignment1_J044.ipynb",
      "provenance": [],
      "authorship_tag": "ABX9TyPcTULEfKxl9gE39UNLqhgy",
      "include_colab_link": true
    },
    "kernelspec": {
      "name": "python3",
      "display_name": "Python 3"
    }
  },
  "cells": [
    {
      "cell_type": "markdown",
      "metadata": {
        "id": "view-in-github",
        "colab_type": "text"
      },
      "source": [
        "<a href=\"https://colab.research.google.com/github/aaryak289/nlpJ044/blob/master/ClassAssignment/ClassAssignment1_J044.ipynb\" target=\"_parent\"><img src=\"https://colab.research.google.com/assets/colab-badge.svg\" alt=\"Open In Colab\"/></a>"
      ]
    },
    {
      "cell_type": "code",
      "metadata": {
        "id": "2dmIUsJ_x08t",
        "colab_type": "code",
        "colab": {}
      },
      "source": [
        "from sympy import isprime"
      ],
      "execution_count": 0,
      "outputs": []
    },
    {
      "cell_type": "code",
      "metadata": {
        "id": "FNK5Vc-Yx2KE",
        "colab_type": "code",
        "colab": {}
      },
      "source": [
        "def findPrime (n):\n",
        "    primeAmount = 0\n",
        "    primecheck = 1\n",
        "    while True:\n",
        "        if isprime(primecheck):\n",
        "            primeAmount +=1\n",
        "        if primeAmount >= n:\n",
        "            return (primecheck)\n",
        "        primecheck += 1"
      ],
      "execution_count": 0,
      "outputs": []
    },
    {
      "cell_type": "code",
      "metadata": {
        "id": "Quj8nHIQx2JV",
        "colab_type": "code",
        "colab": {
          "base_uri": "https://localhost:8080/",
          "height": 52
        },
        "outputId": "75245ac4-0e09-424c-8a35-28103b85a05a"
      },
      "source": [
        "n = input ('enter n: ')\n",
        "print('The ' + str(n) + 'th prime number is ' + str(findPrime(int(n))))"
      ],
      "execution_count": 3,
      "outputs": [
        {
          "output_type": "stream",
          "text": [
            "enter n: 5\n",
            "The 5th prime number is 11\n"
          ],
          "name": "stdout"
        }
      ]
    }
  ]
}