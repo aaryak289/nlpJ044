{
  "nbformat": 4,
  "nbformat_minor": 0,
  "metadata": {
    "colab": {
      "name": "ClassAssignment5_J044.ipynb",
      "provenance": [],
      "include_colab_link": true
    },
    "kernelspec": {
      "name": "python3",
      "display_name": "Python 3"
    }
  },
  "cells": [
    {
      "cell_type": "markdown",
      "metadata": {
        "id": "view-in-github",
        "colab_type": "text"
      },
      "source": [
        "<a href=\"https://colab.research.google.com/github/aaryak289/nlpJ044/blob/master/ClassAssignment/ClassAssignment5_J044.ipynb\" target=\"_parent\"><img src=\"https://colab.research.google.com/assets/colab-badge.svg\" alt=\"Open In Colab\"/></a>"
      ]
    },
    {
      "cell_type": "code",
      "metadata": {
        "id": "v_8bx2h3wLeF",
        "colab_type": "code",
        "colab": {
          "base_uri": "https://localhost:8080/",
          "height": 141
        },
        "outputId": "3ea3fe39-e6cf-46f7-e60b-585077df3f9e"
      },
      "source": [
        "!pip install word2vec #using word2vec to map words to vectors of real numbers"
      ],
      "execution_count": 13,
      "outputs": [
        {
          "output_type": "stream",
          "text": [
            "Requirement already satisfied: word2vec in /usr/local/lib/python3.6/dist-packages (0.10.2)\n",
            "Requirement already satisfied: cython in /usr/local/lib/python3.6/dist-packages (from word2vec) (0.29.14)\n",
            "Requirement already satisfied: scikit-learn in /usr/local/lib/python3.6/dist-packages (from word2vec) (0.21.3)\n",
            "Requirement already satisfied: six in /usr/local/lib/python3.6/dist-packages (from word2vec) (1.12.0)\n",
            "Requirement already satisfied: scipy in /usr/local/lib/python3.6/dist-packages (from word2vec) (1.3.3)\n",
            "Requirement already satisfied: numpy>=1.9.2 in /usr/local/lib/python3.6/dist-packages (from word2vec) (1.17.4)\n",
            "Requirement already satisfied: joblib>=0.11 in /usr/local/lib/python3.6/dist-packages (from scikit-learn->word2vec) (0.14.1)\n"
          ],
          "name": "stdout"
        }
      ]
    },
    {
      "cell_type": "code",
      "metadata": {
        "id": "ixcAIbxlxmU3",
        "colab_type": "code",
        "colab": {}
      },
      "source": [
        "import pandas as pd #importing all the packages\n",
        "import numpy as np\n",
        "from gensim.models import Word2Vec\n",
        "from nltk.corpus import stopwords\n",
        "from itertools import combinations\n",
        "import string"
      ],
      "execution_count": 0,
      "outputs": []
    },
    {
      "cell_type": "code",
      "metadata": {
        "id": "EcMivoAfxr0H",
        "colab_type": "code",
        "colab": {}
      },
      "source": [
        "data=pd.read_csv(\"https://raw.githubusercontent.com/zfz/twitter_corpus/master/full-corpus.csv\") #reading the data\n",
        "twit = data.copy()"
      ],
      "execution_count": 0,
      "outputs": []
    },
    {
      "cell_type": "code",
      "metadata": {
        "id": "xwmHCY_EyZ-B",
        "colab_type": "code",
        "colab": {}
      },
      "source": [
        "twit['tokenText'] = twit['TweetText'].apply(lambda x: list(set(x.translate(str.maketrans('','', string.punctuation)).split())))"
      ],
      "execution_count": 0,
      "outputs": []
    },
    {
      "cell_type": "code",
      "metadata": {
        "id": "ikfRHG3dy1_q",
        "colab_type": "code",
        "colab": {
          "base_uri": "https://localhost:8080/",
          "height": 230
        },
        "outputId": "a4b895b7-2d2d-4886-b8d5-3d5214b71fb3"
      },
      "source": [
        "twit['tokenText'] #naive bayes on credit,default"
      ],
      "execution_count": 17,
      "outputs": [
        {
          "output_type": "execute_result",
          "data": {
            "text/plain": [
              "0       [get, do, crack, all, it, that, has, iphone, I...\n",
              "1       [iPhone, more, adding, the, announced, to, car...\n",
              "2       [up, youtube, with, affair, apple, does, sums,...\n",
              "3       [made, switch, it, iPhone, See, RIM, you, for,...\n",
              "4       [reason, I, got, ios5, apple, twitter, realize...\n",
              "                              ...                        \n",
              "5108                         [twitter, re, copè, con, me]\n",
              "5109    [twitter, quierooo, genteeee, los, Buenas, noc...\n",
              "5110    [costumbre, yo, twitter, de, tiene, bno, la, m...\n",
              "5111    [aqui, dou, ao, profissional, bem, Muito, por,...\n",
              "5112    [os, este, tudo, foii, RT, humana, twitter, hi...\n",
              "Name: tokenText, Length: 5113, dtype: object"
            ]
          },
          "metadata": {
            "tags": []
          },
          "execution_count": 17
        }
      ]
    },
    {
      "cell_type": "code",
      "metadata": {
        "id": "4M2Ae-dwy199",
        "colab_type": "code",
        "colab": {}
      },
      "source": [
        "bagofwords = [[i] for i in list(set([y for x in twit['tokenText'] for y in x]))] #building the model using word2vec\n",
        "model3 = Word2Vec(list(bagofwords), min_count=1,size= 50,workers=3, window =3, sg = 1)"
      ],
      "execution_count": 0,
      "outputs": []
    },
    {
      "cell_type": "code",
      "metadata": {
        "id": "w2UorSBzxvNd",
        "colab_type": "code",
        "colab": {
          "base_uri": "https://localhost:8080/",
          "height": 872
        },
        "outputId": "521ce9f8-b870-4de6-e7c1-fcc08daadda1"
      },
      "source": [
        "for i in bagofwords[0:10]: #taking smaller sample of words for ease of computing\n",
        "  for j in bagofwords[0:10]:\n",
        "    if j>i:\n",
        "      print(i[0],j[0],' : ',model3.wv.similarity(i[0],j[0]))\n",
        "    else:\n",
        "      continue"
      ],
      "execution_count": 19,
      "outputs": [
        {
          "output_type": "stream",
          "text": [
            "blaving “RealJaythoven  :  -0.06918932\n",
            "blaving iTunesMatch  :  -0.15007514\n",
            "blaving pleased  :  -0.17843895\n",
            "blaving pq  :  -0.00506296\n",
            "blaving صاحبها  :  -0.25648305\n",
            "blaving file  :  -0.10562644\n",
            "basadas blaving  :  0.13176726\n",
            "basadas “RealJaythoven  :  0.22253455\n",
            "basadas iTunesMatch  :  -0.021314025\n",
            "basadas pleased  :  0.023498276\n",
            "basadas pq  :  0.10472324\n",
            "basadas صاحبها  :  -0.2335216\n",
            "basadas file  :  0.08491473\n",
            "iTunesMatch “RealJaythoven  :  -0.085924305\n",
            "iTunesMatch pleased  :  -0.1610679\n",
            "iTunesMatch pq  :  0.073296994\n",
            "iTunesMatch صاحبها  :  0.119044736\n",
            "SOY blaving  :  0.063755535\n",
            "SOY basadas  :  0.24808162\n",
            "SOY “RealJaythoven  :  0.27349192\n",
            "SOY iTunesMatch  :  -0.06070628\n",
            "SOY pleased  :  -0.049170665\n",
            "SOY pq  :  0.15934956\n",
            "SOY صاحبها  :  -0.24174583\n",
            "SOY file  :  0.073516734\n",
            "Papua blaving  :  0.060742904\n",
            "Papua basadas  :  0.25903702\n",
            "Papua “RealJaythoven  :  0.08394946\n",
            "Papua iTunesMatch  :  0.0076310458\n",
            "Papua SOY  :  0.056236446\n",
            "Papua pleased  :  0.0048892964\n",
            "Papua pq  :  0.17712097\n",
            "Papua صاحبها  :  -0.050918713\n",
            "Papua file  :  -0.09844142\n",
            "pleased “RealJaythoven  :  0.2895151\n",
            "pleased pq  :  0.1548505\n",
            "pleased صاحبها  :  0.0191391\n",
            "pq “RealJaythoven  :  0.08726593\n",
            "pq صاحبها  :  0.16203423\n",
            "صاحبها “RealJaythoven  :  0.09193627\n",
            "file “RealJaythoven  :  -0.073274076\n",
            "file iTunesMatch  :  -0.37537128\n",
            "file pleased  :  0.003292755\n",
            "file pq  :  0.1195269\n",
            "file صاحبها  :  0.0139746955\n"
          ],
          "name": "stdout"
        },
        {
          "output_type": "stream",
          "text": [
            "/usr/local/lib/python3.6/dist-packages/gensim/matutils.py:737: FutureWarning: Conversion of the second argument of issubdtype from `int` to `np.signedinteger` is deprecated. In future, it will be treated as `np.int64 == np.dtype(int).type`.\n",
            "  if np.issubdtype(vec.dtype, np.int):\n"
          ],
          "name": "stderr"
        }
      ]
    },
    {
      "cell_type": "code",
      "metadata": {
        "id": "5gGUwn86zCrO",
        "colab_type": "code",
        "colab": {}
      },
      "source": [
        ""
      ],
      "execution_count": 0,
      "outputs": []
    }
  ]
}