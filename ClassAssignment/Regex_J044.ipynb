{
  "nbformat": 4,
  "nbformat_minor": 0,
  "metadata": {
    "colab": {
      "name": "Regex_J044.ipynb",
      "provenance": [],
      "authorship_tag": "ABX9TyOoM/qiIA1spKPgpxLlI3fZ",
      "include_colab_link": true
    },
    "kernelspec": {
      "name": "python3",
      "display_name": "Python 3"
    }
  },
  "cells": [
    {
      "cell_type": "markdown",
      "metadata": {
        "id": "view-in-github",
        "colab_type": "text"
      },
      "source": [
        "<a href=\"https://colab.research.google.com/github/aaryak289/nlpJ044/blob/master/ClassAssignment/Regex_J044.ipynb\" target=\"_parent\"><img src=\"https://colab.research.google.com/assets/colab-badge.svg\" alt=\"Open In Colab\"/></a>"
      ]
    },
    {
      "cell_type": "markdown",
      "metadata": {
        "id": "3-gnKOF19vD2",
        "colab_type": "text"
      },
      "source": [
        "AARYAK SHANDILYA J044"
      ]
    },
    {
      "cell_type": "code",
      "metadata": {
        "id": "c3_eg-oz8JI8",
        "colab_type": "code",
        "colab": {}
      },
      "source": [
        "import re  #importing library for regex"
      ],
      "execution_count": 0,
      "outputs": []
    },
    {
      "cell_type": "code",
      "metadata": {
        "id": "l_LZa0-68ODu",
        "colab_type": "code",
        "colab": {}
      },
      "source": [
        "stringr = 'alpha beta dumes aaryak.beta11@gmail.du.in anukritisharma@gmail.com'"
      ],
      "execution_count": 0,
      "outputs": []
    },
    {
      "cell_type": "code",
      "metadata": {
        "id": "I6qsM9cV8OIQ",
        "colab_type": "code",
        "colab": {}
      },
      "source": [
        "pattern = r'[\\w.]+@+[\\w+.]*' looking for pattern"
      ],
      "execution_count": 0,
      "outputs": []
    },
    {
      "cell_type": "code",
      "metadata": {
        "id": "jfbaW3398OOd",
        "colab_type": "code",
        "colab": {
          "base_uri": "https://localhost:8080/",
          "height": 35
        },
        "outputId": "acd953b4-ee92-45bd-cb85-7bcc908bb21f"
      },
      "source": [
        "re.findall(pattern,stringr)  #output of the pattern "
      ],
      "execution_count": 4,
      "outputs": [
        {
          "output_type": "execute_result",
          "data": {
            "text/plain": [
              "['aaryak.beta11@gmail.du.in', 'anukritisharma@gmail.com']"
            ]
          },
          "metadata": {
            "tags": []
          },
          "execution_count": 4
        }
      ]
    },
    {
      "cell_type": "code",
      "metadata": {
        "id": "yQQqOrhH8OTw",
        "colab_type": "code",
        "colab": {}
      },
      "source": [
        "patternnum = r'\\b\\d{10}\\b'"
      ],
      "execution_count": 0,
      "outputs": []
    },
    {
      "cell_type": "code",
      "metadata": {
        "id": "T_9bR-2I8ON1",
        "colab_type": "code",
        "colab": {
          "base_uri": "https://localhost:8080/",
          "height": 35
        },
        "outputId": "e7ad3024-6c64-470b-eb1b-a9d6d4ec8849"
      },
      "source": [
        "re.findall(patternnum,'bhgf&**091349730968570198beta4 123456789 1234')  #does not satisfy the pattern that is why output is null"
      ],
      "execution_count": 8,
      "outputs": [
        {
          "output_type": "execute_result",
          "data": {
            "text/plain": [
              "[]"
            ]
          },
          "metadata": {
            "tags": []
          },
          "execution_count": 8
        }
      ]
    },
    {
      "cell_type": "code",
      "metadata": {
        "id": "WcvRvWl78OHp",
        "colab_type": "code",
        "colab": {}
      },
      "source": [
        ""
      ],
      "execution_count": 0,
      "outputs": []
    },
    {
      "cell_type": "code",
      "metadata": {
        "id": "sX6-zgdH8OCI",
        "colab_type": "code",
        "colab": {}
      },
      "source": [
        ""
      ],
      "execution_count": 0,
      "outputs": []
    }
  ]
}