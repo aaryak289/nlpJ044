{
  "nbformat": 4,
  "nbformat_minor": 0,
  "metadata": {
    "colab": {
      "name": "ClassAssignment2_J044.ipynb",
      "provenance": [],
      "include_colab_link": true
    },
    "kernelspec": {
      "name": "python3",
      "display_name": "Python 3"
    }
  },
  "cells": [
    {
      "cell_type": "markdown",
      "metadata": {
        "id": "view-in-github",
        "colab_type": "text"
      },
      "source": [
        "<a href=\"https://colab.research.google.com/github/aaryak289/nlpJ044/blob/master/ClassAssignment/ClassAssignment2_J044.ipynb\" target=\"_parent\"><img src=\"https://colab.research.google.com/assets/colab-badge.svg\" alt=\"Open In Colab\"/></a>"
      ]
    },
    {
      "cell_type": "code",
      "metadata": {
        "id": "NVNxxz2gUqxv",
        "colab_type": "code",
        "colab": {}
      },
      "source": [
        "import pandas as pd \n",
        "data=pd.read_json(\"http://snap.stanford.edu/data/amazon/productGraph/categoryFiles/reviews_Office_Products_5.json.gz\",lines= True,orient='values')"
      ],
      "execution_count": 0,
      "outputs": []
    },
    {
      "cell_type": "code",
      "metadata": {
        "id": "8_Uxs6ifVcsR",
        "colab_type": "code",
        "colab": {
          "base_uri": "https://localhost:8080/",
          "height": 280
        },
        "outputId": "073624f9-70eb-4b4f-f502-73be8241f5f2"
      },
      "source": [
        "data.head()"
      ],
      "execution_count": 2,
      "outputs": [
        {
          "output_type": "execute_result",
          "data": {
            "text/html": [
              "<div>\n",
              "<style scoped>\n",
              "    .dataframe tbody tr th:only-of-type {\n",
              "        vertical-align: middle;\n",
              "    }\n",
              "\n",
              "    .dataframe tbody tr th {\n",
              "        vertical-align: top;\n",
              "    }\n",
              "\n",
              "    .dataframe thead th {\n",
              "        text-align: right;\n",
              "    }\n",
              "</style>\n",
              "<table border=\"1\" class=\"dataframe\">\n",
              "  <thead>\n",
              "    <tr style=\"text-align: right;\">\n",
              "      <th></th>\n",
              "      <th>reviewerID</th>\n",
              "      <th>asin</th>\n",
              "      <th>reviewerName</th>\n",
              "      <th>helpful</th>\n",
              "      <th>reviewText</th>\n",
              "      <th>overall</th>\n",
              "      <th>summary</th>\n",
              "      <th>unixReviewTime</th>\n",
              "      <th>reviewTime</th>\n",
              "    </tr>\n",
              "  </thead>\n",
              "  <tbody>\n",
              "    <tr>\n",
              "      <th>0</th>\n",
              "      <td>A32T2H8150OJLU</td>\n",
              "      <td>B00000JBLH</td>\n",
              "      <td>ARH</td>\n",
              "      <td>[3, 4]</td>\n",
              "      <td>I bought my first HP12C in about 1984 or so, a...</td>\n",
              "      <td>5</td>\n",
              "      <td>A solid performer, and long time friend</td>\n",
              "      <td>1094169600</td>\n",
              "      <td>09 3, 2004</td>\n",
              "    </tr>\n",
              "    <tr>\n",
              "      <th>1</th>\n",
              "      <td>A3MAFS04ZABRGO</td>\n",
              "      <td>B00000JBLH</td>\n",
              "      <td>Let it Be \"Alan\"</td>\n",
              "      <td>[7, 9]</td>\n",
              "      <td>WHY THIS BELATED REVIEW? I feel very obliged t...</td>\n",
              "      <td>5</td>\n",
              "      <td>Price of GOLD is up, so don't bury the golden ...</td>\n",
              "      <td>1197676800</td>\n",
              "      <td>12 15, 2007</td>\n",
              "    </tr>\n",
              "    <tr>\n",
              "      <th>2</th>\n",
              "      <td>A1F1A0QQP2XVH5</td>\n",
              "      <td>B00000JBLH</td>\n",
              "      <td>Mark B</td>\n",
              "      <td>[3, 3]</td>\n",
              "      <td>I have an HP 48GX that has been kicking for mo...</td>\n",
              "      <td>2</td>\n",
              "      <td>Good functionality, but not durable like old HPs</td>\n",
              "      <td>1293840000</td>\n",
              "      <td>01 1, 2011</td>\n",
              "    </tr>\n",
              "    <tr>\n",
              "      <th>3</th>\n",
              "      <td>A49R5DBXXQDE5</td>\n",
              "      <td>B00000JBLH</td>\n",
              "      <td>R. D Johnson</td>\n",
              "      <td>[7, 8]</td>\n",
              "      <td>I've started doing more finance stuff recently...</td>\n",
              "      <td>5</td>\n",
              "      <td>One of the last of an almost extinct species</td>\n",
              "      <td>1145404800</td>\n",
              "      <td>04 19, 2006</td>\n",
              "    </tr>\n",
              "    <tr>\n",
              "      <th>4</th>\n",
              "      <td>A2XRMQA6PJ5ZJ8</td>\n",
              "      <td>B00000JBLH</td>\n",
              "      <td>Roger J. Buffington</td>\n",
              "      <td>[0, 0]</td>\n",
              "      <td>For simple calculations and discounted cash fl...</td>\n",
              "      <td>5</td>\n",
              "      <td>Still the best</td>\n",
              "      <td>1375574400</td>\n",
              "      <td>08 4, 2013</td>\n",
              "    </tr>\n",
              "  </tbody>\n",
              "</table>\n",
              "</div>"
            ],
            "text/plain": [
              "       reviewerID        asin  ... unixReviewTime   reviewTime\n",
              "0  A32T2H8150OJLU  B00000JBLH  ...     1094169600   09 3, 2004\n",
              "1  A3MAFS04ZABRGO  B00000JBLH  ...     1197676800  12 15, 2007\n",
              "2  A1F1A0QQP2XVH5  B00000JBLH  ...     1293840000   01 1, 2011\n",
              "3   A49R5DBXXQDE5  B00000JBLH  ...     1145404800  04 19, 2006\n",
              "4  A2XRMQA6PJ5ZJ8  B00000JBLH  ...     1375574400   08 4, 2013\n",
              "\n",
              "[5 rows x 9 columns]"
            ]
          },
          "metadata": {
            "tags": []
          },
          "execution_count": 2
        }
      ]
    },
    {
      "cell_type": "code",
      "metadata": {
        "id": "d_KrmlLKVfz-",
        "colab_type": "code",
        "colab": {}
      },
      "source": [
        "#Using a function to count the vowels and consonants\n",
        "\n",
        "def vowel_count(str):\n",
        "    #Initializing dictionary\n",
        "    vowels = 'aeiou'\n",
        "    consonants= 'bcdfghjklmnpqrstvwxyz'\n",
        "    counts = dict()\n",
        "    vowel_count = 0\n",
        "    word_count = 0\n",
        "    consonant_count = 0\n",
        "\n",
        "    string = str.lower().split() #converting to lower case\n",
        "    #Creating a for loop which will maintain the word count\n",
        "    for i in str.lower():\n",
        "        #Checking for vowels\n",
        "        if i in vowels:\n",
        "          vowel_count+=1\n",
        "        if i in consonants:\n",
        "          consonant_count+=1\n",
        "        word_count = len(string)     \n",
        "    counts['Vowels'] = vowel_count\n",
        "    counts['Consonants'] = consonant_count\n",
        "    counts['Words'] = word_count\n",
        "\n",
        "    return counts"
      ],
      "execution_count": 0,
      "outputs": []
    },
    {
      "cell_type": "code",
      "metadata": {
        "id": "SqaNF6OPVgDO",
        "colab_type": "code",
        "colab": {
          "base_uri": "https://localhost:8080/",
          "height": 217
        },
        "outputId": "1c58c7dd-412a-47c7-f580-ce578bc501f4"
      },
      "source": [
        "data.reviewText.apply(vowel_count,1)"
      ],
      "execution_count": 12,
      "outputs": [
        {
          "output_type": "execute_result",
          "data": {
            "text/plain": [
              "0         {'Vowels': 279, 'Consonants': 437, 'Words': 186}\n",
              "1        {'Vowels': 1504, 'Consonants': 2685, 'Words': ...\n",
              "2          {'Vowels': 134, 'Consonants': 235, 'Words': 96}\n",
              "3        {'Vowels': 1089, 'Consonants': 1775, 'Words': ...\n",
              "4         {'Vowels': 208, 'Consonants': 338, 'Words': 120}\n",
              "                               ...                        \n",
              "53253     {'Vowels': 236, 'Consonants': 358, 'Words': 146}\n",
              "53254    {'Vowels': 839, 'Consonants': 1308, 'Words': 498}\n",
              "53255     {'Vowels': 422, 'Consonants': 693, 'Words': 290}\n",
              "53256     {'Vowels': 232, 'Consonants': 335, 'Words': 147}\n",
              "53257     {'Vowels': 582, 'Consonants': 901, 'Words': 337}\n",
              "Name: reviewText, Length: 53258, dtype: object"
            ]
          },
          "metadata": {
            "tags": []
          },
          "execution_count": 12
        }
      ]
    },
    {
      "cell_type": "code",
      "metadata": {
        "id": "1B29WSglWRkI",
        "colab_type": "code",
        "colab": {
          "base_uri": "https://localhost:8080/",
          "height": 702
        },
        "outputId": "356fade9-795a-4cd0-d697-d5b3d3dddcb6"
      },
      "source": [
        "#Words starting with b or B using regex\n",
        "import re\n",
        "text=data.iloc[1].reviewText\n",
        "text\n",
        "re.findall(r'\\b[bB]\\w+', text)"
      ],
      "execution_count": 13,
      "outputs": [
        {
          "output_type": "execute_result",
          "data": {
            "text/plain": [
              "['BELATED',\n",
              " 'burying',\n",
              " 'brandname',\n",
              " 'best',\n",
              " 'business',\n",
              " 'before',\n",
              " 'business',\n",
              " 'bearer',\n",
              " 'boy',\n",
              " 'business',\n",
              " 'best',\n",
              " 'been',\n",
              " 'by',\n",
              " 'being',\n",
              " 'business',\n",
              " 'by',\n",
              " 'bear',\n",
              " 'by',\n",
              " 'by',\n",
              " 'because',\n",
              " 'by',\n",
              " 'BROKEN',\n",
              " 'be',\n",
              " 'by',\n",
              " 'Based',\n",
              " 'built',\n",
              " 'BETTER',\n",
              " 'BENCHMARKING',\n",
              " 'be',\n",
              " 'business',\n",
              " 'be',\n",
              " 'business',\n",
              " 'brandname',\n",
              " 'be',\n",
              " 'be',\n",
              " 'be',\n",
              " 'business',\n",
              " 'By',\n",
              " 'be',\n",
              " 'be',\n",
              " 'bearer']"
            ]
          },
          "metadata": {
            "tags": []
          },
          "execution_count": 13
        }
      ]
    },
    {
      "cell_type": "code",
      "metadata": {
        "id": "1VhJ5IzKW_WR",
        "colab_type": "code",
        "colab": {
          "base_uri": "https://localhost:8080/",
          "height": 435
        },
        "outputId": "6c0971e8-9a2b-444e-b175-597af949083a"
      },
      "source": [
        "#words ending with G or G using regEx\n",
        "text1=data.iloc[1].reviewText\n",
        "re.findall(r' \\b\\w+[gG]\\b ', text1)"
      ],
      "execution_count": 15,
      "outputs": [
        {
          "output_type": "execute_result",
          "data": {
            "text/plain": [
              "[' sharing ',\n",
              " ' burying ',\n",
              " ' praising ',\n",
              " ' including ',\n",
              " ' continuing ',\n",
              " ' surviving ',\n",
              " ' selling ',\n",
              " ' According ',\n",
              " ' selling ',\n",
              " ' remaining ',\n",
              " ' being ',\n",
              " ' using ',\n",
              " ' amusing ',\n",
              " ' disappointing ',\n",
              " ' frustrating ',\n",
              " ' remaking ',\n",
              " ' differentiating ',\n",
              " ' following ',\n",
              " ' MANUFACTURING ',\n",
              " ' BENCHMARKING ',\n",
              " ' listening ',\n",
              " ' puzzling ',\n",
              " ' replacing ',\n",
              " ' discontinuing ',\n",
              " ' missing ']"
            ]
          },
          "metadata": {
            "tags": []
          },
          "execution_count": 15
        }
      ]
    }
  ]
}