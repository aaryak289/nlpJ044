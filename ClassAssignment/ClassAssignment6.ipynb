{
  "nbformat": 4,
  "nbformat_minor": 0,
  "metadata": {
    "colab": {
      "name": "ClassAssignment6",
      "provenance": [],
      "include_colab_link": true
    },
    "kernelspec": {
      "name": "python3",
      "display_name": "Python 3"
    }
  },
  "cells": [
    {
      "cell_type": "markdown",
      "metadata": {
        "id": "view-in-github",
        "colab_type": "text"
      },
      "source": [
        "<a href=\"https://colab.research.google.com/github/aaryak289/nlpJ044/blob/master/ClassAssignment/ClassAssignment6.ipynb\" target=\"_parent\"><img src=\"https://colab.research.google.com/assets/colab-badge.svg\" alt=\"Open In Colab\"/></a>"
      ]
    },
    {
      "cell_type": "code",
      "metadata": {
        "id": "Yfe0IAUVQn95",
        "colab_type": "code",
        "colab": {}
      },
      "source": [
        "#Importing libraries\n",
        "import pandas as pd\n",
        "from sklearn.feature_extraction.text import CountVectorizer\n",
        "import re\n",
        "from sklearn.model_selection import train_test_split as tts\n",
        "from sklearn.ensemble import RandomForestClassifier\n",
        "import numpy as np\n",
        "from sklearn.preprocessing import LabelEncoder, LabelBinarizer\n",
        "from sklearn.metrics import confusion_matrix, classification_report, roc_auc_score"
      ],
      "execution_count": 0,
      "outputs": []
    },
    {
      "cell_type": "code",
      "metadata": {
        "id": "3RMBSd3D7NY1",
        "colab_type": "code",
        "colab": {}
      },
      "source": [
        "#Loading twitter data\n",
        "twitter = pd.read_csv('https://raw.githubusercontent.com/zfz/twitter_corpus/master/full-corpus.csv', error_bad_lines=False)"
      ],
      "execution_count": 0,
      "outputs": []
    },
    {
      "cell_type": "code",
      "metadata": {
        "id": "9ikrq5dQCHok",
        "colab_type": "code",
        "colab": {
          "base_uri": "https://localhost:8080/",
          "height": 194
        },
        "outputId": "8e10c93f-242e-4eec-beda-ee0a3e95ec0c"
      },
      "source": [
        "twitter.head()"
      ],
      "execution_count": 3,
      "outputs": [
        {
          "output_type": "execute_result",
          "data": {
            "text/html": [
              "<div>\n",
              "<style scoped>\n",
              "    .dataframe tbody tr th:only-of-type {\n",
              "        vertical-align: middle;\n",
              "    }\n",
              "\n",
              "    .dataframe tbody tr th {\n",
              "        vertical-align: top;\n",
              "    }\n",
              "\n",
              "    .dataframe thead th {\n",
              "        text-align: right;\n",
              "    }\n",
              "</style>\n",
              "<table border=\"1\" class=\"dataframe\">\n",
              "  <thead>\n",
              "    <tr style=\"text-align: right;\">\n",
              "      <th></th>\n",
              "      <th>Topic</th>\n",
              "      <th>Sentiment</th>\n",
              "      <th>TweetId</th>\n",
              "      <th>TweetDate</th>\n",
              "      <th>TweetText</th>\n",
              "    </tr>\n",
              "  </thead>\n",
              "  <tbody>\n",
              "    <tr>\n",
              "      <th>0</th>\n",
              "      <td>apple</td>\n",
              "      <td>positive</td>\n",
              "      <td>126415614616154112</td>\n",
              "      <td>Tue Oct 18 21:53:25 +0000 2011</td>\n",
              "      <td>Now all @Apple has to do is get swype on the i...</td>\n",
              "    </tr>\n",
              "    <tr>\n",
              "      <th>1</th>\n",
              "      <td>apple</td>\n",
              "      <td>positive</td>\n",
              "      <td>126404574230740992</td>\n",
              "      <td>Tue Oct 18 21:09:33 +0000 2011</td>\n",
              "      <td>@Apple will be adding more carrier support to ...</td>\n",
              "    </tr>\n",
              "    <tr>\n",
              "      <th>2</th>\n",
              "      <td>apple</td>\n",
              "      <td>positive</td>\n",
              "      <td>126402758403305474</td>\n",
              "      <td>Tue Oct 18 21:02:20 +0000 2011</td>\n",
              "      <td>Hilarious @youtube video - guy does a duet wit...</td>\n",
              "    </tr>\n",
              "    <tr>\n",
              "      <th>3</th>\n",
              "      <td>apple</td>\n",
              "      <td>positive</td>\n",
              "      <td>126397179614068736</td>\n",
              "      <td>Tue Oct 18 20:40:10 +0000 2011</td>\n",
              "      <td>@RIM you made it too easy for me to switch to ...</td>\n",
              "    </tr>\n",
              "    <tr>\n",
              "      <th>4</th>\n",
              "      <td>apple</td>\n",
              "      <td>positive</td>\n",
              "      <td>126395626979196928</td>\n",
              "      <td>Tue Oct 18 20:34:00 +0000 2011</td>\n",
              "      <td>I just realized that the reason I got into twi...</td>\n",
              "    </tr>\n",
              "  </tbody>\n",
              "</table>\n",
              "</div>"
            ],
            "text/plain": [
              "   Topic  ...                                          TweetText\n",
              "0  apple  ...  Now all @Apple has to do is get swype on the i...\n",
              "1  apple  ...  @Apple will be adding more carrier support to ...\n",
              "2  apple  ...  Hilarious @youtube video - guy does a duet wit...\n",
              "3  apple  ...  @RIM you made it too easy for me to switch to ...\n",
              "4  apple  ...  I just realized that the reason I got into twi...\n",
              "\n",
              "[5 rows x 5 columns]"
            ]
          },
          "metadata": {
            "tags": []
          },
          "execution_count": 3
        }
      ]
    },
    {
      "cell_type": "code",
      "metadata": {
        "id": "9bpFoOK0CHv7",
        "colab_type": "code",
        "colab": {}
      },
      "source": [
        "#Loading Amazon Data\n",
        "amazon = pd.read_json('http://snap.stanford.edu/data/amazon/productGraph/categoryFiles/reviews_Office_Products_5.json.gz', lines=True)"
      ],
      "execution_count": 0,
      "outputs": []
    },
    {
      "cell_type": "code",
      "metadata": {
        "id": "Vny6KCqTCH1Q",
        "colab_type": "code",
        "colab": {
          "base_uri": "https://localhost:8080/",
          "height": 35
        },
        "outputId": "d6f7022a-9f07-402d-e17e-984f16af4ca7"
      },
      "source": [
        "twitter.columns"
      ],
      "execution_count": 5,
      "outputs": [
        {
          "output_type": "execute_result",
          "data": {
            "text/plain": [
              "Index(['Topic', 'Sentiment', 'TweetId', 'TweetDate', 'TweetText'], dtype='object')"
            ]
          },
          "metadata": {
            "tags": []
          },
          "execution_count": 5
        }
      ]
    },
    {
      "cell_type": "code",
      "metadata": {
        "id": "ovFoewHDCIE9",
        "colab_type": "code",
        "colab": {
          "base_uri": "https://localhost:8080/",
          "height": 35
        },
        "outputId": "507aa5ef-99c7-43b2-a67c-abf35f2befa9"
      },
      "source": [
        "twitter['Sentiment'].unique()"
      ],
      "execution_count": 6,
      "outputs": [
        {
          "output_type": "execute_result",
          "data": {
            "text/plain": [
              "array(['positive', 'negative', 'neutral', 'irrelevant'], dtype=object)"
            ]
          },
          "metadata": {
            "tags": []
          },
          "execution_count": 6
        }
      ]
    },
    {
      "cell_type": "code",
      "metadata": {
        "id": "wJLYOMJsCIEX",
        "colab_type": "code",
        "colab": {}
      },
      "source": [
        "def Preprocessing(text):\n",
        "  #Initializing a dataframe of stopwords\n",
        "  stop_words = pd.read_csv(\"https://gist.githubusercontent.com/sebleier/554280/raw/7e0e4a1ce04c2bb7bd41089c9821dbcf6d0c786c/NLTK's%2520list%2520of%2520english%2520stopwords\")\n",
        "  stop_words.values.tolist()\n",
        "\n",
        "  #Considering only alpha-numeric characters, numeric digits not even considered\n",
        "  text = re.findall(r'\\b[A-Za-z]\\w+\\b', text)\n",
        "  \n",
        "  #Remove stopwords\n",
        "  for word in text:\n",
        "    if word in stop_words:\n",
        "      text.remove(word)\n",
        "      \n",
        "  #Remove numerics\n",
        "  #res = ''.join([i for i in text if not i.isdigit()]) \n",
        "\n",
        "  #Remove @ and #\n",
        "  bad_chars = ['@', '#']\n",
        "  for i in text:\n",
        "    if i in bad_chars: \n",
        "      text = text.remove(i)\n",
        "  \n",
        "  text = list(text)\n",
        "\n",
        "  #Converting list to string\n",
        "  text = ' '.join(word for word in text)\n",
        "  return text"
      ],
      "execution_count": 0,
      "outputs": []
    },
    {
      "cell_type": "code",
      "metadata": {
        "id": "vkiWCUdlCHvT",
        "colab_type": "code",
        "colab": {
          "base_uri": "https://localhost:8080/",
          "height": 35
        },
        "outputId": "d52e4e83-673c-46fc-877d-fbf32dc85105"
      },
      "source": [
        "\n",
        "Preprocessing(twitter['TweetText'][0])"
      ],
      "execution_count": 8,
      "outputs": [
        {
          "output_type": "execute_result",
          "data": {
            "text/plain": [
              "'Now all Apple has to do is get swype on the iphone and it will be crack Iphone that is'"
            ]
          },
          "metadata": {
            "tags": []
          },
          "execution_count": 8
        }
      ]
    },
    {
      "cell_type": "code",
      "metadata": {
        "id": "2S7b0vHyCHnJ",
        "colab_type": "code",
        "colab": {}
      },
      "source": [
        "twitter['preprocessed_text'] = twitter['TweetText'].apply(Preprocessing,1)"
      ],
      "execution_count": 0,
      "outputs": []
    },
    {
      "cell_type": "code",
      "metadata": {
        "id": "ExZKkkJGA4Dg",
        "colab_type": "code",
        "colab": {
          "base_uri": "https://localhost:8080/",
          "height": 179
        },
        "outputId": "a22db7c2-bb22-4d41-9510-efa7a80f9252"
      },
      "source": [
        "#Count Vectorizer converts a text into a machine learning problem format. Thereby, making it possible to run machine learning algorithms on text data\n",
        "corpus = twitter['preprocessed_text'] \n",
        "vectorizer = CountVectorizer()\n",
        "X = vectorizer.fit_transform(corpus)\n",
        "print(vectorizer.get_feature_names()) #Column names\n",
        "print(X.toarray()) #Array of observations"
      ],
      "execution_count": 10,
      "outputs": [
        {
          "output_type": "stream",
          "text": [
            "['a050tg4l', 'a0wnchmi', 'a11y', 'a1arte', 'a1zgak5l', 'a23', 'a4ashlf6', 'a4wbqmc9', 'a6fllkge', 'a88zbr2o', 'a8on3iaa', 'a8tlwr3o', 'a8zqmpyp', 'a9', 'aa', 'aaa', 'aaargh', 'aac', 'aaddaqa7', 'aai', 'aalkhubaizi', 'aan', 'aanbieding', 'aanbod', 'aangekondigd', 'aantal', 'aantikken', 'aap7stht', 'aapl', 'ab', 'abaikan', 'abandonado', 'abandoned', 'abarcar', 'abbas', 'abbatterà', 'abbia', 'abbreviations', 'abc', 'abdullah347', 'abend', 'aberto', 'abhurvyc', 'abhördienst', 'abia', 'ability', 'able', 'abonnez', 'about', 'aboutthatlife', 'above', 'abrass', 'abrazan', 'abrazo', 'abraço', 'abraços', 'abren', 'abri', 'abrir', 'abro', 'abruma', 'absolutely', 'absoluto', 'absorbiendo', 'abstract', 'abstürze', 'absurdos', 'abt', 'aburre', 'aburrido', 'aburriiiidooo', 'aburrio', 'abusou', 'abzuhängen', 'ac', 'ac8jpjpk', 'acaba', 'acaban', 'acabará', 'acabas', 'acabo', 'acabou', 'academy', 'acap03y9', 'acappellamedia', 'acaso', 'acc', 'accelerate', 'accelerated', 'acceleration', 'accent', 'accenture', 'acceptable', 'accesibilidad', 'access', 'accessibility', 'accessibilité', 'accessing', 'accessnetworks', 'accessories', 'accidentalmente', 'accidently', 'accompanying', 'accord', 'according', 'account', 'accounts', 'acct', 'accu', 'accu_med', 'accuracy', 'accusa', 'accused', 'accusing', 'ace', 'acelerado', 'acerca', 'acervo', 'ach', 'acha', 'acheter', 'achieved', 'achter', 'achterhoede', 'acjrl4fo', 'acme', 'acompanhando', 'acordar', 'acostado', 'acquire', 'acquisition', 'acris_reys', 'acronyms', 'across', 'acting', 'action', 'activated', 'activating', 'active', 'activity', 'activo', 'acts', 'actual', 'actualicé', 'actualité', 'actualiza', 'actualización', 'actualizar', 'actualizenlaapp', 'actually', 'actuele', 'acuerdese', 'acuerdo', 'acá', 'ad', 'ada', 'adaddy101', 'adam', 'adamdince', 'adamnash', 'adasia', 'adat', 'adcenter', 'add', 'added', 'addict', 'addicted', 'addicting', 'addictive', 'adding', 'additional', 'address', 'adds', 'addthis', 'addurl', 'adems', 'ademá', 'aderricks', 'adgfbm1v', 'adiccion', 'adicción', 'adictivo', 'adictotr', 'adiman_', 'adios', 'adityasood', 'admin', 'administrador', 'administrator', 'admirably', 'admit', 'admite', 'admits', 'admitting', 'admv6cng', 'adobe', 'adobemax', 'adobeusergroup', 'adomani', 'adopted', 'adopterness', 'adopting', 'adoption', 'adoro', 'adquiere', 'adquirido', 'adquisición', 'adqycodd', 'adr_mart_com', 'adrianosabino2', 'ads', 'adsense', 'adt', 'adubatsdub', 'adult', 'adva', 'advance', 'advanced', 'advantage', 'advantages', 'advertise', 'advertisement', 'advertisements', 'advertisers', 'advertising', 'adverts', 'advierte', 'advisor', 'adweek', 'adwords', 'adyalessio', 'ae', 'aej1vrgj', 'af', 'afetati', 'aff', 'affair', 'affan', 'affect', 'affects', 'affichage', 'affichée', 'affichées', 'afford', 'afgerond', 'afgeven', 'afhx3m2n', 'afin', 'afm8vsmm', 'afortunado', 'afortunados', 'africa', 'afro', 'afsaane', 'afspraak', 'after', 'afternoon', 'afterthought', 'afwazwoy', 'ag', 'again', 'against', 'agc6pcz7', 'age', 'agency', 'agenda', 'agendas', 'agenturen', 'ages', 'aggiornamenti', 'aggiustamento', 'aggregates', 'aggressive', 'aghbaqmn', 'agitado', 'ago', 'agora', 'agr', 'agradecido', 'agree', 'agrega', 'agregan', 'agregar', 'agricole', 'aguante', 'agv49znj', 'ah', 'ah8km2jf', 'ah9kgrly', 'aha', 'ahaaa', 'ahahaa', 'ahce', 'ahead', 'ahennessyworld', 'ahh', 'ahhahahaha', 'ahhfuckitsguss', 'ahhh', 'ahhhh', 'ahhhhh', 'ahm1vzug', 'ahora', 'ahorita', 'ahoritaa', 'ahors', 'ahuahauahuahuahuahau', 'ahí', 'ai', 'aids', 'aigui', 'aii', 'aiii', 'aijysfho', 'aik3ejwt', 'aik96uxm', 'aikochristine', 'ailing', 'aim', 'aime', 'ain', 'ainda', 'aint', 'ainteeentrippin', 'air', 'airdrop', 'airplay', 'airport', 'airports', 'aislyngreene', 'aja', 'ajajaja', 'ajajajajaja', 'ajeitei', 'ajildavna', 'ajjaja', 'ajnabi', 'ajouter', 'ajrogers', 'ajuda', 'ajuster', 'ak', 'ak9xkdxt', 'aka', 'akan', 'aki', 'akie', 'akii', 'akirareiko', 'akita', 'aklnmkai', 'akosiadrienne', 'aktion', 'aktualizace', 'akuisisi', 'al', 'al_hashemy', 'ala', 'alabado', 'alaluya', 'alamo', 'alanlepo', 'alarm', 'alarms', 'albatross', 'albertlorente', 'albertmal88', 'albo', 'album', 'albums', 'alcance', 'alchemy', 'alcohol', 'alcohólico', 'alcool', 'aldictd1', 'alead', 'alecp93', 'aleeretana', 'aleexlima93', 'alegarcia001', 'alegro', 'alejado', 'alejadoo', 'alert', 'alerts', 'alexbabb9', 'alexlindsay', 'alexmufferi', 'alexthe_assholebabb', 'alg', 'algeria', 'algo', 'algodón', 'algorithm', 'algorithms', 'alguien', 'algun', 'alguna', 'algunos', 'ali', 'alibabaoglan', 'alisalam1990', 'alittle', 'alive', 'aljonkar', 'all', 'all3rgict0y0u', 'alle', 'alleen', 'alleged', 'allen', 'alleyupi', 'allie_hooker', 'alligatore', 'allmusic', 'allow', 'allowed', 'allowing', 'allows', 'allt', 'allthingsd', 'allthisass', 'alltogether', 'alltså', 'ally', 'allyfish87', 'alm', 'almacenamiento', 'almadık', 'almenos', 'almost', 'alomejor', 'alone', 'aloneinthedark', 'along', 'alongside', 'alos', 'alot', 'already', 'alright', 'alrite', 'als', 'also', 'altamente', 'alten', 'alternate', 'alternativas', 'alternative', 'alternatives', 'althans', 'although', 'altijd', 'alto', 'aluenterprise', 'alunos', 'always', 'alx2495', 'aléjate', 'am', 'ama', 'amable', 'amaboura', 'amalga', 'amandadgaf_16', 'amandafl_', 'amandbrar', 'amanha', 'amanhã', 'amarsanghera', 'amateur', 'amaturehour', 'amazed', 'amazes', 'amazing', 'amazon', 'ambani', 'ambercole', 'ame', 'amenaza', 'american', 'amerikusl', 'amiga', 'amigo', 'amigos', 'amiraaldewick', 'amizades', 'amma', 'ammazza', 'ammmylewis', 'amo', 'amoled', 'amongst', 'amoor', 'amor', 'amore', 'amores', 'amount', 'amp', 'amsterdam', 'amsterodamu', 'amused', 'amusing', 'amysimendinger', 'an', 'an3bmarc', 'an_anonyma', 'ana', 'anak', 'analisis', 'analistas', 'analyse', 'analysis', 'analysts', 'analytics', 'analytisch', 'analyze', 'anas_monaffal', 'anatusi', 'anche', 'and', 'anda', 'andando', 'anddroi', 'ande', 'andeersonf_', 'andhixd', 'andkatmy', 'ando', 'andrees_ramos', 'andreeybaltieri', 'andretelles', 'android', 'android4', 'android40', 'android40icecreamsandwich', 'android_4', 'android_ar', 'androidbeam', 'androidcentral', 'androides', 'androidheadline', 'androidicecream', 'androidicecreamsandwich', 'androidjp', 'androidpolice', 'androids', 'androidtel', 'androidtopnews', 'androidve', 'androidvzla', 'androtekrd', 'andshuttingdownru', 'andshuttingdownrunningprograms', 'andy', 'anfisabreus', 'ang', 'angel', 'angelina_adr', 'angelique_lique', 'angelusro', 'angeschaut', 'angle', 'angry', 'angrybirds', 'angst', 'anibalfreitas45', 'anibulb', 'animazione', 'aniversario', 'anja', 'anked', 'ankor', 'annacorinne16', 'annette', 'annewill', 'annie', 'anniversary', 'annonce', 'annonces', 'annoncé', 'annotated', 'announce', 'announced', 'announcement', 'announcements', 'announces', 'announcing', 'annoyed', 'annoying', 'anntran_', 'année', 'anonymous', 'anoquesociólogo', 'another', 'anothericloudfail', 'anpot4cn', 'anroid4', 'anschauen', 'answer', 'answered', 'answers', 'ant0ineh', 'antes', 'anti', 'anticipate', 'antiguo', 'antimalware', 'antitrust', 'antivirus', 'anton', 'antonio', 'anuncia', 'anunciado', 'anuncios', 'anup_pillai', 'any', 'anyday', 'anyelius12', 'anymore', 'anyone', 'anyones', 'anything', 'anyway', 'ao', 'ao99ftlv', 'aofyojme', 'aol', 'aooj8cai', 'aosp', 'aozonukf', 'ap', 'apa', 'apache', 'aparato', 'aparece', 'aparecen', 'aparecerán', 'apareceu', 'apareciste', 'apart', 'aparte', 'apdalījis', 'apdejt', 'apenas', 'aperçu', 'apesar', 'api', 'apis', 'aplicacion', 'aplicaciones', 'aplicación', 'aplicando', 'aplicativos', 'aplj6tsk', 'aplusk', 'apo4unhb', 'apocalipsis', 'apollo', 'apologize', 'apology', 'app', 'appareil', 'apparently', 'appartiennent', 'appeal', 'appear', 'appears', 'appel', 'appen', 'appena', 'apperature', 'appl', 'apple', 'appleagagné', 'applecanada', 'applecare', 'applecert', 'applecore', 'appledomination', 'appleid', 'appleinsider', 'applemacs', 'apples', 'applesearch', 'applestock', 'applestore', 'appletell', 'appletv', 'appleupdates', 'appleweblog', 'appleストア銀座なう', 'apple社保証薄いから気をつけてね', 'appliances', 'applicaciones', 'application', 'applications', 'applied', 'applies', 'apply', 'applying', 'appointment', 'appr', 'appreciated', 'approach', 'approaches', 'appropriately', 'approves', 'approximation', 'apps', 'appsense', 'appsensetechie', 'appstore', 'appsっていいね', 'appt', 'apptment', 'aprecio', 'aprender', 'aprenderas', 'aprendes', 'aprendi', 'apresentação', 'aprons', 'aprovecha', 'apt', 'apunta', 'aqi', 'aqq', 'aquel', 'aquela', 'aqueles', 'aqui', 'aquii', 'aquí', 'ar', 'aracılığıyla', 'aranzibia', 'arayüz', 'araştırıyor', 'arbeit', 'arbeitens', 'arbeitskleidung', 'arbitrary', 'arc', 'architecture', 'archivo', 'archivos', 'are', 'area', 'areas', 'arelance', 'aren', 'argentina', 'argument', 'ari', 'aria', 'arial', 'arielmun', 'arip', 'arkadin', 'arkham', 'arm', 'armiibunbury', 'armonía', 'arokfnos', 'around', 'arqlw58x', 'arrasando', 'arrastaram', 'arrazando', 'arreglo', 'arrival', 'arrivals', 'arrive', 'arrived', 'arriver', 'arrives', 'arrivé', 'arrogance', 'arrogant', 'arrolladora', 'arruinando', 'arrumando', 'arrêter', 'arstechnica', 'art', 'article', 'articles', 'articulo', 'artisan', 'artist', 'artistas', 'arts', 'as', 'asaber', 'asaltando', 'asap', 'ascribeconference', 'ascθ', 'asgariaj', 'ashercfo', 'ashliseumanu953', 'ashu180489', 'asi', 'asia', 'asiaclassifiedtoday', 'asiad', 'asian', 'aside', 'asik', 'asimrang', 'asistir', 'ask', 'askaaronlee', 'asked', 'asking', 'aslanmarine', 'asoeijoaijoriaejr', 'asombroso', 'asp', 'aspenibiz', 'aspetta', 'aspetto', 'aspx', 'ass', 'asses', 'assessment', 'assets', 'asshsmith', 'assim', 'assim99', 'assistant', 'assistindo', 'associations', 'assuntos', 'asta', 'astounding', 'astramedia', 'asu', 'asus', 'asustado', 'asymco', 'así', 'at', 'atalho', 'ataque', 'ate', 'athen', 'atire', 'atl', 'atlantasnoop', 'atmiomoo', 'atnnittt', 'atp', 'atras', 'através', 'atrum', 'att', 'attacks', 'attcustomercare', 'attempting', 'attempts', 'attend', 'attending', 'attendre', 'attention', 'attentionspan', 'attracting', 'attributed', 'atualizar', 'atualizaçao', 'até', 'au', 'au0k5swy', 'auch', 'audifonos', 'audio', 'audiocodes', 'audrievv', 'auf', 'augnl', 'august', 'auhqlivy', 'aujourd', 'aula', 'aun', 'aunque', 'aus', 'ausenteii', 'aussi', 'austin', 'australia', 'authorise', 'authorization', 'authorize', 'authorized', 'authorizing', 'authors', 'auto', 'autocomplete', 'autofollow', 'autograph', 'automated', 'automatic', 'automatically', 'automation', 'autop', 'autopilot', 'autosavesucks', 'autre', 'autres', 'autumn_tarbania', 'aux', 'av', 'availability', 'available', 'avait', 'avaliação', 'avalible', 'avanade', 'avanadespain', 'avandonado', 'avanti', 'avanzada', 'avatar', 'ave', 'avec', 'avenue', 'avepoint', 'average', 'avez', 'aviiertooos', 'avisar', 'avisarme', 'avisé', 'avoided', 'avoir', 'avsl3ygu', 'avtar', 'avtweeps', 'avvio', 'aw', 'awaited', 'award', 'awaswv5u', 'away', 'awdfxdci', 'awesome', 'awesomeness', 'awful', 'awfully', 'awjhxwgt', 'awkward', 'awsome', 'awtf2xjw', 'awwvvodr', 'awwwns', 'awwwwr', 'ax', 'ax2012', 'axdkhkb0', 'axentit', 'axl2k1gs', 'ay', 'aydin', 'aye', 'aye_cassandra', 'ayer', 'ayhokgo8', 'aymefitc', 'ayoo_mari', 'ayrontrompete', 'ayude', 'ayy_queen', 'ayyeee', 'azay', 'azee1v1', 'azizshalan', 'azrael', 'azrmusic', 'azucena', 'azul', 'azure', 'año', 'años', 'ağzına', 'b1pr1kix', 'b2plmyvd', 'b3t2y3vm', 'b4', 'b43ohrlq', 'b4ird1qa', 'b59lpycs', 'b5jmtr1l', 'b5x0sdgp', 'b6rys5gx', 'b__y', 'ba', 'babe', 'babies', 'babos', 'baboso', 'baby', 'babydaddydrama', 'babygeeks', 'babymamadrama', 'bacano', 'back', 'backchannel', 'backdrop', 'background', 'backlinks', 'backside', 'backup', 'backwards', 'backyard', 'bad', 'baddchikkent', 'badge', 'badog420', 'baffles', 'bag', 'bagi', 'bags', 'bah', 'bahhh', 'baigi', 'bailando2011', 'baixar', 'bajando', 'bajas', 'baked', 'balance', 'baleia', 'balked', 'ball', 'ballmer', 'balloons', 'balmer', 'balms', 'balzora', 'bammer', 'ban', 'bancar', 'banda', 'bandara', 'bando', 'bandwidth', 'bangalore', 'bangkok', 'bangla', 'banking', 'banned', 'bar', 'barackobama', 'barbiegeek', 'barcos', 'barexam', 'bargain', 'barge', 'barn', 'barometer', 'baromètre', 'barra', 'barron', 'bars', 'baru', 'basadas', 'basado', 'base', 'based', 'basedenegocios', 'bashes', 'basic', 'basically', 'basis', 'basketball', 'bassponton', 'basta', 'bastante', 'bastards', 'bastaria', 'batería', 'bathroom', 'batman', 'batteries', 'battery', 'batting', 'battle', 'battling', 'batzayab', 'bay', 'baybeeeee', 'bb', 'bbc', 'bbcclick', 'bblowpoundz', 'bbm', 'bbqfnszm', 'bbx', 'bby', 'bc', 'bc6v9hrt', 'bc7yhhr4', 'bcopher', 'bcuz', 'bd2omnib', 'bdbpjdh2', 'bdfkjgkz', 'be', 'bea', 'beabea210', 'beam', 'beaming', 'bear', 'beat', 'beater', 'beating', 'beatles', 'beats', 'beau', 'beaucoup', 'beautiful', 'beautynda_beast', 'beblogalicious', 'became', 'because', 'beckhma1', 'become', 'becoming', 'becuz', 'bed', 'bedankt', 'bedenkingen', 'bedenkt', 'bedre', 'bedrijfsbezoek', 'bedrijfsprofiel', 'bedrijven', 'bedtime', 'bee', 'beeem', 'beeethree', 'beef', 'beeindruckend', 'beeline', 'been', 'bees', 'beetje', 'before', 'beg', 'began', 'begging', 'begin', 'beginning', 'beginvaneenstijd', 'behatreen', 'behind', 'bei', 'beiden', 'beijo', 'beijos', 'beim', 'bein', 'being', 'beira', 'beirut', 'bej32s6a', 'bejeweled', 'bejeweled_3', 'bekend', 'bekijken', 'bela', 'belachelijke', 'beleza', 'beliebige', 'believe', 'believes', 'bell', 'belle', 'bellen', 'belleville', 'bellevue', 'bellissimo', 'belong', 'bem', 'ben', 'benchmark', 'benchmarklearn', 'bendiciones', 'bendiiga', 'bendita', 'bendito', 'beneficial', 'benefit', 'benefits', 'benfolds', 'bengali', 'benieuwd', 'benissimo', 'bennettgina', 'bennuk', 'benrubery', 'bepaald', 'berada', 'berichten', 'berlin', 'beroperasi', 'berry', 'bertemu', 'beruntung', 'besa', 'beschikbaar', 'beschikking', 'besetzung', 'besiitos', 'besitos', 'besitzer', 'besoin', 'besser', 'bessere', 'best', 'bestbuy', 'bestia', 'bestpantsten', 'bestrelations', 'besturingssysteem', 'bestätigt', 'bet', 'beta', 'beta7', 'beter', 'betere', 'betreuen', 'betriebssystem', 'better', 'between', 'betweensundays', 'beware', 'bewertung', 'beyond', 'bezielend', 'bezig', 'bf5zvm0u', 'bf6qucwt', 'bff', 'bffaeapw', 'bg', 'bgbhzrox', 'bgkimgjf', 'bgotzj7k', 'bgr', 'bgrznnvs', 'bhammz', 'bhetrh4b', 'bhfjatat', 'bhhgh5qc', 'bhxpqyo5', 'bi', 'bible', 'bibliography', 'biblioteca', 'bidmyway', 'bids', 'bien', 'bienvenia', 'bienvenida', 'bienvenido', 'bienvenidos', 'bietet', 'big', 'bigapple', 'bigbellybigcuz', 'bigbrother', 'bigdata', 'bigdealdawson', 'bigdenmoments', 'biggest', 'bigmama', 'bigmelo216_tsa', 'bigtrouble', 'bihkwstw', 'bij', 'bijdrage', 'bikervox', 'bilgi', 'bilgicagi', 'bill', 'bill_gates', 'billaut', 'billgates', 'billguard', 'billion', 'billions', 'billón', 'biltmore', 'binaryfaires', 'bind', 'bing', 'biopic', 'bipolares', 'bipvbdxz', 'biqbehtb', 'bird', 'birthday', 'birthdays', 'biscates', 'bises', 'bishop', 'bishopwsthomas', 'bisiiioo', 'bisquiat', 'bit', 'bitch', 'bitching', 'bitchslaps', 'bite', 'biting', 'bitwizards', 'bixo', 'biz', 'bizarrement', 'biznews', 'bizspark', 'bj', 'bjbj', 'bjuss', 'bkad5161', 'bkgep6zm', 'bkkkkkk', 'bl', 'bla1ze', 'black', 'blackberry', 'blackberryhelp', 'blackberryvzla', 'blackouts', 'blade', 'blame', 'blameitontheiphone', 'blames', 'blank', 'blaring', 'blast', 'blasting', 'blasts', 'blatant', 'blaving', 'blaze', 'blazer', 'blazure', 'bldwin', 'ble', 'bleibt', 'blend', 'bless', 'blessed', 'blessing', 'bleublancrouge_', 'blew', 'blgr9ue5', 'blhhgopo', 'blige', 'blij', 'blijk', 'blik', 'blir', 'blob', 'block', 'blocked', 'blocks', 'bloemen', 'blog', 'blogalicious', 'blogger', 'blogoma', 'blogpost', 'blogs', 'blogspot', 'blokea', 'blokearon', 'blood', 'bloody', 'bloodymary3', 'bloombe', 'bloomberg', 'bloombergnews', 'bloquea', 'bloqueando', 'bloquear', 'blow', 'blowed', 'blowing', 'blown', 'bltq3vrk', 'blu7a24d', 'blue', 'blue_chipperz', 'blues', 'bluescreens', 'bluetooth', 'blyala', 'blz7dtsy', 'bm4nenit', 'bm88', 'bmann', 'bmcjlgdv', 'bmeiy5rq', 'bmqf5wex', 'bmt', 'bn', 'bno', 'boa', 'boaa', 'boanoite', 'board', 'boasts', 'bob', 'bob_om', 'boba', 'bobeiras', 'bobharper', 'bocha', 'boczcmbg', 'boda', 'bode', 'body', 'boeing', 'boeket', 'boer', 'bofh', 'bogus', 'bogusky', 'bola', 'bolber', 'bolivia', 'bologna', 'bolsillo', 'bom', 'bon', 'bona', 'bonbano', 'bond', 'bong', 'bonita1108', 'bonito', 'bonjour', 'bonkoif', 'bonobo', 'bonsoir', 'boo', 'boogiedebeast', 'booiiiii', 'book', 'bookcase', 'booked', 'bookmark', 'bookmarks', 'books', 'bookworms', 'booooa', 'boost', 'boosts', 'boot', 'booted', 'booth', 'boothelk', 'bootloaders', 'bor', 'bora', 'borders', 'bored', 'boring', 'borrade', 'borrarlo', 'bort', 'bosch', 'boss', 'boston', 'bot', 'both', 'bother', 'boton', 'bottlenecks', 'bottom', 'botón', 'bought', 'bougé', 'bounce', 'bouncy', 'bound', 'bouquet', 'bout', 'boutons', 'boven', 'bowl', 'bows', 'box', 'boxes', 'boy', 'boycotting', 'boylston', 'bpfkyd1o', 'bpgpq45t', 'bppjwncp', 'bpzrz337', 'bqmuhxkk', 'bqpiyl6w', 'br3mhhvg', 'brady', 'braedonrice', 'braille', 'brain', 'brainware', 'bran_day', 'branch', 'brand', 'brandon_solano', 'brandonminiman', 'brands', 'branschen', 'brasil', 'brat', 'bravo', 'brb', 'brbjtb86', 'break', 'breakfast', 'breaking', 'breakingnews', 'brekend', 'brescia', 'breve', 'brevetto', 'briancrockerjr', 'brianmincey', 'briannaa___', 'brick', 'bricked', 'bridge', 'brief', 'briefing', 'brightness', 'brightsidenews', 'brigitte', 'brilhante', 'briliant', 'brilliance', 'brilliant', 'brin', 'bring', 'bringing', 'brings', 'brit', 'britain', 'brittjje', 'bro', 'broadly', 'broda', 'broke', 'broken', 'bromance', 'bromsolutions', 'broo', 'brotha', 'brother', 'brought', 'brown45235', 'browse', 'browser', 'browsers', 'browserwars', 'browsing', 'bruise', 'bruna_rafaelah', 'brunodelucas', 'brunodgama', 'bs', 'bsd', 'bsdalton', 'bsfmwkfh', 'bsnbahbp', 'bsod', 'bss', 'bst25w2u', 'bsteelooper', 'bt', 'btfu', 'bthompson16', 'btw', 'bu', 'buat', 'bucboyy', 'buccaneers', 'bucsi4xy', 'bud', 'buddies', 'buddy', 'bude', 'buen', 'buena', 'buenas', 'buendia', 'bueno', 'buenoh', 'buenooooo', 'buenos', 'buffalo', 'bug', 'bugfa8xj', 'buggy', 'bugou', 'bugs', 'build', 'building', 'buildingwindows8', 'builds', 'buildwindows8', 'built', 'builtin', 'bullet', 'bulletin', 'bulletproof', 'bullmer', 'bullshit', 'bullying', 'bummer', 'bump', 'bunch', 'bundles', 'bunny', 'buntut', 'buried', 'burkepatch', 'burn', 'bus', 'buscalo', 'buscalos', 'buscar', 'busco', 'bush', 'business', 'businesses', 'businessuplift', 'businessweek', 'busy', 'busyness', 'but', 'butler', 'butt', 'buttery', 'button', 'buttons', 'buwil76a', 'buy', 'buying', 'buys', 'buzz', 'buzzcontinue', 'buzzworthyenespañol', 'buzzz', 'buzzzit', 'bvay8xpb', 'bvkp5caq', 'bvu1qtkt', 'bwana', 'bwzganje', 'bxlewi1', 'by', 'by5cafsd', 'bye', 'byn1njee', 'byrdgan', 'bytegadget', 'bytenow', 'byyfhtpz', 'byyicrps', 'bz0uabpp', 'bzny74nn', 'bzqs2pv3', 'bzx4ue6k', 'bästa', 'bättre', 'bösen', 'búsquedas', 'bücher', 'büros', 'būtu', 'c0mlla07', 'c0ykfjla', 'c1f5dano', 'c1nm8mhu', 'c1yryifh', 'c3kgqpyr', 'c4elm79o', 'c4fy2ffj', 'c4goy04v', 'c4mop8od', 'c5nzwalj', 'c5tu3dzk', 'c864evtj', 'c97snizt', 'ca2dk0xh', 'caaargaaaaaa', 'cabe', 'cabeza', 'cable', 'cabron', 'cacca', 'cacchio', 'cacha', 'cachando', 'cachaça', 'cached', 'cacion', 'cada', 'cade', 'cadientgroup', 'caelusgreenroom', 'cafezinho', 'cagando', 'cagimo', 'cago', 'caguen', 'caifanes', 'cair', 'cake', 'calendar', 'calendrier', 'calidad', 'calientan', 'california', 'call', 'calle', 'called', 'calling', 'callmepinoc', 'calls', 'calumo', 'calvinnieh', 'cama', 'camarada', 'cambiado', 'cambiale', 'cambian', 'cambiar', 'cambie', 'came', 'camera', 'cameras', 'camilokas', 'camita', 'camp', 'campaign', 'campaigns', 'campaña', 'camper', 'campus', 'can', 'canada', 'canadait', 'canadeis', 'canastos', 'cancer', 'candentes', 'canergiemellon', 'canes', 'cannot', 'canon', 'cans', 'cansada', 'cant', 'canta', 'cantwealljustgetalong', 'cap', 'capabilities', 'capability', 'capacitación', 'capacity', 'capaz', 'capire', 'capital', 'capo_young', 'capokenn', 'capped', 'captain', 'captura', 'capture', 'captures', 'car', 'cara', 'caracteres', 'características', 'carajamadre', 'carajo', 'caramba', 'card', 'cards', 'cardsapp', 'care', 'cared', 'careers', 'careful', 'caretoshareknowledge', 'carge', 'caring', 'carlmilner', 'carlo_patricio', 'carlostolosa10', 'carlton858', 'carnegie', 'carnegiemellon', 'carpetas', 'carrasco', 'carrera', 'carrier', 'carriers', 'carrière', 'carry', 'carrying', 'carrypad', 'cars', 'carsimeister', 'carsonfratus', 'carta', 'cartoon', 'casa', 'caschys', 'case', 'cases', 'cash', 'casi', 'caso', 'casos', 'cast', 'castle', 'casualidad', 'cat', 'catastrophe', 'catastrophically', 'catch', 'catchaset_', 'catchin', 'catchment', 'catchy', 'categories', 'categorizing', 'caught', 'caur', 'causando', 'causarle', 'cause', 'causes', 'caution', 'cautious', 'cavi', 'cbcefiln', 'cbillich', 'cbm', 'cbmonarch', 'cc', 'ccna', 'cd', 'cdkpyjzv', 'cdma', 'ce', 'cedula', 'ceejay3k', 'ceel', 'cel', 'cela', 'celeb', 'celebre', 'celebrities', 'celebrity', 'cells', 'cels', 'celular', 'celularrrrrrr', 'cenan', 'cenare', 'cenaze', 'censorship', 'cent', 'center', 'central', 'centre', 'centric', 'centro', 'centroandroid', 'centrum', 'centuries', 'century', 'ceo', 'cerchio', 'ceremoniously', 'ceritanya', 'cerrare', 'certain', 'certificación', 'certificado', 'certificar', 'certificate', 'certification', 'certified', 'certo', 'cerulean', 'ces', 'cesspit', 'cet', 'cette', 'cfhu4jbp', 'cfmzoejw', 'cgt', 'ch', 'chachasikes', 'chadleaman', 'chairman', 'chairs', 'challenged', 'chamarem', 'champ', 'chance', 'change', 'changed', 'changer', 'changes', 'changing', 'changingdiapers', 'channel', 'chao', 'chaos', 'chapa', 'chaque', 'characters', 'charade', 'charence', 'charge', 'charged', 'charger', 'charges', 'charging', 'charities', 'charity', 'charlesarthur', 'charlielace', 'charlieroffe', 'charmybird', 'chart', 'charts', 'chascouponmom', 'chases', 'chat', 'chata', 'chaton', 'chatoney', 'chavez', 'chavito', 'che', 'cheap', 'cheat', 'cheatedabit', 'checando', 'checar', 'check', 'checkboxes', 'checked', 'checking', 'checkup', 'checo', 'cheer', 'chef', 'chefreggie06', 'cheltenham', 'cheque', 'chest', 'chez', 'chicago', 'chick', 'chicken', 'chickz', 'chief', 'chihuahuentauro', 'child', 'children', 'chill', 'chillin', 'chime', 'china', 'chinese', 'chingado', 'chinkiibeauty', 'chipa6', 'chips', 'chipsets', 'chismeen', 'chiste', 'chistes', 'chk', 'chocoleit', 'choice', 'choices', 'choiceznewz', 'choose', 'chooses', 'choosy', 'chose', 'chosen', 'chosenfewdjs', 'chris', 'chriseffio', 'chrispirillo', 'christianortizh', 'christianstraw', 'christina', 'christmas', 'christyjbpl', 'chrisvoss', 'chriswglowe', 'chriszwitschert', 'chrome', 'chromeos', 'chromevox', 'chtvn', 'chu', 'chucha', 'chucktodd', 'chupa', 'chupaflamengo', 'chwcvzle', 'chwilhelm', 'chysta', 'chyxxdi2', 'ci', 'cibereconomia', 'cicip', 'ciddi', 'cielo', 'ciencia', 'cientifico', 'científico', 'cierro', 'ciertas', 'cierto', 'cilzfp9b', 'cimes', 'cinco', 'cincodiascom', 'cinguettii', 'cio', 'circle', 'circles', 'circuits', 'circumstances', 'circustk', 'cisco', 'citigroup', 'citizenship', 'citou', 'citrix', 'city', 'citysearch', 'cixdi', 'ciúmes', 'cj', 'cj20k', 'cjas0007', 'cjj12v4i', 'cjnwu8rv', 'cjonncvk', 'cjwallace03', 'ck', 'ck4yffsy', 'ckqinbqb', 'claim', 'claims', 'clair', 'clarence', 'claro', 'clase', 'clases', 'class', 'classes', 'classic', 'classroom', 'clavier', 'claws', 'cld', 'clean', 'cleaned', 'clear', 'clearance', 'clearlycassi_', 'cli', 'click', 'clicking', 'clicks', 'client', 'clientes', 'clienti', 'clients', 'clo', 'clock', 'clocks', 'close', 'closed', 'closely', 'closer', 'closes', 'closet', 'closing', 'clothes', 'clothing', 'cloud', 'cloud_computing', 'cloudcomputing', 'cloudnewsindia', 'clouds', 'cloudy', 'clowns', 'club', 'clubdelacomedia', 'clue', 'cluster', 'clínico', 'cmaneu', 'cmg', 'cmgo', 'cmm', 'cmo', 'cmon', 'cmswire', 'cnbc', 'cnbcfastmomey', 'cnectara', 'cnet', 'cnnee', 'cnt', 'cntestaaaa', 'co', 'coach', 'coast', 'coated', 'coatgal', 'cobjrw66', 'cobra', 'cobrarme', 'cocacola_korea', 'cod', 'code', 'codebit_org', 'codec', 'codecs', 'codename', 'codes', 'codificación', 'coding', 'codytigernord', 'coffee', 'coffers', 'cofounder', 'cogita', 'coincide', 'coincidence', 'coisa', 'coisas', 'colapso', 'coldplay', 'coldstorage', 'colección', 'colin', 'collaborated', 'collaboration', 'collabware', 'colleague', 'colleagues', 'collecting', 'collection', 'collects', 'collega', 'college', 'colleges', 'collobrate', 'colocar', 'coloco', 'colokei', 'coloquen', 'color', 'colorful', 'colour', 'colpa', 'colpo', 'com', 'combat', 'combien', 'combination', 'combine', 'combo', 'come', 'comen', 'comentado', 'comentados', 'comentar', 'comenzaré', 'comes', 'comfortabele', 'cominciato', 'coming', 'commands', 'comme', 'comment', 'commentcamarche', 'comments', 'commerce', 'commercial', 'committed', 'commodity', 'commons', 'communauté', 'communications', 'community', 'como', 'comooo', 'comp', 'compact', 'companies', 'companion', 'company', 'comparen', 'compares', 'comparing', 'comparison', 'comparte', 'compartes', 'compartilhamento', 'compartilhamentovia', 'compartimos', 'compartir', 'compartirá', 'compatibility', 'compatible', 'compelling', 'comper', 'compete', 'competencia', 'competidores', 'competition', 'competitive', 'competitor', 'competitors', 'compilation', 'compiler', 'complain', 'complaints', 'completa', 'complete', 'completely', 'completes', 'complex', 'compliance', 'complicated', 'complimenti', 'compliments', 'complètement', 'compo', 'component', 'componerle', 'compose', 'composite', 'compra', 'comprado', 'comprar', 'compraré', 'comprato', 'comprendí', 'compressors', 'compris', 'compró', 'compte', 'comptia', 'compu', 'computador', 'computadoras', 'computer', 'computerworld', 'computing', 'compuu', 'comunes', 'comunicacion', 'con', 'concept', 'conceptualart', 'concer', 'concern', 'concerned', 'concero', 'concierto', 'concluded', 'concrete', 'concurrent', 'concurrentie', 'conditions', 'condom', 'condoms', 'conductive', 'conectado', 'conecto', 'conector', 'conejos', 'conf', 'conference', 'conferencecall', 'conferencia', 'confidence', 'confiesan', 'configure', 'confira', 'confirma', 'confirmado', 'confirmed', 'confirms', 'conflict', 'confused', 'confusedbymytimeline', 'confusin', 'confusing', 'conférence', 'congelada', 'congrats', 'congratulations', 'congratweet', 'conmocionados', 'connaît', 'connect', 'connected', 'connecter', 'connecting', 'connectingforhealth', 'connection', 'connections', 'connectivity', 'connector', 'connectorをインストールするとoutlook2007でhotmailアカウントが利用できる', 'connectés', 'conoce', 'conocer', 'conocido', 'conocimiento', 'cons', 'conseguiram', 'consider', 'consideration', 'considered', 'considering', 'considers', 'consiganse', 'consola', 'console', 'consolidation', 'consommation', 'conspiracy', 'constantcontact', 'conste', 'constrained', 'construidos', 'consulta', 'consultants', 'consultas', 'consulting', 'consultingware', 'consument', 'consumer', 'consumer_demand', 'consumers', 'consumo', 'cont', 'conta', 'contact', 'contacted', 'contacten', 'contacts', 'contandolo', 'contandome', 'contato', 'contatos', 'contattaci', 'contend', 'contender', 'contenido', 'content', 'contenu', 'contenus', 'contest', 'contestar', 'contests', 'contesté', 'continentes', 'continua', 'continue', 'continued', 'continues', 'continuing', 'continuous', 'continuously', 'continuum', 'contra', 'contraatacan', 'contract', 'contracts', 'contrast', 'contratar', 'control', 'controlar', 'controlled', 'controller', 'contrário', 'contundente', 'conundrum', 'convenient', 'conversas', 'conversation', 'conversations', 'conversion', 'convert', 'converting', 'convertir', 'conveyor', 'convierte', 'convince', 'convinto', 'convirtiendo', 'convivir', 'conçu', 'coo', 'cookbook', 'cool', 'coole', 'coollike', 'coolstorybro', 'cope', 'copia', 'copiar', 'copied', 'copy', 'copyandpaste', 'copying', 'copyright', 'copè', 'coqclb9r', 'corajes', 'corazón', 'cord', 'core', 'coreapptech', 'corebts', 'cores', 'cornas', 'cornelia', 'corners', 'cornos', 'corporate', 'corporation', 'corporativos', 'correct', 'corrected', 'correcteur', 'correction', 'correo', 'correção', 'corrompido', 'corta', 'cortesía', 'cortex', 'cos', 'cosa', 'cosas', 'cosf8wus', 'coso', 'cost', 'costolo', 'costs', 'costumbre', 'cotmtulsa', 'could', 'couldn', 'couldnt', 'count', 'counter', 'counters', 'countries', 'county', 'couple', 'coupons', 'coupé', 'course', 'coursey', 'court', 'courtesy', 'covent', 'coverage', 'covered', 'covering', 'covers', 'coworker', 'coz', 'cozinha', 'cpc504', 'cpfl', 'cpg', 'cpmorris', 'cpmteujg', 'cpqd', 'cqcaword', 'cqfsjdwb', 'cr3a6k9u', 'crack', 'crackberry', 'cracked', 'cracking', 'cranberry', 'cranial', 'crankywithnophone', 'crap', 'crappy', 'crash', 'crashes', 'crashing', 'craving', 'crawl', 'crazy', 'crazy_golfer', 'crea', 'creado', 'cream', 'creare', 'crearán', 'create', 'created', 'creatie', 'creating', 'creation', 'creative', 'creatives', 'creatividad', 'creato', 'creators', 'crece', 'credential', 'credit', 'creditbility', 'credito', 'credits', 'creeaaatiiiviiidaaad', 'creen', 'creep', 'creepy', 'creerte', 'creo', 'crew', 'cria', 'criistianzepeda', 'crime', 'crisis', 'crispin', 'crissp16', 'cristal', 'criszambrano23', 'critica', 'criticada', 'critical', 'criticise', 'criticizing', 'critics', 'crm', 'crm2011', 'crmaaagq', 'crmstrategies', 'crois', 'crome', 'cropping', 'cross', 'crossed', 'crowd', 'crq86fvu', 'crucius89', 'crush', 'crushed', 'cryptée', 'crânio', 'création', 'cs', 'csaefrhc', 'csg122', 'csharp', 'csportsmn', 'csr', 'cstanslf', 'cstd8cpm', 'csuc7hvh', 'ct', 'ctia', 'ctp', 'ctp3', 'ctr', 'ctx', 'cu', 'cuadernos', 'cualquera', 'cualquier', 'cuando', 'cuano', 'cuanta', 'cuanto', 'cuantos', 'cubre', 'cuchillo', 'cue', 'cuenta', 'cuentalaleyenda', 'cuentas', 'cuento', 'cuidate', 'culminando', 'culpa', 'cultofmac', 'culture', 'cumplan', 'cumple', 'cumpleaños', 'cumplen', 'cuow78du', 'cupom', 'curate', 'curhat', 'curiosidad', 'curiosity', 'curious', 'currencies', 'current', 'currently', 'curse', 'curso', 'cursussen', 'cursusvoor', 'curve', 'custom', 'customer', 'customerappreciation', 'customers', 'customerservice', 'customerthink', 'customize', 'custserv', 'cut', 'cute', 'cutting', 'cuz', 'cuál', 'cuándo', 'cvd', 'cvd2b2rz', 'cvekdoiq', 'cvfwmvmo', 'cxovk5ww', 'cy6vxrnf', 'cyanogen', 'cyanogenmod', 'cyclone', 'cynblackstone', 'cypher', 'cyruss1989', 'cyst', 'czmfvnlq', 'czsosvgp', 'czytaj', 'cámara', 'cómo', 'côté', 'cú', 'cервис', 'd0u2o9nz', 'd1lonczc', 'd2l', 'd3wrycut', 'd4vjl7si', 'd5', 'd5g1ry5d', 'd6gfyji3', 'd6mezbzv', 'd6t2xyad', 'd7b2g1rw', 'd7eejhbt', 'd7ntpait', 'd_realrogers', 'd_snaps', 'da', 'daaaaag', 'daaayum', 'daar', 'daarmee', 'dachkampagne', 'dachte', 'dad', 'dada', 'dado', 'dados', 'dadynhasantos', 'dafür', 'dag', 'dai', 'daibosyu', 'daily', 'dailydealchat', 'daimler', 'daje', 'daki', 'dal', 'dale', 'daleplay', 'dalla', 'dallas', 'dalmaer', 'další', 'dam', 'damage', 'damaged', 'dammit', 'damn', 'dan', 'dance', 'dancecentral', 'danced', 'dancemoms', 'dancers', 'dancing', 'dando', 'danger', 'daniel_evilla', 'danielas04', 'danielltosh', 'danielpink', 'danielpulido03', 'danilosooares', 'daniweb', 'dank', 'danke', 'dann', 'danneggiati', 'dannysullivan', 'dans', 'dansaap', 'dany', 'danyfajardo', 'danyktjl', 'danysaadia', 'daphnedijkerman', 'dappm4av', 'dar', 'dar3ef5t', 'dariuszporowski', 'dark', 'darkness', 'darkoivancevic', 'darle', 'darse', 'das', 'dashburst', 'dasneuearbeiten', 'dass', 'dat', 'data', 'database', 'datacenter', 'datalimiet', 'datamining', 'dataplusnl', 'dataquality', 'date', 'dates', 'datfix', 'datos', 'daughter', 'davebakerd2l', 'davepeck', 'david', 'davidcohen', 'davidegori', 'davidguetta', 'davidmerzel', 'davis', 'davislachance', 'dawn', 'dawnabvx', 'dawns', 'day', 'day305', 'dayathomas', 'days', 'daytimewdonna', 'dazu', 'daños', 'db', 'db2rzsu5', 'dbbwsdpx', 'dbsma1pb', 'dbw', 'dce2005', 'dciffpi1', 'dcjobs', 'dcoh8vfp', 'dcoult', 'dd', 'ddd', 'dddddddd', 'ddkfewqb', 'ddlovato', 'ddu2qm7o', 'dduu9ffd', 'de', 'dead', 'deadspace2', 'deaf', 'deal', 'dealing', 'deals', 'dealt', 'dear', 'death', 'deb_lavoy', 'debate', 'debating', 'debe', 'deberia', 'debloquer', 'debt', 'debut', 'debuts', 'decades', 'december', 'december2011', 'decent', 'decide', 'decides', 'decir', 'decirlo', 'decision', 'decisions', 'declarar', 'declares', 'declarng', 'decline', 'declined', 'declining', 'decopic', 'decía', 'dedicated', 'dedication', 'dedo', 'dedos', 'deejay_tinyt', 'deejaydenco', 'deelt', 'deep', 'def', 'default', 'defaulting', 'defaults', 'defecto', 'defende', 'deferom', 'define', 'definición', 'definitely', 'definitivamente', 'definitivní', 'deformado', 'defrauding', 'degrassi', 'degree', 'degusta', 'dehtavares', 'deiixando', 'deixa', 'deixaram', 'deixaramtriste', 'deja', 'dejaba', 'dejame', 'dejan', 'dejando', 'dejar', 'dejara', 'dejarla', 'dejarme', 'dejaron', 'dejarte', 'dejaste', 'dejen', 'del', 'dela', 'delante', 'delaware', 'delay', 'delegates', 'delete', 'deleted', 'delicious', 'delight', 'deliver', 'delivered', 'delivering', 'delivers', 'dell', 'dellmanning', 'dem', 'demain', 'demandiez', 'demasiado', 'demasiadoego', 'demi', 'demo', 'democrat', 'demoing', 'demonios', 'demons', 'demonstrates', 'demonstration', 'den', 'denali', 'dengan', 'denkt', 'dennieb_15', 'dennis', 'dennisbett', 'dennisritchie', 'denounce', 'density', 'dentist', 'deolindoo', 'depan', 'departamento', 'department', 'dependent', 'depends', 'depers', 'deploying', 'deployment', 'deployments', 'depois', 'depot', 'depreciate', 'depuis', 'der', 'dernier', 'derryxowners', 'derstandard', 'des', 'desactivó', 'desahogar', 'desahogarme', 'desahogo', 'desahoqar', 'desarrolla', 'desarrollado', 'desarrollador', 'desarrolladores', 'desarrollan', 'desarrollar', 'desarrollo', 'desayunan', 'desbloquear', 'desbloqueo', 'descanseen', 'descansen', 'descargadas', 'descargues', 'descuentos', 'desde', 'dese', 'desejo', 'desenvolvedores', 'desertbeacon', 'design', 'designed', 'designer', 'designers', 'designs', 'desire', 'desire2learn', 'desired', 'desirepoulain', 'desk', 'deskanseeeen', 'desktop', 'desktopvirtualisatie', 'desliga', 'desligar', 'despedindo', 'desperatehousewives', 'despido', 'despite', 'despliega', 'despues', 'después', 'desquito', 'desse', 'desses', 'destaque', 'desteklediği', 'destination', 'destroying', 'destruir', 'desvela', 'det', 'detailed', 'detailing', 'details', 'detalles', 'detection', 'detelefoonvanbr', 'detelefoonvanbritt', 'determine', 'detik', 'dette', 'deus', 'deutsch', 'deux', 'dev', 'devant', 'develop', 'developed', 'developer', 'developers', 'developing', 'development', 'develó', 'deverdad', 'device', 'devices', 'devient', 'devolveram', 'devproblems', 'devra', 'devrais', 'devreach', 'dewan', 'deyen', 'deze', 'dezz', 'deár', 'dff', 'dffkvnsj', 'dggsnoh2', 'dgikwyoi', 'dgnbsbuj', 'dgosset', 'dhilipsiva', 'dhlhoexz', 'di', 'di9qkga5', 'dia', 'diablo', 'diagramação', 'dialepimu', 'diamo', 'dianasanchez_27', 'dianasari', 'dianigroves', 'diannaagron', 'diario', 'diarrhée', 'diary', 'dias', 'diaz', 'dic', 'dicas', 'dicasecommerce_', 'dice', 'dicen', 'dices', 'dich', 'dicho', 'dick', 'dickc', 'dickcostolo', 'dicks', 'dicn', 'dictation', 'dictionnaire', 'did', 'didn', 'didnt', 'die', 'died', 'diego', 'diegocambiaso', 'diegofrancesco', 'diegomendesr_', 'dien', 'dienstverlener', 'dieron', 'dieser', 'diferencia', 'diff', 'difference', 'different', 'differs', 'difficile', 'difficult', 'difficulties', 'dificuldade', 'difqtmwm', 'diganme', 'digg', 'digging', 'diggita', 'digiprofs', 'digit', 'digital', 'digitale', 'digitally', 'digitalstrategy', 'digo', 'diias', 'diios', 'diiqooo', 'dije', 'dijeron', 'dijitalde', 'dijo', 'dilation', 'dileatumentequedescance', 'dilo', 'dime', 'din', 'dine', 'dinero', 'dingen', 'dinner', 'dio', 'dios', 'dipset', 'dire', 'direct', 'directement', 'directional', 'directions', 'directivos', 'directly', 'directo', 'director', 'directs', 'diretamente', 'dirà', 'dis', 'disabled', 'disabling', 'disagree', 'disappear', 'disappoint', 'disappointed', 'disappointing', 'disappointmen', 'disappointment', 'disaster', 'disclosed', 'discontinued', 'discount', 'discours', 'discover', 'discovery', 'discu', 'disculpame', 'discuss', 'discussing', 'discussion', 'diseñador', 'diseño', 'disfrute', 'disguise', 'dishing', 'disney', 'dispensa', 'display', 'dispo', 'disponible', 'disponível', 'dispose', 'dispositivo', 'dispositivos', 'disruptions', 'disse', 'dissent', 'disses', 'distancia', 'distorsión', 'distractions', 'distraes', 'distribuciondeprogramasonline', 'distributing', 'distribution', 'distrust', 'disturbin', 'dit', 'ditch', 'ditemukan', 'div_spartan', 'dive', 'diversión', 'divertido', 'division', 'divisions', 'divulgação', 'diy', 'dizer', 'dizzleb19', 'diárias', 'dj', 'dj_bmoney', 'dj_nasty16', 'dj_sandrocosta', 'djsp2g5b', 'djtetekerbes', 'djtrebel1', 'dkgcvjsg', 'dkhazhintsev', 'dl3cnteu', 'dl68lkqu', 'dl9crczy', 'dlc', 'dllabuak', 'dlvtboek', 'dm', 'dm4actyv', 'dmo', 'dmolim', 'dms', 'dmvtfsvg', 'dn3qwkkb', 'dniokchp', 'dnpflxxb', 'dnt', 'dnwy6mqx', 'do', 'doc', 'doch', 'dock', 'docomo', 'docs', 'document', 'documentary', 'documents', 'dodged', 'dodgy', 'doe', 'does', 'doesanyoneknow', 'doesn', 'doesnt', 'doet', 'dog', 'dogs', 'dohdenmg', 'doido', 'doin', 'doing', 'doj', 'dok', 'dokunmatik', 'dollar', 'dollars', 'domain', 'domani', 'domestic', 'domination', 'domingos', 'dominicandroids', 'dominio', 'dommemensen', 'don', 'donate', 'donated', 'donchambitas', 'donchele', 'donde', 'done', 'donne', 'donner', 'dono', 'donorschoose', 'dont', 'dontbemadatmebecause', 'doomed', 'door', 'doorstep', 'dope', 'dopest', 'dorado', 'dorgas', 'dorme', 'dormi', 'dormiiiirr', 'dormiir', 'dormir', 'dormirse', 'dormish', 'dorrmi', 'dos', 'dose', 'dosent', 'dossiers', 'dostupan', 'dotnet', 'dotykowy', 'dou', 'double', 'doubt', 'douchebags', 'doug', 'doug_newton', 'dough', 'doughnuts', 'down', 'downgrade', 'download', 'downloadable', 'downloaded', 'downloading', 'downloads', 'downside', 'downtown', 'downward', 'doy', 'dozens', 'dp4xids2', 'dplbpqho', 'dpr', 'dqcg83wj', 'dr', 'drain', 'drakes', 'drame', 'drawlin', 'dream', 'dreamhost', 'dreaming', 'dreams', 'dretoorn', 'drew', 'drewbezanson', 'drink', 'driodrazr', 'drive', 'driver', 'driving', 'drkhan', 'drm', 'droid', 'droidbionic', 'droidtweak', 'droidtweets', 'drop', 'dropbox', 'dropped', 'dropping', 'drops', 'droptheknife', 'drr4oq1z', 'druga', 'drugs', 'drumroll', 'druncks', 'drunkedoutteezy', 'drvksvf6', 'dryab', 'dryad', 'drying', 'ds', 'dst', 'dsvelarme', 'dtq23g5g', 'dtv', 'du', 'dubai', 'dubbe', 'dudas', 'dude', 'due', 'duermaan', 'duerman', 'duet', 'duetenterprise', 'duff', 'duh', 'duhhhh', 'duiken', 'duim', 'duk6ze2g', 'duke', 'duking', 'dulmandakh', 'duly', 'dumb', 'dumbass', 'dummy', 'dump', 'dumped', 'dumt', 'duo', 'duped', 'duplicates', 'duplicating', 'duplication', 'durable', 'durante', 'duraria', 'durban', 'durch', 'duri', 'during', 'durtevragen', 'duruyoruz', 'dus', 'dusting', 'duthf0no', 'duty', 'duuuuhhh', 'dvroegop', 'dwd100', 'dwqyyu5v', 'dwtalker', 'dwuwiywc', 'dxbkq8q8', 'dxn6npib', 'dxrbxjkb', 'dxxklubp', 'dxzba5bg', 'dyanna299', 'dying', 'dylawnward', 'dymdmu3z', 'dynamics', 'dyoyrkyd', 'dz9zqcgx', 'dzhvfxvh', 'dzmphbut', 'dzsgphqt', 'dá', 'déjà', 'démo', 'désagréable', 'désespérés', 'détaille', 'développement', 'déverrouillage', 'dévoile', 'dévoilé', 'día', 'días', 'dó', 'dólares', 'dönüştürüyor', 'dübendorf', 'dłoni', 'e0kvstj4', 'e2evc', 'e2na', 'e3xk1w67', 'e44qd1u2', 'e4llmmyg', 'e4snmztl', 'e5clgzsi', 'e5uhka8f', 'e8dcqo7s', 'e8umrmro', 'e_r_w_a_n', 'ea', 'ea_jorge', 'each', 'eakkxn0o', 'ear', 'earbuds', 'earlier', 'early', 'earned', 'earnings', 'earobine', 'ears', 'earth', 'earthquakes', 'earthquick', 'easier', 'easiest', 'east', 'easter', 'easy', 'eat', 'eatables', 'eating', 'eatmagazine', 'ebay', 'ebaymobile', 'ebook', 'ebooks', 'eboyee', 'ebswmyui', 'ec6mzwiz', 'ecdl', 'echelon', 'echo', 'echt', 'ecji1iio', 'eclair', 'eclipse', 'eclipsed', 'ecm', 'eco', 'ecofriendly211', 'ecogreenvalet1', 'ecommerce', 'ecommnewsupdate', 'economics', 'econsultancy', 'econômico', 'ecoumans', 'ect8fyia', 'ecuador', 'ecwx3ajl', 'ed', 'edatpost', 'edbott', 'edchat', 'edddarkfawn', 'edercarmona01', 'edge', 'edibll5v', 'edición', 'edisant1', 'editar', 'edites', 'editeur', 'editing', 'edition', 'editor', 'edmaguire', 'edswoxoc', 'edu', 'edu11', 'eduardo_666_', 'educación', 'education', 'educativos', 'educause', 'edugeek', 'eduuaardo_', 'edwin_ubaque', 'edxe0xbd', 'edycja', 'eedar', 'eeeeeerrro', 'eeeerro', 'eef3780b', 'eemi', 'een', 'eens', 'eeqjfl0p', 'eerste', 'ef8j77uj', 'efectividamente', 'eff', 'effect', 'effects', 'efffing', 'efficient', 'efficiently', 'efficienza', 'effort', 'effortless', 'efgdbbuw', 'eficaz', 'efma', 'eft', 'ega3wrr4', 'eggregiously', 'eggs', 'egomania', 'egydroid', 'eh', 'eharmony', 'ehemalige', 'ehhhh', 'ehoebmdw', 'ehr', 'eigen', 'eigenteksteerst', 'eigentlich', 'eight', 'eilsonoliveira', 'ein', 'eindelijk', 'eine', 'einem', 'einen', 'eines', 'einfachen', 'eingeloggte', 'einzelnen', 'eisaahmad', 'eita', 'either', 'eizexun0', 'ej8a2msm', 'ejkelj3l', 'ejunkie', 'ekdjxo5h', 'ekh5jmgp', 'ekran', 'ekrana', 'el', 'ela', 'elbellacomusic', 'elcheicon', 'eldermltillerjr', 'eldestripaputas', 'ele', 'elearnnet', 'eleconomistanet', 'electability', 'electric', 'electrical', 'electricsoup', 'electronic', 'elegance', 'elelegido', 'eles', 'elevated', 'elh77r4p', 'elias_elegantes', 'eliasmm', 'elidaandrea', 'eliedzr', 'eligible', 'elijahcrago', 'elisafn', 'elishiawindfohr', 'elite', 'elitotora', 'ella', 'eller', 'ellos', 'elop', 'elqi5vab', 'else', 'elypfnyg', 'em', 'em2ydlrs', 'email', 'emails', 'embed', 'emboltijado', 'embracing', 'emc', 'emea', 'emergency', 'emis', 'emoji', 'emoticons', 'emp', 'empezando', 'empezó', 'emphasis', 'emphasize', 'empieza', 'empiezan', 'empiezas', 'empire', 'empleo', 'employability', 'employee', 'employees', 'employers', 'empolga', 'empowerment', 'emprendimiento', 'empresa', 'empresariales', 'empresarios', 'emprestei', 'empty', 'emptythreats', 'empêchant', 'ems9iu2e', 'emula', 'en', 'en0iacwr', 'enable', 'enabled', 'enamorado', 'encanta', 'encantado', 'encerio', 'encontrado', 'encontrados', 'encontrar', 'encontraras', 'encore', 'encountered', 'encourage', 'encouraging', 'encrypt', 'encrypted', 'encrypting', 'encryption', 'encrypts', 'encsf1ju', 'encuentra', 'encuentro', 'encuesta', 'end', 'endast', 'ende', 'endgültig', 'ending', 'endless', 'endlich', 'ends10', 'enemies', 'enemy', 'energía', 'enfiaram', 'enfin', 'enfle', 'enfrevk3', 'engadet', 'engadget', 'engage', 'engaged', 'engagent', 'engages', 'engaging', 'engine', 'engineer', 'engineering', 'engineers', 'engines', 'engt', 'enhance', 'enhancements', 'enhances', 'enheter', 'enige', 'enjekomttelaatmetjetoestel', 'enjoy', 'enjoying', 'enlaces', 'enlance', 'enlightened', 'enn', 'enorm', 'enough', 'enpwtgb4', 'enqtxsfv', 'enrages', 'ensamble', 'ensemble', 'entdeckt', 'entender', 'entenderas', 'entendiste', 'enterarr', 'entering', 'entero', 'enterprise', 'enterprises', 'entertaining', 'enthousiasme', 'enthousiaste', 'entiendo', 'entire', 'entonces', 'entons', 'entrar', 'entre', 'entrebits_com', 'entrepreneur', 'entrepreneurs', 'entreprise', 'entretenida', 'entretienes', 'entrincado', 'entro', 'enttäuschend', 'entusiasmado', 'entwickelt', 'entzückt', 'então', 'envidia', 'envie', 'environment', 'environments', 'envuelto', 'eo', 'eocfm1kd', 'eorosstx', 'ep9kzupb', 'epa', 'epaganjb', 'epharma', 'epic', 'epicfail', 'epicquotesorg', 'epicwin', 'epidemics', 'episode', 'epiv7ny5', 'epson', 'epub', 'eqazzbcz', 'eqgbhnq6', 'equal', 'equipment', 'equipo', 'equivalent', 'equivoque', 'eqz4hknk', 'er', 'era', 'erbij', 'eres', 'erfolgreich', 'erfolgsspur', 'erg', 'ergonomic', 'eric', 'ericgreenspan', 'ericligman', 'ericson', 'ericsson', 'eriikuxa', 'erika', 'erklärt', 'ermosa', 'erneut', 'ernnq40w', 'erp', 'erro', 'error', 'errores', 'errors', 'erste', 'erstklassiger', 'erweitert', 'ery', 'es', 'esa', 'esas', 'escalabilidad', 'escape', 'escasos', 'escola_saga', 'escolhas', 'escort', 'escorts', 'escrevendo', 'escribe', 'escriben', 'escribio', 'escribir', 'escribis', 'escribo', 'escritura', 'escucha', 'escuchado', 'escuchamdo', 'ese', 'esmandau', 'esnaco', 'eso', 'esos', 'esoy', 'esp', 'españa', 'español', 'españoles', 'especial', 'especially', 'especificaciones', 'espefifiquen', 'espera', 'esperaba', 'esperado', 'esperando', 'esperanza', 'esperar', 'esperenlo', 'espero', 'esphoneblog', 'espinoza', 'espn', 'esposa', 'espérant', 'esque', 'esquecido', 'esqueciido', 'essa', 'essayé', 'esse', 'essential', 'essentials', 'essentialの定義ファイルがアップデートしました', 'essentielle', 'esses', 'est', 'esta', 'estado', 'estados', 'estamos', 'estar', 'estara', 'estare', 'estará', 'estas', 'estate', 'estava', 'este', 'estes', 'estilo', 'esto', 'estooos', 'estos', 'estou', 'estoy', 'estrenando', 'estudia', 'estudiar', 'estudio', 'estupides', 'está', 'estágio', 'están', 'estás', 'estão', 'estés', 'estúpido', 'esxi5', 'esyvj7q7', 'et', 'et5lw9uf', 'eta', 'etbab2uj', 'etc', 'etha', 'ethernet', 'ethical', 'ethiopian', 'etre', 'etsamos', 'ettu', 'eturbonews', 'eturbonewsitb', 'etwa', 'eu', 'eupphd1w', 'eurekastartups', 'eurir', 'euro', 'europa', 'europe', 'european', 'europeansp', 'euw1rsnb', 'eux', 'eva', 'evacuation', 'evaluatie', 'evangelist', 'evans', 'evelinehorbach', 'evelynjullyanne', 'even', 'evenement', 'evening', 'evenings', 'evenpro', 'event', 'evento', 'eventos', 'events', 'ever', 'everettcoldwell', 'evernote', 'everson', 'every', 'every1', 'everybody', 'everyday', 'everyone', 'everyoneisacritic', 'everyones', 'everything', 'everytime', 'everywhere', 'evidence', 'evil', 'evitl2eo', 'evjih7od', 'evkkea8l', 'evo', 'evolution', 'evolutionofit', 'evoluzione', 'evolved', 'evolvetech', 'evrope', 'ewfffl35', 'ex', 'exact', 'exactly', 'exam', 'examenes', 'examine', 'example', 'exams', 'exbyurkl', 'excel', 'excelente', 'excellent', 'except', 'exception', 'excerpt', 'exchange', 'exchange2010', 'exchg', 'excited', 'exciting', 'exclaims', 'excludes', 'excluir', 'exclusive', 'exclusivo', 'excnswwx', 'excuse', 'excuseme', 'exec', 'executive', 'executives', 'exercise', 'exhibit', 'existe', 'existenciales', 'existes', 'existir', 'exists', 'exorcist', 'expande', 'expanded', 'expands', 'expect', 'expectación', 'expectations', 'expected', 'expensive', 'expensivepaperweight', 'experience', 'experiences', 'experiencia', 'experiment', 'experimento', 'expert', 'experts', 'explain', 'explained', 'explaining', 'explains', 'explica', 'explicar', 'explicarme', 'explicarón', 'explique', 'exploded', 'exploits', 'explorador', 'explored', 'explorer', 'expos', 'exposed', 'expresar', 'express', 'expérience', 'extend', 'extended', 'extends', 'extensible', 'extensivity', 'extent', 'extienden', 'extra', 'extrané', 'extreme', 'extremejohn', 'extremes', 'extremetech', 'extremists', 'ey', 'ey8goirk', 'eye', 'eyed', 'eyelash', 'eyelid', 'eyes', 'eyhmhstm', 'eylm3pav', 'eylvacyn', 'eyxcqqmk', 'ez', 'ezbtvm9z', 'ezjczlt6', 'ezqlmq4t', 'f0rnfgpa', 'f1v3hjae', 'f4f', 'f4hwan6q', 'f54uxnwi', 'f5strit6', 'f6aztiad', 'f8ball', 'f8msgjgf', 'f9a0njnx', 'f9b14ry3', 'f9l7gnwt', 'fab', 'fabi_m', 'fabiano', 'fabrciocamargo', 'fabricante', 'fabricantes', 'fabuloso', 'fac', 'face', 'facebook', 'facebookoff', 'facebookposts', 'facebooku', 'facebookページ', 'faceboook', 'facetime', 'faceunlock', 'facewbook', 'facial', 'faciale', 'facialunlock', 'facil', 'fact', 'factories', 'factors', 'factory', 'facts', 'factsandtools', 'faculty', 'fad', 'fade', 'fadenkreuz', 'fail', 'failed', 'failing', 'failinth', 'fails', 'failstevejobs', 'failure', 'failures', 'fair', 'faire', 'fairview', 'faisant', 'fait', 'faites', 'faith', 'faithmcnally', 'fake', 'fakin', 'fala', 'falando', 'falar', 'falen', 'fall', 'fallar', 'fallas', 'fallen', 'falling', 'falloir', 'false', 'falta', 'faltaria', 'fam', 'familia', 'family', 'famosa', 'famosos', 'famous', 'fan', 'fanatics', 'fanatlarinin', 'fanboy', 'fanboys', 'fancy', 'fans', 'fansoflilwayne', 'fanste', 'fantastic', 'fantasy', 'far', 'farberware', 'farha', 'faria', 'faris', 'farreal', 'farrell', 'fashion', 'fashionnoguilt', 'fast', 'fastcompany', 'faster', 'fat', 'fata', 'fatboyfresh87', 'fatfuckingchance', 'fato', 'fattest', 'faudrai', 'fault', 'faults', 'faulty', 'fav', 'favor', 'favoring', 'favoritas', 'favorite', 'favorito', 'fawkin', 'fazem', 'fazendo', 'fazer', 'fazia', 'fb', 'fb7y5e1e', 'fbdw211p', 'fbf11', 'fbjqb5ra', 'fboej2vd', 'fboff', 'fbroz6mf', 'fbvzq8yp', 'fc5lficl', 'fcbk', 'fcpbcqlo', 'fcucks', 'fcwxoud8', 'fcxdu7ma', 'fd0thhcv', 'fd1m8vn1', 'fdp', 'fdruel', 'fe', 'feat', 'feature', 'featured', 'features', 'featuring', 'feb4uimr', 'fechar', 'fed', 'federal', 'federal_and_co', 'feds', 'feed', 'feedback', 'feeding', 'feeel', 'feel', 'feeling', 'feelings', 'feels', 'feet', 'fehler', 'feiert', 'feios', 'feira', 'felices', 'felicitaciones', 'feliz', 'fell', 'fellow', 'fellows', 'felt', 'female', 'femme', 'fenómeno', 'feo', 'ferchowii', 'ferisykes', 'fermeture', 'ferranti', 'festinha', 'feu', 'few', 'fez', 'ff', 'fg0wfywl', 'fgbcxytp', 'fgc3ufed', 'fh5t5mi6', 'fi', 'fic', 'fica', 'ficaa', 'ficando', 'ficar', 'fichier', 'fico', 'ficou', 'fiction', 'fiercecio', 'fiercewireless', 'figgured', 'fight', 'figure', 'figured', 'figures', 'fiica', 'fiioapkt', 'fiiss', 'fijn', 'fika', 'fila', 'file', 'files', 'fileserver', 'film', 'filme', 'films', 'filosófico', 'filters', 'filtra', 'fin', 'final', 'finale', 'finalises', 'finally', 'finallycool', 'finalmente', 'finance', 'financial', 'financian', 'financieel', 'financiero', 'find', 'fine', 'finest', 'finger', 'fingers', 'fingerscrossed', 'finish', 'finita', 'finland', 'finna', 'finpanther', 'fired', 'firefox', 'firewire', 'firma', 'firms', 'firmware', 'first', 'firstworldproblems', 'fiscal', 'fishmama', 'fisica', 'fit', 'fitenr0v', 'fiti6zia', 'fitotorresm', 'fits', 'five', 'fix', 'fixation', 'fixed', 'fixes', 'fixing', 'fixit', 'fiz', 'fizesse', 'fj8bigte', 'fkrucqis', 'flash', 'flashcard', 'flat', 'flattery', 'flaviasansi', 'flawless', 'fleet', 'fleurs', 'flexibilidad', 'flight', 'flink', 'flinke', 'flip', 'flipando', 'flipbooks', 'flirting', 'flllws', 'flojera', 'flojo', 'flood', 'floridamike', 'flowers', 'flu', 'flv', 'flächen', 'fm', 'fm_antonio', 'fmanjoo', 'fml', 'fmlopez48', 'fmrd5g3s', 'fmzfwgyv', 'fn', 'fnbknwmj', 'fnfp1jwu', 'fnkbw24f', 'fnpio6wz', 'fo', 'focus', 'foda', 'fode', 'foi', 'foii', 'fold', 'folder', 'folders', 'folks', 'follow', 'follow2gain', 'follow4follow', 'follow_up', 'followback', 'followdaibosyu', 'followed', 'followees', 'follower', 'followers', 'followfriday', 'following', 'followlimitisgay', 'followme', 'followmejp', 'follownow', 'follows', 'fome', 'fonction', 'fondo', 'fone', 'font', 'fooda', 'foodie', 'foolish', 'foon', 'football', 'for', 'forbes', 'force', 'forced', 'forces', 'ford', 'fordert', 'forever', 'foreveralone', 'foreverfit4u', 'forex', 'forget', 'forgettin', 'forgetting', 'forgive', 'forgot', 'forgotten', 'forimmedi', 'form', 'forma', 'formación', 'formalidad', 'formas', 'format', 'formateate', 'formatos', 'forme', 'former', 'forms', 'forschungsumfeld', 'forstall', 'forsure', 'forte', 'fortfarande', 'forth', 'fortunately', 'forum', 'forward', 'fosse', 'fota', 'foto', 'fotografia', 'fotos', 'fotostream', 'found', 'foundation', 'founder', 'foundersfund', 'four', 'foursquare', 'fox', 'fpv2ydof', 'fpvkn1kj', 'fqbfdiye', 'fqlhyaat', 'fqspn4an', 'fr', 'frame', 'framework', 'fran_mac_', 'france', 'franchement', 'francisco', 'frank_2869', 'frankhenchusa', 'français', 'frase', 'frases', 'freakbull_', 'freaked', 'freaking', 'freaks', 'fredbenenson', 'free', 'free_nuttball', 'freedom', 'freega', 'freelance', 'freelancer', 'freesoftwarefoundation', 'freestyle', 'freeze', 'freezes', 'freezing', 'fregon', 'fregues', 'french', 'frente', 'frequently', 'fresh', 'freshened', 'fri', 'fried', 'friend', 'friendliness', 'friends', 'friendship', 'friggin', 'fringe', 'frio', 'frizzy_drizzy', 'frm', 'frnds', 'from', 'front', 'frontpage', 'frown', 'froze', 'frozen', 'fruit', 'fruits', 'frustrated', 'frustration', 'frutas', 'från', 'fs', 'fsf', 'fslfpmob', 'ft', 'ftl', 'ftlttlpn', 'fttank', 'ftw', 'fu', 'fuck', 'fucka', 'fucked', 'fucker', 'fuckin', 'fucking', 'fuckingpissed', 'fuckingshinez', 'fuckinup', 'fucknwithfatty', 'fucks', 'fucktec', 'fuckyoumean', 'fud', 'fue', 'fue4vxxe', 'fuel', 'fuera', 'fueron', 'fuh', 'fui', 'fuieskecido', 'ful1time', 'full', 'fullscreen', 'fully', 'fulminate', 'fun', 'funciona', 'funcionalidad', 'funcionan', 'funcionar', 'funcionarán', 'funcionou', 'function', 'functionality', 'functioning', 'functions', 'fundando', 'fundingroadmap', 'fundo', 'funds', 'funkci', 'funkfish_2', 'funktion', 'funniest', 'funny', 'funnyyyyyyy', 'funziona', 'funzioni', 'furniture', 'future', 'futuriste', 'futuristic', 'futurking', 'futuro', 'fuzzball', 'fvynow2p', 'fwdallie', 'fwm', 'fx2', 'fxbrysgk', 'fxck', 'fxhomehitfilm', 'fxjyozev', 'fxqxdqb8', 'fytcyeg2', 'fyw5k9g7', 'fyyiimix', 'fz216oij', 'fz5qx2cg', 'fzem9na4', 'fzjd2zx1', 'fête', 'fía', 'för', 'führung', 'für', 'g0elvrvj', 'g123k', 'g2snzeve', 'g3wgjl6r', 'g4cobopl', 'g6eofuyy', 'g6wa1998', 'g7ilqlme', 'g8uof7uz', 'ga', 'gaabisfc_', 'gaaf', 'gaan', 'gaat', 'gabemoormanlaw', 'gabriel_j_gomez', 'gadget_guy', 'gadgeteer', 'gadgetlab', 'gadgets', 'gaelduhamel', 'gah', 'gain', 'galaxy', 'galaxy_nexus', 'galaxynexus', 'galaxys2', 'galaxysii', 'galera', 'galeraa', 'galerie', 'gallen', 'gallery', 'galuhoktriana', 'game', 'gamecenter', 'gamefly', 'gamer', 'gamerchik16', 'gamers', 'games', 'gaming', 'gamit', 'gana', 'ganamos', 'ganando', 'ganaron', 'ganas', 'ganda', 'ganna', 'ganun', 'ganz', 'gapeyl5n', 'garantie', 'garantía', 'garbage', 'garden', 'garmin', 'garner', 'garotanachuva', 'garr_williams', 'gartner', 'gartnersym', 'gastes', 'gasto', 'gate', 'gates', 'gateways', 'gato', 'gatos', 'gattenist', 'gave', 'gay', 'gazette', 'gazmaz', 'gb', 'gbkv9pbq', 'gcicpex4', 'gcrpukwf', 'gcy8iphn', 'gd', 'gdapps', 'gdcurry', 'gdetlxsn', 'gear', 'gebied', 'gebruik', 'gebruikers', 'gee', 'geecloud', 'geeft', 'geek', 'geekfact', 'geekosystem', 'geeks', 'geekwire', 'gefelicteerd', 'gefunden', 'gefällt', 'gegen', 'gehabt', 'gehackte', 'gehad', 'geholpen', 'geht', 'gejat', 'geld', 'geleceğin', 'geleerd', 'gelijk', 'geliyoruz', 'gelungen', 'gem', 'gemaakt', 'gemini', 'gemist', 'gems', 'gen', 'genau', 'genera', 'generación', 'generador', 'generalüberholt', 'generate', 'generation', 'generations', 'generator', 'genial', 'genio', 'genius', 'geniusbar', 'geniální', 'genoeg', 'gent', 'gente', 'genteeee', 'gentem', 'gentle', 'genuine', 'genyen', 'geo', 'geographic', 'geographictarget', 'geolocation', 'geoloco', 'geovannyacaro', 'gepresenteerd', 'gera', 'gerade', 'geral', 'gerardopaolillo', 'german', 'gernijkamp', 'geräte', 'geschäftskunden', 'gesponsord', 'gestion', 'gestión', 'gesture', 'gestures', 'get', 'getaclue', 'getglue', 'getitdone', 'getmorefacebookfanpagelikes', 'getn', 'gets', 'getsamanthaofftwittereveryone', 'gettare', 'gettin', 'getting', 'gevecht', 'geven', 'geweigerd', 'geweldig', 'gezien', 'geïnstalleerd', 'gf', 'gfeller', 'gforbz3', 'gfs', 'gg', 'ggbyvvu0z5s', 'gglwtslt', 'gh0tvqmo', 'ghbzfbx3', 'ghcez2yk', 'ghost', 'ghpcgcpx', 'ghpdqalt', 'gi', 'giant', 'giants', 'gibt', 'gift', 'gifts', 'gigaom', 'gigo', 'gigs', 'gihtheij', 'gihypzwo', 'giiz_arg', 'gimmie', 'ginbvlsk', 'gingerbread', 'gingrich', 'ginza', 'giorno', 'giovanettinico', 'girl', 'girlfriend', 'girlies', 'girls', 'gisteren', 'gitex', 'giuchavez', 'giuliano3g', 'giuseppepietta', 'give', 'giveaway', 'gives', 'givin', 'giving', 'gizmo', 'gizmodo', 'gizmología', 'già', 'gjdijkman', 'gjiu2zz1', 'gk6yjtfy', 'gklxmui6', 'gkohbpn8', 'gkumaran', 'gl', 'glaad', 'glad', 'glaralopez', 'glass', 'glasvezel', 'glaube', 'glcjzqxg', 'glee', 'glendale', 'glissière', 'glitch', 'glluqitj', 'gloaxhle', 'global', 'globale', 'globally', 'globe', 'glorified', 'glorifier', 'glutus', 'glyzoxmc', 'gm', 'gmail', 'gmbh', 'gmic', 'gmsgxcq8', 'gmt9slfn', 'gmusic', 'gn', 'gncdgqsc', 'gnu', 'gnutta', 'gny9g07b', 'go', 'goalset', 'gobierno', 'god', 'godbless', 'gods', 'goed', 'goede', 'goedegebuure', 'goen', 'goes', 'gogogo', 'goin', 'going', 'gold', 'golf', 'golpe', 'gome', 'gon', 'gona', 'gone', 'gonna', 'goo', 'good', 'goodbye', 'goodmorning', 'goodmourning', 'goodnews', 'goodnight', 'goodnightpeople', 'goodnightworld', 'goodnite', 'goodnitee', 'goodriddance', 'goods', 'goodsamarit', 'goodsamaritanswag', 'goodtoknow', 'goodwill', 'goof', 'goog', 'googland', 'google', 'google_topic', 'googleapps', 'googlechrome', 'googled', 'googledocs', 'googledownunder', 'googlemusic', 'googlenews', 'googlenexus', 'googlepanda', 'googlephone', 'googleplus', 'googlepresentations', 'googleresearch', 'googles', 'googlesearch', 'googlesocialmedia', 'googletoolbar', 'googleventures', 'googlewatchblog', 'googleと共同でgoogleリファレンス機', 'googling', 'gooodnight', 'goose', 'goqgjvvb', 'gordf5dj', 'gorgeous', 'gorinchem', 'gosocial', 'gosta', 'gostando', 'gostei', 'got', 'gotcha', 'gotta', 'gotten', 'gottes', 'gouden', 'gov', 'governance', 'government', 'governor', 'govhs', 'gowhitedawg', 'gozu', 'gp', 'gp8tirxn', 'gp_jman852', 'gpb2mjfw', 'gplus', 'gpo', 'gps', 'gpt4ptr0', 'gqihdces', 'gqqyqbag', 'gqxbjo7j', 'gr', 'graacias', 'grab', 'grabs', 'gracias', 'grad', 'grahamgoingham', 'gran', 'grandes', 'grandiosa', 'grandioso', 'grandma', 'granting', 'grantthornton', 'grantthorntonnl', 'graphic', 'graphicsworkstation', 'grasiias', 'grass', 'gratis', 'grattis', 'gratuito', 'grava', 'grave', 'graxiias', 'gray', 'grazie', 'grazitti', 'graça', 'grde', 'greader', 'great', 'greater', 'greatly', 'greatsuccess', 'greedy', 'green', 'greener', 'greenest', 'greenpower', 'greenrankings', 'greenwich', 'gregulator0', 'gretcheneclark', 'grew', 'grey', 'grg', 'grhbooar', 'grin', 'grind', 'gripmetict', 'groeipo', 'groeit', 'groenewegbv', 'grolschveste', 'groningen', 'gros', 'gross', 'grote', 'ground', 'group', 'groupies', 'groupon', 'groupwise', 'grown', 'growth', 'growuppeterpan', 'großen', 'grrrr', 'gruber', 'grumbledook', 'grupo', 'grupotrevenque', 'größten', 'gsa', 'gscupquv', 'gsi', 'gsmarena_com', 'gt', 'gtojxlhh', 'gtqdvfxo', 'gu7sckxl', 'guacamaya', 'guadalajara', 'guae', 'guarantee', 'guarantees', 'guarded', 'guardian', 'guardiantech', 'gud', 'guess', 'guessers', 'guests', 'gui', 'guide', 'gulp', 'gun', 'gunaiiii', 'gundotra', 'gunna', 'guns', 'guru', 'gusa', 'gusta', 'gustando', 'gustar', 'gut', 'guuuif', 'guy', 'guys', 'guysie', 'gv1edcvp', 'gvbdhliu', 'gwgoddess', 'gwi35vtp', 'gwokoceg', 'gx07qywe', 'gxvkqi6z', 'gyge5sca', 'gyguyr64', 'gym', 'gym6puux', 'gzmdzvle', 'gêne', 'gājis', 'h0gscvzr', 'h1a3v7zv', 'h1ih7fn6', 'h2qmdwpp', 'h3dseq5h', 'h4ouzdok', 'h4x0ghbl', 'h822ecym', 'h8anhavu', 'h8geayt5', 'h8n7casg', 'h8pi2sjx', 'h8pyttyr', 'ha', 'haah', 'haalt', 'hab', 'habe', 'haben', 'haber', 'haberleryorumlar', 'haberme', 'habian', 'habilidad', 'habitantes', 'hablamos', 'hablar', 'habló', 'habras', 'habro', 'había', 'hace', 'hacer', 'haces', 'haciendo', 'hack', 'hackeado', 'hacked', 'hackeo', 'hacker', 'hackers', 'hacks', 'had', 'hadoop', 'hadopi', 'haendel', 'haendelbalzora', 'hago', 'hah', 'haha', 'hahaha', 'hahahaha', 'hahahahaha', 'hahahahahaha', 'hahahahhaha', 'hahahha', 'hahahhaha', 'hail', 'hailfire101', 'hain', 'hair', 'hairline', 'hairs', 'hak', 'hakim', 'half', 'hall', 'hallelujah', 'halo', 'ham', 'hammer', 'han', 'hanbell', 'hand', 'handelingen', 'handheld', 'handig', 'handle', 'handled', 'handling', 'handmatig', 'hands', 'hands_on', 'handsets', 'handy', 'hang', 'hanging', 'hangouts', 'hannahmccall1', 'hanrahan52', 'happen', 'happened', 'happening', 'happens', 'happier', 'happy', 'happyplace', 'haptique', 'har', 'hard', 'harder', 'hardware', 'hardy', 'harmonix', 'harper', 'harshgandhitk', 'harvard', 'haría', 'has', 'hasanga', 'hashtags', 'hasn', 'hasta', 'hastamañana', 'hat', 'hatahet', 'hate', 'hated', 'hater', 'hates', 'hatin', 'hating', 'hatte', 'haut', 'have', 'haven', 'havin', 'having', 'hawaii', 'haxxdubbz', 'hay', 'hazi', 'hbk4fxjk', 'hblodget', 'hbo', 'hbogo', 'hckjxz4k', 'hcr3fspd', 'hcsmeu', 'hd', 'hd4pi9lm', 'hdd', 'hdljwzaw', 'hdmi', 'hdv', 'hdzmarin1', 'he', 'head', 'headache', 'headed', 'headers', 'headings', 'headline', 'headphones', 'headquarters', 'health', 'healthcare', 'healthinformation', 'healthit', 'healthvault', 'healthy', 'hear', 'heard', 'heart', 'hearts', 'heatmeup', 'heaven', 'heavily', 'heavy', 'heb', 'hebben', 'hecha', 'hechas', 'hecho', 'hechos', 'heck', 'heco', 'hectic', 'hectoralteto', 'hectorsm', 'hedicho', 'heeft', 'hehe', 'heheh', 'hehehe', 'hehhe', 'heidiknyc', 'heimacho', 'heise', 'heiseonline', 'hej5w0yk', 'hekelen', 'hell', 'hella', 'hellmuth', 'hello', 'hellonearth', 'hellyeah', 'help', 'helped', 'helpful', 'helping', 'helpme', 'helps', 'helsinki', 'helt', 'helvetica', 'heme', 'hemo', 'hemp', 'hendricks', 'hengqgqp', 'hennessynation', 'her', 'herahussain', 'here', 'hermancain', 'hermanita', 'hero', 'herramienta', 'herramientas', 'herrero', 'hersheytech', 'hervepierre', 'hes', 'het', 'heute', 'hey', 'hfwpbmy6', 'hfzf2cje', 'hghmpose', 'hhamwm8k', 'hhfjbbhu', 'hhkvlwfb', 'hi', 'hi1cq2si', 'hiarly', 'hiba', 'hibjxhvd', 'hiccups', 'hide', 'hides', 'hier', 'hierover', 'higado', 'high', 'higher', 'highlight', 'highlights', 'highly', 'highscoolmemories', 'hightech', 'hignhutr', 'higyyavy', 'hij', 'hijqpbso', 'hilarious', 'hillsdale', 'him', 'hindi', 'hints', 'hinweis', 'hip', 'hipocritas', 'hipster', 'hire', 'hiring', 'hirudineajigane', 'his', 'hiso', 'hispanicbizmag', 'hispanics', 'hiss', 'hissy', 'historia', 'history', 'hit', 'hitech', 'hitler', 'hits', 'hitting', 'hj', 'hj8qloc9', 'hk', 'hkcbc7pm', 'hkk3qmme', 'hlgnvlrw', 'hlickxpv', 'hlrxf2df', 'hlvutyca', 'hlxjvmur', 'hlybd7uc', 'hm', 'hm2x3yim', 'hmm', 'hmmm', 'hmmmm', 'hmo2qdko', 'hmt51bdf', 'hnamtnzh', 'hnews', 'hnrzdfk5', 'hnxvwypp', 'ho', 'hob37hbo', 'hocker', 'hockey', 'hoe', 'hoes', 'hofmania', 'hogwarts', 'hoh', 'hoje', 'hojx73hh', 'hola', 'hold', 'holdem', 'holder', 'holding', 'holiday', 'hollycash', 'holodeck', 'holodesk', 'holographic', 'home', 'homedepot', 'homeless', 'homepage', 'homies', 'honchos', 'honda', 'honeka', 'honest', 'honey', 'honeycomb', 'hong', 'hongkong', 'honor', 'honored', 'honra', 'hoo', 'hoodmemories', 'hook', 'hooked', 'hookup', 'hoor', 'hooray', 'hope', 'hopeful', 'hopefully', 'hopes', 'hoping', 'hoppas', 'hoqa4erq', 'hora', 'horariodeverao', 'horas', 'horizontal', 'horrible', 'hors', 'horse', 'hospital', 'host', 'hosted', 'hoster', 'hosting', 'hot', 'hotel', 'hotmail', 'hotspots', 'hour', 'hourly', 'hours', 'house', 'household', 'housemusic', 'housewives', 'houston', 'how', 'howardmortman', 'howest', 'however', 'howl', 'howto', 'hoy', 'hoyxdbdq', 'hp', 'hpc', 'hpc_guru', 'hpci', 'hpvirtualsystem', 'hq', 'hr', 'hrkwt2va', 'hrllvlik', 'hrs', 'hsauhsauashasuhsushauhsuashuashashuash', 'ht', 'htc', 'htl', 'html5', 'htputbfk', 'htt', 'http', 'https', 'hubby', 'hublot', 'hubo', 'hubspot', 'hudl', 'hueon', 'huevo', 'huffington', 'huffpost', 'huge', 'hugo', 'huh', 'hui', 'hulu', 'human', 'humana', 'humano', 'humantrafficking', 'humble', 'humilharam', 'humor', 'humour', 'humpt', 'hungry', 'huren', 'hurry', 'hurt', 'hurting', 'hurts', 'hush', 'hut', 'hut3fqya', 'hv2oi81b', 'hvac', 'hvoeip2z', 'hvordan', 'hvtfscxz', 'hwa4twic', 'hwzziekk', 'hx21e1jk', 'hxsalzpv', 'hybrid', 'hype', 'hyper', 'hyperlink', 'hyperv', 'hypo', 'hypocritical', 'hyvesspelletjes', 'hze1tqal', 'håper', 'hé', 'hört', 'i0s5', 'i1khkgjm', 'i26cnxh8', 'i2a', 'i4s', 'i6r95xgk', 'i6woujuh', 'i6ywq7or', 'i8sw5udz', 'i9', 'iaa', 'iadmire', 'iae', 'iahhagxy', 'iam', 'iamderekramsay', 'iamdkt', 'iamroyaltyfresh', 'iamsrk', 'iamtinathompson', 'iancollinsuk', 'iatj4kb9', 'iba', 'ibad', 'ibm', 'ibmconnections', 'ibmwatson', 'ibooks', 'ical', 'icar', 'ice', 'ice_cream_sandwich', 'icecream', 'icecreamsandwhich', 'icecreamsandwich', 'icecreamsandwichandroid', 'icecreamsandwichevent', 'icecreamsandwichfail', 'icelebrates', 'icemaker', 'ich', 'ichiro_', 'ici', 'icloud', 'iclould', 'icm', 'icon', 'icono', 'icons', 'icpc', 'ics', 'icsnexus', 'ict', 'icurioso', 'id', 'idag', 'idea', 'ideas', 'identica', 'identifico', 'identify', 'identity', 'idgafboutyou', 'idgnow', 'idioteces', 'idisk', 'idk', 'idontunderstand', 'idtheftprotect', 'idéia', 'ie', 'ie6', 'ie8', 'ie9', 'iedere', 'iempo', 'iesgo', 'if', 'if3ivlwn', 'ifb', 'iflb5ehj', 'ifollowback', 'ifull', 'ifxu5za0', 'ig3gi4qd', 'ig4qm3sn', 'igainfollows', 'igen', 'igenius', 'iggyet9s', 'igiveup', 'ignore', 'igobythenameofa', 'igohard_noboner', 'igorlilmonster', 'igq9kdil', 'igual', 'iguanahosting', 'ihaberplus', 'ihateitwhen', 'ihateyourightnow', 'ihelpline', 'iherreros', 'ihkhquq8', 'ihnatko', 'ihre', 'ihrem', 'ihres', 'ihs', 'ihts3pyw', 'ii', 'iilxenki', 'iiwdnk0n', 'ij292ye3', 'ij6xydp3', 'ijnetes', 'ijnzkfvj', 'ijustine', 'ijwr1muj', 'ik', 'ik3iq8kr', 'ikaveri', 'ikn087ze', 'ikooqdoc', 'ikuti', 'ikzim8i5', 'il', 'il1u0v8v', 'iley_little', 'iljdqbpt', 'ill', 'illustrating', 'ilnouvgk', 'ilovemytats', 'iloveya', 'iloveyou', 'ilqpkez0', 'ils', 'iltsm', 'ilumine', 'ilwps3f9', 'ilygz5ox', 'im', 'ima', 'imac', 'image', 'imagens', 'images', 'imagine', 'imaginecup', 'imagino', 'imam', 'imamac', 'imas', 'imason_inc', 'imchokolatewhou', 'imdb', 'ime', 'imediasummit', 'imessage', 'imeに秋田弁辞書なんてあったらおもしろいのに', 'imid6bem', 'imightbewrong', 'imita', 'imitando', 'imitation', 'imjusaskin', 'immad_immad', 'immediate', 'imminent', 'immobile', 'immobilienbewirtschaftung', 'imo', 'impact', 'impatient', 'impersonation', 'implant', 'implement', 'implementatie', 'implementation', 'implementing', 'implique', 'implémenté', 'importa', 'importance', 'importancia', 'important', 'importantes', 'importantly', 'importe', 'importing', 'impossible', 'impresionante', 'impresión', 'impress', 'impressed', 'impressionado', 'impressione', 'impressionnant', 'impressions', 'impressive', 'improve', 'improvement', 'improvements', 'improves', 'impulsonegocios', 'impulsor', 'imron', 'in', 'in2', 'ina', 'inanimate', 'inbox', 'inbuilt', 'inc', 'incapable', 'incase', 'incentive', 'inch', 'incl', 'include', 'included', 'includes', 'including', 'inclus', 'incluso', 'incluía', 'incomparable', 'incompatible', 'inconvenienced', 'inconvenient', 'incorrect', 'increase', 'increasing', 'incredibile', 'incredible', 'increibles', 'increíble', 'incrivel', 'ind', 'indeed', 'index', 'indexed', 'india', 'indian', 'indians', 'indicadoresdegestión', 'indicar', 'indicator', 'indie', 'indique', 'indirecta', 'indirectaaas', 'indiretaa', 'indispensável', 'individual', 'indo', 'industry', 'inea', 'ineedadoctor', 'ineedthosepictures', 'ineedtoupdate', 'ineligene', 'inend', 'inept', 'inez260', 'infamarketplace', 'infamous', 'inferno', 'infinita', 'infinite', 'infinito', 'infinitywebinar', 'influent', 'influential', 'info', 'infofail', 'infografía', 'infograhpic', 'infographic', 'inform', 'información', 'information', 'informationen', 'informationweek', 'informativo', 'informazione', 'informaçoes', 'informática', 'inforpath', 'infos', 'infosys', 'infrastructure', 'infrastrukturlösungen', 'infringement', 'ingeniosa', 'ingenioso', 'ingewikkeld', 'inglés', 'inicial', 'iniciamos', 'iniciar', 'inicio', 'initialisms', 'initiative', 'inizia', 'injunction', 'ink', 'inkiworld', 'inline', 'inna', 'inner', 'innotive', 'innov', 'innovaciones', 'innovate', 'innovati', 'innovation', 'innovations', 'innovators', 'innovazione', 'innové', 'input', 'inqbcg68', 'ins', 'insane', 'insanely', 'inscrava', 'inscreva', 'insert', 'insertion', 'inside', 'insider', 'insight', 'insignia', 'insist', 'insolvency', 'insomnio', 'inspiration', 'inspire', 'inspired', 'inspirerende', 'inspiron', 'instagram', 'install', 'installation', 'installed', 'installent', 'installer', 'installera', 'installing', 'instanfollowbac', 'instant', 'instantannée', 'instantfollowback', 'instantly', 'instead', 'instellingen', 'institut2f', 'institute', 'instructions', 'instruments', 'insultas', 'insurance', 'intao', 'integración', 'integrada', 'integrar', 'integrat', 'integrate', 'integrated', 'integrates', 'integrating', 'integration', 'integrovat', 'inteiro', 'intel', 'intellectual', 'intelligence', 'intellimatch', 'intenda', 'intende', 'intended', 'intensifies', 'intent', 'intento', 'interact', 'interacting', 'interaction', 'interactive', 'interactuar', 'interconnect', 'interesado', 'interesados', 'interesante', 'interese', 'interesing', 'interessant', 'interesse', 'interest', 'interested', 'interesting', 'interestng', 'interests', 'interface', 'interfaces', 'interfase', 'interfaz', 'interference', 'interim', 'interims', 'intern', 'internal', 'internasional', 'internet', 'internetbh', 'internethighschoolofeducation', 'internode', 'interoperability', 'interrupting', 'intervals', 'intervate', 'interview', 'interviewed', 'interviewing', 'interviews', 'intervista', 'intework', 'inthequeencity', 'intikhabates', 'into', 'intraday', 'intrductie', 'intriguing', 'intro', 'introduce', 'introduced', 'introduces', 'introducing', 'introduction', 'intuitive', 'intune', 'intègré', 'intégration', 'intégré', 'intégrées', 'invadió', 'invent', 'invented', 'invention', 'invento', 'inventor', 'inventory', 'invertimos', 'invested', 'investigate', 'investigating', 'investimenti', 'investment', 'investments', 'invisible', 'involved', 'io', 'io5', 'ios', 'ios5', 'ios5atemydingo', 'ios5downgrade', 'ios_notch', 'ip', 'ip_wars', 'ipad', 'ipad1', 'ipad2', 'ipadpowerusers', 'ipads', 'ipadのビジネス活用セミナー', 'ipas', 'ipda', 'ipexpo', 'iphome4s', 'iphone', 'iphone2', 'iphone4', 'iphone4s', 'iphone4s_nerd', 'iphone5', 'iphone_news', 'iphoneartists', 'iphonecases', 'iphoneclub', 'iphones', 'iphoneのアドレスは', 'iphone行列並んだー', 'iphonologo', 'iphoto', 'iplaw360', 'ipn', 'ipo', 'ipod', 'ipod4s', 'ipods', 'ipodzombi', 'ipsos', 'ipv6', 'iqa0ipvt', 'ir', 'ir6ld23i', 'ir9f1iab', 'irain', 'ireallyhatewhenpeople', 'irei', 'ireton', 'irgendwie', 'iria', 'irinaalfonzo', 'irl', 'irma', 'irmpjois', 'irmã', 'ironisch', 'irony', 'irrenanstalt', 'irse', 'irvine', 'irvysan', 'iryn5vis', 'is', 'is9x23jr', 'isa', 'isa13mp27', 'isaaa', 'isabelsalazarj', 'isaiasx19', 'isaidit', 'isarenas', 'isb', 'iscream', 'iscsi', 'ishi', 'ishit', 'ishpconsult', 'ismaelitodrums', 'ismaellarosa', 'isn', 'isnst', 'isnt', 'iso', 'isorry', 'isso', 'issue', 'issues', 'ist', 'isteps', 'istoriju', 'istället', 'isuck', 'isus', 'isv', 'it', 'italianjoya', 'itasum11', 'itaylor_simpson', 'itb', 'itdklrry', 'iteach', 'item', 'items', 'iteration', 'itespresso', 'itheperson', 'itiinha_lais', 'itjustworks', 'itmedia', 'itml0lxq', 'itnews_au', 'itohedz', 'itoostnederland', 'itouch', 'itouch4', 'itpro', 'its', 'its_kcheese', 'itsecurity', 'itss', 'itsthesituation', 'itstolate', 'ittraining', 'itunes', 'itunesmatch', 'itunesmusic', 'itunesstoresupport', 'itusabias', 'itweettechnews', 'iuaa4yue', 'iuehaiuaheiuhaeiuh', 'iui7jtcm', 'ius8431m', 'iusxjjdq', 'iuvizp0t', 'iuy0df5s', 'iuykwvrq', 'ive', 'iw7kjq81', 'iwaj1aga', 'iwantanautomaticpromotion', 'iweb', 'iwehzoqx', 'ix4fecm2', 'ixd', 'ixquat2l', 'iy3vnaff', 'iyo86gvj', 'iytwizzv', 'izfssjgo', 'izh7kaiu', 'izo0wunt', 'j1t6khgp', 'j2ftieng', 'j332zfpo', 'j3p3kyhf', 'j45gm98h', 'j4aho3aa', 'j4l892kk', 'j7hkabzb', 'j8fgwwgs', 'j_roc616', 'ja', 'ja9seesh', 'jaan', 'jaar', 'jaccusedz', 'jackasses', 'jackdavidson95', 'jacked', 'jacket', 'jackiebaaby_', 'jackiestone1', 'jackpot15', 'jackson', 'jacob', 'jacobstanton2', 'jadi', 'jadishmedia', 'jafjt8ub', 'jag', 'jaiku', 'jail', 'jailbroke', 'jailbroken', 'jaime_rivera', 'jaja', 'jajaj', 'jajaja', 'jajajaj', 'jajajaja', 'jajajajaja', 'jajajajajaja', 'jajajajajajaj', 'jajajajajajajaj', 'jajjaa', 'jajjajaa', 'jak', 'jake_gyllenhaal', 'jakedizzlewins', 'jaký', 'jala', 'jaloezie', 'jalon', 'jamaicanidler', 'james', 'jammer', 'jammers302', 'jamás', 'jan', 'jane', 'jane73', 'janm', 'japan', 'japanese', 'jarjartee', 'jaroslovsky', 'jasaro10', 'jatfvfpm', 'jau', 'javascript', 'jaylastarr', 'jayscandreth', 'jbdancingmachin', 'jblank23', 'jbmsau6o', 'jbs0duyq', 'jbuyd6ou', 'jcannondsd', 'jcawwrzq', 'jcjbfz8w', 'jcmwright', 'jcp7bkvg', 'jcqpi1hs', 'jcsantos22f1', 'jct2ahoe', 'jd3x8sgm', 'jdougyj', 'jdvas9rh', 'je', 'jean', 'jebo', 'jede', 'jedsinger', 'jeenzqdw', 'jeez', 'jeffbullas', 'jefferypjacobs', 'jegkwrdr', 'jeito', 'jeje', 'jejee', 'jejeje', 'jejejeeje', 'jemazuce', 'jemeyndb', 'jenniferwarters', 'jennyorwuuut', 'jenweedin', 'jeremey', 'jerkoffmore', 'jerrybrown', 'jerryfolio', 'jerytecnologias', 'jesperordrup', 'jess_haddad', 'jessecablek', 'jessnovelo', 'jessvpeterson', 'jesus', 'jet', 'jeteando', 'jets', 'jetzt', 'jeux', 'jewelry', 'jewels', 'jewelsantini', 'jewelz2611', 'jews', 'ještě', 'jfsikora', 'jg24duia', 'jhb', 'jhdtykcv', 'jhgldej9', 'jhodemrd1', 'jhon_doe_smokes', 'jhonalexgarciaa', 'jhoodmartin', 'ji_lee', 'jicu3kon', 'jihad', 'jij', 'jijijiji', 'jilive', 'jilldyche', 'jimmcniel', 'jimml4rc', 'jinnhvwz', 'jiqbgghc', 'jisuis', 'jiv8z67u', 'jivkvbah', 'jizz', 'jjrwivmc', 'jk', 'jk1pxcya', 'jkgfn9rr', 'jkotcrmb', 'jkrzygbo', 'jkzqrno6', 'jl', 'jlachance04', 'jldavid', 'jlruwrf6', 'jlsrgoxi', 'jlzvsr9f', 'jmyt6myl', 'jnmnbs9w', 'jns1oezn', 'joannejacobs', 'job', 'jobely', 'jobs', 'jodi', 'jodiendo', 'jodió', 'jodmoruf', 'joe_joseff', 'joebelfiore', 'joel', 'joelburns', 'joelcardozo', 'joelplane', 'joffrey', 'joga', 'jogo', 'johanblok', 'john', 'johnnyvegas', 'johnodame', 'join', 'joining', 'joins', 'joint', 'jojh48lg', 'joke', 'jokeaholic_p', 'jokes', 'joking', 'jokinimanol', 'jolieesharmeda', 'jolly', 'jomanerh', 'jomucrmb', 'jon4lakers', 'jonathangodin', 'jonjars', 'jonsibley', 'jordanomazzoni', 'jorge', 'jorgehillcoat', 'jorgetb7', 'joselopes_2001', 'joseph', 'josialbass', 'jou', 'jouer', 'joumany', 'jour', 'journ', 'journalists', 'journaux', 'jovfezrl', 'jowyang', 'jpobrien11', 'jpにすればいいのに', 'jr', 'jrc4qstj', 'jreephnr', 'jsou', 'jsq96nuq', 'jsrvrfgk', 'jtbrownn', 'jtdaca2w', 'jte7vudk', 'jtrezza', 'ju', 'juanbatero1', 'juancamilo890', 'juanda95', 'juanhustle', 'juani_2', 'juanjimenez_v', 'juank3946', 'juanpittau', 'judge', 'judgegregmathis', 'juditheva', 'juegos', 'juelaa', 'jugada', 'jugador', 'jugar', 'juger', 'jui4nyzg', 'juice', 'juicio', 'juick', 'julbut', 'julia', 'julioandres26', 'julioeffio', 'jum', 'jump', 'jumpin', 'jumps', 'junglee', 'junk', 'junkie', 'junkyard', 'junscastro', 'juntar', 'juntos', 'juraba', 'jure', 'jus', 'just', 'justbecause', 'justice', 'justin', 'justinbieber', 'justizministerium', 'justo', 'justsayin', 'justsaying', 'juventude', 'jvidt6u4', 'jvptsfzz', 'jvqwzhkd', 'jw1ubodi', 'jwn', 'jwspetbd', 'jxhfhptj', 'jxpuvecs', 'jxyhhfnv', 'jy0ipy9a', 'jy7fbeid', 'jyxk7okc', 'jzmvbdnm', 'jzqi1jui', 'jzr2wtce', 'jzwofwyc', 'já', 'k074n0z2', 'k0tksz1o', 'k10svnnr', 'k1kdqz04', 'k2qyy9ex', 'k2rrc2ir', 'k2t4ztcy', 'k3', 'k3quwgcu', 'k3txy6jz', 'k4zezsin', 'k6bggvdx', 'k6yafacy', 'k7b686hx', 'k8oalek2', 'k8rqwxty', 'k9qst4r4', 'k_vanee', 'ka', 'kabinet', 'kaczpmyo', 'kaekaed', 'kahnfla7', 'kaifi', 'kaiylw0lf', 'kalemurphy', 'kalezo', 'kalifornia', 'kamera', 'kami', 'kampagne', 'kan', 'kanał', 'kann', 'kant', 'kantoor', 'kanvaskings', 'kanyang', 'kanye', 'kapalıyız', 'kapot', 'kar', 'karaoke', 'karate', 'karljuhlke', 'karo', 'karofsky', 'karsten', 'karth_vader_', 'karşı', 'kasama', 'kasper', 'kasus', 'kat', 'katebetts', 'kathrynyee', 'katie', 'katieec7', 'kaun', 'kayo', 'kazdem', 'kb2553065', 'kbp15ktt', 'kbworks', 'kcetw7rt', 'kcyoungboss', 'kdbnjyyb', 'kdhaufdl', 'kdtd4zre', 'ke', 'ke0dfnql', 'keadilan', 'keep', 'keeping', 'keepnupwittboyd', 'keeps', 'keepsake', 'keepthedesktop', 'keine', 'keithkeller', 'keizai', 'kekelauren', 'kelkeswa', 'kelley', 'kelly', 'kenbellezen', 'kentisg', 'kentstoffels', 'kenya', 'kenyaopendoor', 'kept', 'ketua', 'kevin', 'key', 'keyboard', 'keyboards', 'keynote', 'keynotes', 'keynoteu', 'keypad', 'keys', 'keyword', 'keywords', 'kf9supyg', 'kfwq8r4t', 'kfylbmpj', 'kgnrbvgp', 'kgw54mac', 'kha1989led', 'khoslaventures', 'khrizjoohn', 'khtdqsho', 'ki', 'ki7jjuli', 'kick', 'kicked', 'kickoff', 'kicks', 'kid', 'kidding', 'kids', 'kiere', 'kihs1hrm', 'kiite', 'kijk', 'kijken', 'kikitoutdur', 'kill', 'killed', 'killin', 'killin_emsoftly', 'killing', 'kimaris', 'kimdeanmusic', 'kind', 'kinda', 'kindahow', 'kindergarten', 'kinect', 'kinext', 'king', 'king_fizzy', 'kingstoncc', 'kis', 'kisesessesesesesesese', 'kiss', 'kissed', 'kissing', 'kit', 'kita', 'kj2y69hm', 'kj6pjvkh', 'kj890kmf', 'kjigyufr', 'kjkz77zy', 'kjwugom3', 'kk', 'kkakfsch', 'kkdup8v1', 'kkk', 'kkkk', 'kkkkatat', 'kkkkk', 'kkkkkk', 'kkkkkkk', 'kkkkkkkkkkkkk', 'kkswpbtw', 'kkuawlc7', 'kkuepmvw', 'klant', 'klantgerich', 'klicks', 'klingelte', 'klmgkh5v', 'klout', 'kma7znaf', 'kmiones', 'kmj0o1ja', 'kml', 'kn18pgcd', 'knapp', 'knee', 'knew', 'knicks', 'kniz452s', 'knmpxsw0', 'kno', 'knots', 'know', 'knowing', 'known', 'knows', 'knowyourmobile', 'knrjoflf', 'knw', 'ko', 'koalis', 'kobo', 'kofax', 'kojqre1q', 'komen', 'kommende', 'komplicerat', 'komprar', 'kon', 'kondigt', 'kong', 'kongres', 'konijn', 'kontrak', 'kontrolle', 'konzentration', 'koopt', 'koppel', 'korben', 'kost', 'kostatsetsekas', 'kostenlos', 'kostenlose', 'kot83dxf', 'kozak2012', 'kpdxwpeb', 'kpis', 'kpn', 'kpo2tpt9', 'kpslzjfc', 'kqbwwiyd', 'krachtigste', 'kranen', 'krass', 'krause', 'kreo', 'kriege', 'krijgen', 'krijgt', 'kroker', 'kroz', 'ksgglndc', 'ksidd94', 'ksjh8bas', 'ksoaksopk', 'ksx2xzor', 'ku288wx6', 'kuafbenm', 'kuasa', 'kubkpo0t', 'kudos', 'kumarsachi', 'kumplir', 'kun', 'kunden', 'kunderna', 'kunnen', 'kunt', 'kurs', 'kursed', 'kurz', 'kushkitty420', 'kusi_sk', 'kvar', 'kvjsercj', 'kvox', 'kwfpth4p', 'kwijt', 'kxboqskj', 'ky65pua2', 'kyliemessier', 'kylisinatl', 'kymbersanden', 'kys', 'kyxunp8i', 'kzmzdxme', 'könig', 'köra', 'kündigt', 'kārtējo', 'l1ld3bb13', 'l1v1guig', 'l49qrder', 'l4hqkv0c', 'l4vthsv5', 'l5f00xew', 'l5j2ueeq', 'l5m9uwd7', 'l5mtm6ig', 'l5uninsw', 'l6brf3yb', 'l86owqre', 'l8rsx1yf', 'l_evenement', 'la', 'laa', 'laaficion', 'laah', 'laat', 'laatste', 'lab', 'labi', 'labores', 'labs', 'lachmomentje', 'lack', 'lacks', 'ladies', 'lado', 'lady', 'ladycamia', 'lag', 'lagazettefr', 'lager', 'laggin', 'lagi', 'laid', 'laisser', 'laiswhisky', 'lakdbyot', 'lalibrebe', 'lalyloka', 'lame', 'lamontagne', 'lampert', 'land', 'landing', 'landscape', 'lang', 'langsame', 'langt', 'language', 'languages', 'lanka', 'lanoire', 'lanserar', 'lanza', 'lanzamiento', 'lanzan', 'lanzar', 'lanzara', 'lançam', 'lançamento', 'lapse', 'laptop', 'laptopwebcam', 'larga', 'largo', 'lari_riquelme', 'larrymagid', 'las', 'laser', 'lasn4ol0', 'lassen', 'last', 'lasted', 'latc214', 'late', 'late_show', 'later', 'latest', 'latina', 'latinoamérica', 'latiola', 'latter', 'laugh', 'laughable', 'laughs', 'launch', 'launched', 'launches', 'launchfail', 'launching', 'laundering', 'laurentalbaret', 'law', 'laws', 'lawschool', 'lawsuit', 'lawsuits', 'lawyers', 'lay', 'laying', 'layout', 'lays', 'lazy', 'lbn_prod', 'lcashdol', 'lcbqk2fw', 'lcmediahouse', 'lcrww4ld', 'lctpxhf5', 'lcuvlvad', 'lcxa9q8p', 'lcznpdhr', 'ld2i871x', 'ldhdvewx', 'lds', 'le', 'le6lzlus', 'le_m_poireau', 'lea', 'lead', 'leader', 'leadership', 'leading', 'league', 'leahjanell', 'leak', 'leaked', 'lean', 'leaning', 'leap', 'learmonth', 'learn', 'learned', 'learning', 'learnings', 'leasing', 'least', 'leave', 'leaves', 'leaving', 'leawood', 'leben', 'leccionesparalavida', 'lecko_alx', 'lecture', 'led', 'ledakan', 'lee', 'leemos', 'leer', 'leerlos', 'leerzame', 'leerás', 'lees', 'left', 'leg3nd', 'legacy', 'legado', 'legal', 'legiondachosen1', 'legooo', 'lehmans', 'leia', 'leiboaz', 'leiderschap', 'leitet', 'lekkere', 'leland', 'lembrado', 'lemme', 'lenbro', 'lennydubz', 'lenox', 'lentess', 'leolaporte', 'leopard', 'les', 'leslie', 'lesplaats', 'less', 'lesson', 'lessons', 'let', 'letdown', 'letme', 'lets', 'letter', 'letting', 'leuk', 'leuke', 'leuker', 'levels', 'levererar', 'levine', 'leviti09', 'lf03zkuz', 'lf3rktcj', 'lfppk5yk', 'lfxtqivr', 'lg', 'lgfw', 'lgtx40um', 'lh6proam', 'li', 'liberou', 'libraries', 'librero', 'libro', 'libros', 'licences', 'license', 'licensing', 'licentie', 'licenties', 'licia0321', 'lie', 'lied', 'lien', 'lies', 'lieuxpublics', 'life', 'lifecam', 'lifecycle', 'lifted', 'liga', 'ligar', 'light', 'lightbulb', 'lightly', 'lightning', 'lightswitch', 'ligne', 'lignes', 'liien', 'lijkt', 'lik', 'like', 'liked', 'likely', 'likes', 'liking', 'lil', 'lil_ham05', 'limit', 'limited', 'limites', 'limitless', 'limpia', 'linas', 'lincoln', 'lind', 'linda', 'lindo', 'lindos', 'line', 'lined', 'lines', 'link', 'linkbuilding', 'linkedin', 'linking', 'links', 'linq', 'linux', 'lion', 'lis', 'lisa', 'lisa_marie1987', 'list', 'listas', 'listed', 'listen', 'listening', 'listing', 'listo', 'lite', 'liten', 'literally', 'little', 'live', 'liveblog', 'lives', 'livestream', 'living', 'livre', 'livro', 'lizpope', 'lj1paxva', 'ljin0see', 'ljlc6yzs', 'ljpgvzjt', 'lk', 'lk154', 'lkjhqrnr', 'lkm2jzin', 'll', 'll61rx2r', 'llama', 'llamado', 'llamo', 'llega', 'llegado', 'llegar', 'llegaría', 'llegaste', 'llego', 'llegue', 'llegó', 'lleva', 'llevar', 'llevo', 'llixbzev', 'lljpgm2a', 'lll', 'lllf_', 'lls', 'llslrxfm', 'llssss', 'lm79zlwa', 'lmao', 'lmaoo', 'lmbrsc4y', 'lmfao', 'lms', 'ln0pche3', 'lnegf7kn', 'lnmmiwaz', 'lnt', 'lo', 'load', 'loads', 'loathe', 'lobby', 'local', 'localjoost', 'locamente', 'locate', 'located', 'location', 'lock', 'locked', 'locks', 'lockscreen', 'loco', 'loezayee', 'lofb8hcj', 'log', 'logged', 'logging', 'logic', 'logic2020', 'logicx', 'login', 'logitech', 'logo', 'logoninjas', 'logosbr', 'logre', 'loin', 'loja', 'lol', 'lolol', 'lolopb', 'lolz', 'lombok', 'lompe', 'london', 'lonely', 'long', 'longer', 'look', 'lookin', 'looking', 'lookitup', 'lookout', 'looks', 'lookup', 'lool', 'looong', 'loop', 'loose', 'lopen', 'lord', 'lords', 'lorenbsas', 'loriboolive', 'lorpan87', 'los', 'lose', 'losers', 'loses', 'losiento', 'losing', 'loss', 'lost', 'lostasamothafucka', 'lot', 'lots', 'loud', 'loupé', 'lovatics', 'love', 'loveable_letty8', 'loved', 'lovee', 'loveguru_b', 'lovely_mstoya', 'lovemyiphone', 'lovers', 'loves', 'lovethem', 'loveu', 'lovin', 'loving', 'low', 'lowdown', 'lower', 'loyalty', 'loyaltyfamu', 'lp', 'lpb9n510', 'lqjuq0s7', 'lqm', 'lrut8lhu', 'lsftp8rl', 'lt', 'lt4m2hh4', 'ltcartoon', 'ltrc34vg', 'ltwqvysf', 'ltws9xvx', 'lu', 'lucas', 'lucasblack', 'luceromexico', 'lucha', 'lucinda', 'lucindadouglas', 'luck', 'lucky', 'lucky_2_have', 'lucrative', 'luego', 'lugar', 'luhhcavalcante', 'lui', 'luis', 'luisfitq', 'luisrodrigogali', 'lukerussell1', 'lunch', 'lunched', 'lure', 'luz', 'luzern', 'lvffdcel', 'lvzjnrps', 'lwflxasl', 'lwjp9giu', 'lwtpxejo', 'lwuys0up', 'ly', 'lync', 'lync2010', 'lyonpat25', 'lzde20vy', 'lzjmtgq9', 'là', 'lá', 'lästert', 'lätt', 'líbí', 'löschen', 'līkumu', 'm0np3fck', 'm0otpgem', 'm10135', 'm2', 'm2fqakyr', 'm2jcbeji', 'm2uggiev', 'm3', 'm4t1kxiz', 'm5eqlqua', 'm68tzn1k', 'm7h8orkc', 'm7oqsfha', 'ma', 'ma84arzf', 'maaal', 'maagiina', 'maais', 'maak', 'maakt', 'maar', 'mac', 'macbook', 'macbookpro', 'macbreak', 'macdej', 'machado', 'machine', 'macht', 'macintosh', 'mack', 'maclife', 'macneo', 'macos', 'macosc', 'macro', 'mactard', 'macworld', 'macworld_brasil', 'mad', 'maddening', 'maddox', 'made', 'madness', 'madruga', 'madrugada', 'madrugo', 'madtruckman', 'maestro', 'maffer_rdz', 'maffkilleritta', 'magazine', 'magazines', 'maggadget', 'maggiore', 'maghjzc', 'maghjzcs', 'magic', 'magical', 'magically', 'magix', 'magliette', 'mago', 'mahfudz', 'mahimakurra', 'maicillo', 'mail', 'mailapple', 'main', 'mainey_maine', 'mainly', 'maintenance', 'maintenant', 'maioria', 'mais', 'maison', 'majeeee', 'majo', 'major', 'majorfail', 'majufedz', 'makar', 'make', 'makemeproud', 'makes', 'makesnomovetogetupfromcomputer', 'makethatlink', 'makeup', 'making', 'mal', 'mala', 'malaysia', 'maldito', 'maldição', 'malia', 'malisimo', 'mall', 'malone', 'malware', 'mama', 'mamachy', 'mami', 'mamá', 'man', 'manage', 'managed', 'management', 'manager', 'managerin', 'managers', 'manda', 'mandamientos', 'mandar', 'mandarin', 'mande', 'mandou', 'mandão', 'mane', 'manejar', 'manelfmartinez', 'manerds', 'manes', 'mango', 'manhole', 'mania', 'manipulate', 'mann', 'manny', 'mannymarroquin', 'mano', 'mansion', 'manso', 'manual', 'manually', 'manwitpurpose50', 'many', 'manzè', 'maomeno', 'maoqaplh', 'map', 'maps', 'mar', 'marbelle30', 'marca', 'marcdaley', 'marcfletcher', 'march', 'marcmonster', 'marcoagnoli', 'marcoarment', 'marijuana', 'mariomussolini', 'mariospr', 'mark', 'mark_newton', 'markcullum1', 'markeenn', 'market', 'marketeer', 'marketer', 'marketers', 'marketing', 'marketplace', 'markets', 'marketwat', 'markrussinovich', 'marks', 'markstuver', 'markt', 'marlorific', 'maroc', 'marqué', 'marre', 'marroquin', 'martes', 'martesviajero', 'marthaubaque', 'marthaubaque1', 'martijnkoster', 'martin', 'mary', 'maryland', 'mas', 'mashable', 'mashbusiness', 'masih', 'masividad', 'masivo', 'massconfusion', 'massive', 'master', 'matanya', 'matar', 'mataron', 'match', 'matching', 'matchpoint20', 'mater', 'matheus', 'matheusdcb', 'matter', 'matters', 'matthewgphy', 'mattimooz', 'mattmarcheski', 'mattsloyer', 'mattyriesz', 'matudelatower', 'matéria', 'maurogarcia92', 'mauvaise', 'maven_infosoft', 'maximize', 'maxpowertoloza', 'may', 'mayaraangelica', 'mayati', 'maybe', 'mayne', 'mayor', 'mayoría', 'mayra_moreno1', 'maytag', 'mañana', 'mañanaa', 'mb', 'mbbzzgor', 'mbl', 'mbnhihek', 'mbp', 'mcafee', 'mcala', 'mcastanedac', 'mcbride', 'mccready', 'mchammer', 'mcitp', 'mckellip', 'mcommerce', 'mcp', 'mcp111', 'mcse', 'mctsummitna', 'mcw78vtg', 'mcz9rsdf', 'md', 'mdd', 'mdhughes', 'mdqhb6x3', 'mdr', 'me', 'me_cedez', 'mean', 'means', 'meant', 'measure', 'mecha', 'mechanische', 'med', 'media', 'media_guerilla', 'mediagofer', 'mediatip', 'medical', 'medidtation', 'medio', 'mediática', 'mee', 'meego', 'meekly', 'meer', 'meesmoo', 'meest', 'meet', 'meeting', 'mega', 'meghankel', 'meh', 'mehr', 'mehrere', 'meilleur', 'meilleurs', 'mein', 'meiner', 'meinung', 'mejor', 'mejora', 'mejorar', 'mejorarlo', 'mejores', 'meko2301', 'melaleucathewellnesscompany', 'melbourne', 'meledak', 'melepas', 'melhor', 'melhorias', 'melkhdb7', 'melkoff', 'mellee_love', 'mellon', 'melo_gabby', 'melodybtcc', 'melted', 'melts', 'member', 'memora', 'memorial', 'memories', 'memory', 'memos', 'men', 'mena', 'menahan', 'menangis', 'mencionan', 'menciones', 'menciono', 'mendorong', 'menes', 'mengaku', 'menm', 'meno', 'menos', 'mensagens', 'mensajes', 'menso', 'menteri', 'mention', 'mentioned', 'mentions', 'mentor', 'menu', 'menuda', 'mercado', 'mercato', 'merchandising', 'merci', 'mercy', 'merda', 'merece', 'merecen', 'meresmikan', 'merge', 'merii', 'merk', 'meses', 'mesh', 'mesmo', 'mess', 'message', 'messagerie', 'messages', 'messaging', 'messed', 'messy', 'met', 'meta', 'metacon', 'metade', 'metalogix', 'metamoforse', 'metan', 'meteen', 'methinks', 'method', 'metiendo', 'metio', 'meto', 'metro', 'mettre', 'meu', 'meus', 'mevalehuevo', 'mexer', 'mexico', 'mf', 'mf8xe5aw', 'mfgquzku', 'mg0ifsao', 'mgmnt', 'mgn9gzz1', 'mhoczuim', 'mhumpolec', 'mi', 'mi_qw', 'mia', 'miam', 'miami', 'mic', 'mica', 'mich', 'michael', 'michaeljacksonquiñonez', 'michaeljakcsonquiñonez', 'michaelkroker', 'michaelmark', 'michelenlared', 'michigan', 'michiganders', 'mickh87', 'micr', 'microso', 'microsof', 'microsoft', 'microsoft_edu', 'microsoftaiuta', 'microsoftfrance', 'microsofthelps', 'microsoftlatam', 'microsoftsrbija', 'microsoftstores', 'microsofttag', 'middle', 'midia', 'midnight', 'mientras', 'mierda', 'mieux', 'might', 'mightily', 'mighty', 'migliorato', 'mignonmc', 'migrar', 'migrate', 'migrating', 'mii', 'miii', 'miiiiiiiiiiiiiiira', 'miim', 'miis', 'mij', 'mijn', 'mike', 'mikedunn', 'mikeferri', 'mikemccready', 'mikeshat', 'mikeshatzkin', 'mil', 'milano', 'milatus', 'milena', 'milestone', 'miley', 'mileycyrus', 'milhões', 'milky', 'mill', 'millenia', 'milli', 'million', 'milliondollapd', 'millions', 'millones', 'mim', 'mimecastsa', 'mimgwgwo', 'mimir', 'min', 'mind', 'mindfulness', 'mindphucked', 'minds', 'mindshare', 'mindtree', 'mindtree_pr', 'mine', 'minecraft', 'mines', 'minha', 'minhas', 'mini', 'minimo', 'minipandi', 'minis', 'ministeronline', 'ministra', 'minori', 'minority', 'mins', 'minsyu', 'minta', 'minus', 'minute', 'minuten', 'minutes', 'minutos', 'mio', 'mir', 'mira', 'mire', 'mirroring', 'mis', 'mise', 'mises', 'misma', 'mismo', 'misread', 'miss', 'missayunnaaa', 'missed', 'misshell23', 'missing', 'mission', 'misthang2u', 'mistry', 'mit', 'mitchjoel', 'mitte', 'mittel', 'mix', 'mixedchik22', 'mixer', 'mixtape', 'mizzspicey', 'mjhroa7l', 'mjyslzie', 'mk8pv0tn', 'mkdirecto', 'mkii', 'mknovbus', 'mkon', 'mkt', 'mlk', 'mln', 'mltawza0', 'mlucia187', 'mm', 'mmeant', 'mmm', 'mmmm', 'mms14pdw', 'mmurrayphoto', 'mn2nova', 'mn39r2vc', 'mnamu0xf', 'mnoo_ana', 'mnpp2jjm', 'mnr1hix2', 'mnt', 'mo', 'mo0', 'mo4jtptl', 'mob', 'mobiel', 'mobiele', 'mobiflip', 'mobil', 'mobile', 'mobileburn', 'mobiledevice', 'mobileme', 'mobilemem', 'mobilenews', 'mobiletechworld', 'moc3ofex', 'mocks', 'moda', 'modalnho', 'mode', 'model', 'modelo', 'models', 'moderates', 'modern', 'modernfamily', 'modify', 'modre', 'moe', 'moederbedrijven', 'moeilijk', 'moet', 'mofsdffq', 'mogelijkheden', 'mohamedg', 'mohl', 'mohoisham', 'moi', 'moins', 'mole', 'molifer26', 'molle', 'molleymoody', 'mom', 'moment', 'momento', 'momentos', 'moments', 'momma', 'mommy', 'mommy_gaga', 'moms', 'mon', 'monats', 'monday', 'mondo', 'money', 'monica', 'monicaac_', 'moniqueprothero', 'monitor', 'monitorar', 'monitoring', 'monitors', 'monizetru', 'monkeys', 'monopolio', 'monopolistic', 'monopoly', 'monstrueux', 'montagem', 'montaron', 'monte', 'month', 'months', 'monto', 'monton', 'montrelcox', 'monty', 'monumental', 'mood', 'mooi', 'mooie', 'moral', 'more', 'moredigitallesshuman', 'morgen', 'morgenvroeg', 'morgon', 'morning', 'moroccomall', 'moron', 'morphy', 'morse', 'mortar', 'mosca', 'most', 'mostlikely', 'mostly', 'mostrará', 'mot', 'mothafuckin', 'mother', 'mothers', 'moto', 'motoactiv', 'motoactv', 'motocorp', 'motofail', 'motorcycle', 'motorola', 'mouche', 'mountainview', 'mourning', 'mouse', 'mousecombos', 'mouses', 'mouth', 'mov', 'move', 'movement', 'movie', 'movies', 'movil', 'movimentado', 'moving', 'mp', 'mp3', 'mp4', 'mpastrana', 'mpbzyl72', 'mpeagler', 'mpn', 'mppei6ul', 'mpromo', 'mpzoilrs', 'mquojaaf', 'mr', 'mr_a_johnson', 'mr_lister', 'mr_malie504', 'mrgareth', 'mrjkoxno', 'mrkt', 'mrng', 'mrrobinson', 'mrtonysays', 'ms', 'ms06fehi', 'ms11', 'ms1ebxpx', 'ms6awix4', 'msamberpriley', 'msantram', 'msanywhere', 'mscariefwr', 'mscre', 'msday', 'msdn', 'msdp', 'msdynamicsspain', 'msdynerp', 'msft', 'msftdynamicserp', 'msftnews', 'msftresearch', 'msftsecresponse', 'msftstore', 'msg', 'msgs', 'mshfeqe6', 'msleamichele', 'mslearning', 'msn', 'msoetz', 'msp', 'mspartners', 'mspegypt', 'msptechday', 'msqsvmdk', 'mssinergija', 'mstapoutbarbie', 'msteched', 'mswx6eo6', 'ms社の', 'mt', 'mt0vajwd', 'mt9rdrcz', 'mtdvroij', 'mtk3xz2l', 'mtnbj9hd', 'mts11', 'mts2011', 'mtu7tgx7', 'mu1fdihf', 'mu5ihlqi', 'muahh', 'much', 'mucha', 'muchas', 'muchhh', 'muchiisiimo', 'mucho', 'muchos', 'mudar', 'muestra', 'mug', 'mugambi', 'mugrera', 'mugrero', 'muh', 'muhaimin', 'mui_dziak', 'muitas', 'muito', 'mukesh', 'mukeshambani', 'mul', 'mulher', 'mulling', 'multi', 'multilang', 'multimedia', 'multimidia', 'multiple', 'multitactil', 'multitasking', 'multitenant', 'multitouch', 'mundial', 'mundo', 'murainer', 'music', 'musica', 'musicaa', 'musikgenuss', 'muss', 'must', 'mustfollow', 'mustread', 'mute', 'muthafucka', 'mutivos', 'muuaahhzz', 'muuwbgpn', 'muxo', 'muy', 'muycanal', 'mv', 'mvdan', 'mvdcd0v8', 'mvli71vk', 'mvm549', 'mvp', 'mvpbuzz', 'mw22mjog', 'mw3', 'mwashinsky', 'mwlpnwtm', 'mx2bmy3o', 'my', 'mycket', 'myhoopdreams', 'myicskxw', 'mylzfmrq', 'mymelange', 'mynextphone', 'myself', 'myspace', 'mztgzn1u', 'mágica', 'mándale', 'más', 'måste', 'méchant', 'médica', 'méxico', 'même', 'mí', 'mío', 'mñn', 'móvil', 'móviles', 'mě', 'mūs', 'můj', 'n0yiucdw', 'n2gc2gk4', 'n2ieuzen', 'n4cpu3vj', 'n4lewray', 'n5hn2jjp', 'n5hsoroi', 'n6lr23kj', 'n6wp2qzv', 'n8ky79pq', 'n9', 'n97', 'na', 'naah', 'naaidozen', 'naar', 'naaum', 'nach', 'nachdem', 'nachogoano', 'nacht', 'nacido', 'nacional', 'nada', 'nadabebbars', 'nadie', 'nafaexuh', 'nagekomen', 'nagoul1', 'nagoya', 'nahun_robles', 'naide', 'najua', 'najít', 'nam', 'name', 'named', 'names', 'naming', 'nand_krish007', 'nandamaulida', 'nandokanarski', 'naniriccihitch', 'nanotech', 'nansen', 'nao', 'naprosto', 'napviot8', 'nas', 'nasa', 'nascarwriter', 'nascent', 'nasqbmat', 'nasty', 'nat', 'nataliagdl1207', 'nataliajones', 'natalysanchezs', 'natemarozzi', 'natiigutiierrez', 'national', 'nationalgeographic', 'nationaltv', 'native', 'nattaliaalba', 'natural', 'natuuuuuuurlijk', 'naum', 'nauseous', 'nauw', 'nav', 'navegador', 'navegar', 'navigate', 'navigateur', 'navigatie', 'navigation', 'navige', 'navision', 'navteq', 'naw', 'nawwaf91', 'nayarivera', 'nb', 'nb4dhlsg', 'nba', 'nc7hvh84', 'ncqrwpyb', 'nd', 'ndk', 'ndpyfvpk', 'ndrpciy9', 'nds5b4ej', 'ne', 'near', 'nearest', 'nearly', 'neat', 'necesita', 'necesitas', 'necesito', 'neck', 'ned1', 'nedeniyle', 'nedraallmond', 'nee', 'neea', 'need', 'need4s', 'needed', 'needless', 'neednewipadguide', 'needs', 'needs2b', 'needsomethingtoread', 'negative', 'negocio', 'negocios', 'negoohb', 'negro', 'nehra', 'neilpatelthis', 'nejbye', 'nelielu', 'nelsonfenc', 'nem', 'nemecku', 'nena', 'neon_ness', 'neowin', 'neowinfeed', 'neqhcjsy', 'nerd', 'nerdboner', 'nerdiness', 'nerdverein', 'nerve', 'nervous', 'nesse', 'nesta', 'nestorrom77', 'net', 'neta', 'netapp', 'netbooks', 'netscape', 'nette', 'netteo81', 'network', 'networkin', 'networking', 'networks', 'networkspecs', 'netzprobleme', 'netzwerk', 'neue', 'neuen', 'neues', 'never', 'new', 'newbestfriends', 'newbies', 'newer', 'newest', 'newfeature', 'newgadgets', 'newly', 'newmusic', 'news', 'news360app', 'newsgrape_de', 'newsletters', 'newspaper', 'newsstand', 'newstand', 'newsticker', 'newsweek', 'newt', 'newtgingrich', 'newton', 'newyork', 'next', 'nexttime', 'nexus', 'nexus1', 'nexus_prime', 'nexus_s', 'nexusgalaxy', 'nexusprime', 'nexuss', 'nezapomenou', 'nfc', 'nfl', 'nfpvegdk', 'nfs', 'nfwcqd9r', 'nh81cbqf', 'nhjxmcfj', 'ni', 'nia', 'nicaragua', 'nice', 'nicehire', 'nicholi57', 'nicht', 'nick', 'nickelpoeta', 'nicki', 'nickthefnicon', 'nicolaziady', 'nicolebanyots', 'nicolelil', 'nielsmoelard', 'niemand', 'niemiecki', 'niet', 'niets', 'nieuw', 'nieuwe', 'nieuwsbrieven', 'nieuwste', 'nigga', 'niggas', 'nigh', 'night', 'nightattheroxbury', 'nightmares', 'nighty', 'niiiiii', 'nike', 'nikki_bobo', 'nikkinotniki', 'nim', 'nin', 'nine_oh', 'ninel', 'ninguem', 'ninguno', 'ninguém', 'nintendo', 'nintex', 'niqht', 'nirvana', 'nisksml4', 'nite', 'nitee', 'nivel', 'niño', 'njthoi2x', 'njthu7tm', 'nkhuom7u', 'nkoxmfoi', 'nkpjgp3w', 'nl', 'nl9e08q7', 'nlcxocuz', 'nldtu5oy', 'nlevenbrown', 'nluug', 'nm30ugqq', 'nmmedalw', 'nn8oiett', 'nnsdzgwi', 'nnvy8np2', 'nnwatsih', 'no', 'noarchive', 'nobel', 'nobigdeal', 'nobody', 'nobueno', 'noceee', 'noche', 'nochees', 'noches', 'nocturn', 'nocturno', 'noentiendo', 'noesdedios', 'noez', 'nofollowed', 'nog', 'nohelp', 'noi', 'noite', 'noitte', 'noiva', 'nokia', 'nokia800', 'nokian9', 'noma', 'nomamar', 'nomames', 'nombramiento', 'nombre', 'nome', 'nomineren', 'non', 'none', 'nonimsi', 'nonstop', 'nonusatimezonel', 'noo', 'nookie', 'nooo', 'noowwwwww', 'nopatience', 'nope', 'nor', 'noreallyihearvoices', 'noreply', 'normal', 'nortel', 'northpark', 'norway', 'nos', 'nose', 'nossa', 'nostalgia', 'not', 'nota', 'notbook', 'notch', 'notcool', 'note', 'notebook', 'notebooks', 'noted', 'notes', 'notesinthecloud', 'notgoingtolast', 'nothappy', 'nothing', 'noti', 'noticed', 'noticia', 'noticias', 'notifica', 'notificaciones', 'notification', 'notifications', 'notificó', 'notified', 'notifies', 'notify', 'notjustaboutthephone', 'notleifgarrett', 'notre4dame', 'notreally', 'notresponding', 'notsosuperpro', 'nous', 'nouveau', 'nouveauté', 'nouvel', 'nouvelle', 'nov', 'nova', 'novata', 'novato', 'novatyler', 'novedad', 'novedades', 'novel', 'novelas', 'novell', 'novelty', 'november', 'novembre', 'novena', 'novia', 'novidade', 'novidades', 'noviembre', 'novinky', 'novio', 'novo', 'now', 'nowhere', 'nowicanspendevenmoretimeonmyphone', 'nowplaying', 'nowthatsbasic_', 'noww', 'nowww', 'npz2kwmq', 'nqm3qf7p', 'nqmvktse', 'ns2jnrl7', 'nsaisrip', 'nshlfiux', 'nspqbzfz', 'nt', 'ntc', 'ntchat', 'nts7gxqv', 'nttdocomo', 'nttドコモ', 'nu', 'nuance', 'nuandroid', 'nube', 'nubes', 'nuestra', 'nuestras', 'nuestro', 'nuestros', 'nueva', 'nuevaescuela', 'nuevas', 'nuevo', 'nuevoooo', 'nuevos', 'nugget', 'nui', 'nulla', 'num', 'number', 'numbering', 'numbers', 'numero', 'numerouno', 'numm5n3u', 'nun', 'nunca', 'nuove', 'nur', 'nuther', 'nuts', 'nvbpe6fm', 'nvd7mqvk', 'nvida2', 'nvnns7vr', 'nwi63ghb', 'nwlalddd', 'nwmbsevm', 'nworks', 'nwstmmgc', 'nx', 'nx3000', 'nxc7wo4s', 'nxdd3dcz', 'ny', 'nyc', 'nyerrr', 'nyjhknou', 'nymusic', 'nyquil', 'nytimes', 'nz', 'nz494v4h', 'nzhbzzw3', 'nztgu900', 'nás', 'não', 'nächste', 'nærmet', 'né', 'nóis', 'o07moli4', 'o0bh5nbp', 'o1wgjyto', 'o2', 'o3', 'o35vv1wt', 'o3hyxbxh', 'o3m07opc', 'o3oh3ypb', 'o78adsyw', 'o78jjlc1', 'o7thrxpr', 'o7vjl4tl', 'o7zqny7k', 'o9v1j49v', 'o_o', 'oa', 'oaxaca', 'obamaphile', 'obecnie', 'oberfläche', 'oberflächen', 'obinnaosobalu', 'obituaries', 'objects', 'objetivamente', 'objetivo', 'obnoxious', 'obrigado', 'obscure', 'obsessions', 'obsessão', 'obsexxed69', 'obsolete', 'obsoleto', 'obtenir', 'obuxexci', 'obviamente', 'obvious', 'obviously', 'obvs', 'occupy', 'occupy_wall_street', 'occupywallst', 'occupywallstreet', 'occur', 'och', 'ocre5fwu', 'ocs', 'oct', 'october', 'octubre', 'octuuylo', 'ocurre', 'ocurriera', 'ocurrir', 'ocuupy', 'od', 'odbc', 'odd', 'oder', 'odio', 'odo', 'oe9imdob', 'oef', 'oem', 'oesqu4q5', 'oeurmtlx', 'oexpdnot', 'oezk9iv1', 'of', 'ofa_ia', 'ofensivo', 'oferecidos', 'oferta', 'off', 'offer', 'offering', 'offerings', 'offers', 'offertas', 'offf', 'office', 'office2007', 'office2010', 'office365', 'offices', 'officesuites', 'official', 'officialisé', 'officialisée', 'officially', 'officieel', 'officiellement', 'offing', 'offiziell', 'offiziellen', 'offline', 'offtoshower', 'ofh9ptag', 'oficial', 'oficialiai', 'oficialmente', 'ofmy', 'ofrece', 'ofrecen', 'ofreciendo', 'often', 'ofxunqhy', 'og', 'ogalinski', 'ogkayzo7', 'ogoakrbf', 'oh', 'oh8btu2e', 'ohbevxdp', 'ohemgee', 'ohio', 'ohne', 'ohnonotagain', 'ohshit', 'oi', 'oiie', 'oimnakvf', 'oiqfwj4f', 'oizgnxgt', 'oja', 'ojalá', 'ojo', 'ojykycfo', 'ok', 'ok70bvgk', 'okadestate', 'okay', 'okcwnrpq', 'okies', 'oktober', 'oktraysu', 'okuprettybut', 'olafiolio', 'old', 'older', 'oldivory', 'olelady', 'olha', 'oli2be', 'olipalko', 'olorx2pc', 'olsensn', 'olsun', 'olvidado', 'olvide', 'olvido', 'om', 'omap4460', 'omardelos', 'ombestemte', 'omdat', 'omdraaien', 'ome', 'omfg', 'omg', 'omission', 'omni', 'omnitouch', 'omnomnomnom', 'omxjhzh0', 'on', 'once', 'onda', 'onder', 'ondernemer', 'onderneming', 'onderzoek', 'ondxwper', 'one', 'ones', 'onglets', 'oni0jx8b', 'onl', 'online', 'only', 'only1deejayer', 'onnodige', 'ons', 'ont', 'ontem', 'onthebigscreen', 'onto', 'ontvangst', 'ontving', 'onze', 'onè', 'oo', 'oodugpqg', 'oof', 'ooff', 'ooh', 'ook', 'oomf', 'oooh', 'oooooooo', 'oooooops', 'oops', 'oovoo', 'op', 'op26mucr', 'op379ycf', 'opcion', 'opción', 'open', 'opening', 'openings', 'openletter', 'opens', 'opensource', 'opentext', 'operating', 'operation', 'operations', 'operator', 'opgenomen', 'opgeslagen', 'opinion', 'opinions', 'opinión', 'opjnrxlb', 'oportunidad', 'oportuniodades', 'opportunities', 'opportunity', 'opposite', 'optimization', 'optimus7', 'option', 'options', 'opção', 'oq2jbps3', 'oqjrryfq', 'or', 'ora', 'oraciones', 'oracle', 'orang', 'orange', 'oranges', 'oranise', 'orbital', 'orcamera', 'orden', 'ordenadores', 'order', 'ordered', 'ordering', 'orders', 'ordg1z2f', 'oreeeen', 'organic', 'organise', 'organizations', 'organizing', 'orging', 'orientation', 'original', 'originales', 'originally', 'oriondesarrollo', 'orktnt7r', 'orkut', 'orlando', 'os', 'os4', 'osama11', 'osea', 'oseqht7w', 'oshpyv2g', 'osmel', 'oswefixz', 'osx', 'ota', 'ota4rqi9', 'otbwkxo9', 'other', 'others', 'otherwise', 'otijlxp7', 'otqfw9xq', 'otra', 'otro', 'otros', 'ottobre', 'otul1ujq', 'otvmqxj2', 'ou', 'ou1aogk6', 'ou7k39ge', 'ouaaaaaaahhhhh', 'ouais', 'ouch', 'oudmwlne', 'ouf', 'ougsb108', 'our', 'ours', 'out', 'outbound', 'outdated', 'outer1n4', 'outfits', 'outil', 'outlaws', 'outlook', 'outside', 'outt', 'outta', 'outweighs', 'ouvir', 'ov', 'ova', 'over', 'overall', 'overbearing', 'overboard', 'overcapacity', 'overcomplicated', 'overeenkomst', 'overhaul', 'overview', 'overwhelmed', 'ow', 'owf25yjb', 'owhyr0yj', 'owl', 'own', 'owner', 'owners', 'ownership', 'owns', 'owskwpkg', 'oxfordshire', 'oxycodone', 'oy8puvhp', 'oye', 'oyendo', 'oyeqr80p', 'oygo65p1', 'oyszmjvi', 'ozc9ncs1', 'ozkelphs', 'ozqy3ug4', 'oí', 'où', 'oću', 'p05yr6pc', 'p1hwo73x', 'p1j', 'p2', 'p2tu2kbm', 'p32ehduq', 'p3qhh63d', 'p4chggwg', 'p4m8xvaz', 'p5kuioox', 'p8go0gks', 'p9pmpcfl', 'pa', 'paai', 'paar', 'paatty_cl', 'pace', 'pacientes', 'pacific', 'pack', 'packaged', 'packages', 'packard_bell', 'packed', 'packtenterprise', 'pad', 'paddys', 'paenlann', 'pagaliau', 'pagar', 'page', 'pagerank', 'pages', 'pagina', 'paginas', 'paging_dr_a', 'paid', 'paidcontent', 'paigemorse1', 'pain', 'painful', 'painfully', 'painless', 'painted', 'pais', 'pajarito', 'pajaro', 'pajas', 'pak', 'pakaļu', 'pakt', 'pal', 'pala', 'palabras', 'palestra', 'palle', 'palm', 'palmface', 'palo', 'pamperedplay', 'pampers', 'pampershelloapps', 'pan_act', 'panama', 'panamericanos', 'panas', 'panasonic', 'pancan', 'pancreatic', 'panda', 'panel', 'panfletos', 'pani_mondragon', 'panorama', 'panoramas', 'panoramic', 'panoramique', 'panorâmicas', 'pantalla', 'pantallas', 'pants', 'pap', 'papa', 'papegaai', 'papel', 'paper', 'paperboy', 'papote', 'papua', 'papá', 'paqueera', 'par', 'para', 'parabens', 'parabéns', 'parado', 'paradoxicalmike', 'paradão', 'paramètres', 'paranormal', 'parceria', 'pardus', 'pare', 'parece', 'parecen', 'parecendo', 'parecer', 'parecida', 'parecido', 'pareja', 'parents', 'parese', 'pareto', 'parfois', 'parisian', 'parivar', 'park', 'parker', 'parkour', 'parks', 'parkson', 'parkway', 'parla', 'parpol', 'part', 'partage', 'partager', 'partai', 'parte', 'parti', 'participantes', 'participated', 'participation', 'particularly', 'partido', 'partner', 'partnering', 'partnern', 'partners', 'partnership', 'partnersummit', 'parts', 'party', 'partylivefree', 'partículas', 'pas', 'pasa', 'pasaa', 'pasada', 'pasado', 'pasame', 'pasan', 'pasando', 'pasandosela', 'pasar', 'pasatiempo', 'pase', 'pasen', 'paso', 'pass', 'passar', 'passe', 'passed', 'passing', 'password', 'past', 'pastel', 'pastoral', 'pata', 'patearon', 'patent', 'patented', 'patenten', 'patenting', 'patentrechtszaken', 'patents', 'pathetic', 'patiently', 'patio', 'patos', 'patria', 'patrocinados', 'pattern', 'paul', 'paulbentleymelb', 'paulens', 'pause', 'pavilions', 'pavorosa', 'pay', 'paying', 'payme', 'payment', 'paypal', 'país', 'pañal', 'pbi9hog8', 'pbwdstmb', 'pc', 'pc_insecurities', 'pcam', 'pcmag', 'pcmjon', 'pcs', 'pcu88z7j', 'pcworld', 'pd', 'pdbf7h3f', 'pdf', 'pdfs', 'pdgz1l51', 'pdrns1pk', 'peace', 'pear', 'pearson', 'pede', 'pederčine', 'pedi', 'pedido', 'pedirle', 'pedo', 'pedos', 'pedra', 'pedraaaa', 'pee', 'peedro_guiih', 'peeler', 'peelo', 'peeps', 'peepz', 'pegarle', 'pego', 'pegou', 'pehchane', 'peinliche', 'pekan', 'pela', 'pelado', 'peleas', 'pelicula', 'pelis', 'pelo', 'pelotas', 'pelotudos', 'películas', 'pen', 'pendant', 'pendejadas', 'peng', 'pensa', 'pensamientos', 'pensamos', 'pensando', 'pensar', 'pensardiferente', 'people', 'peor', 'per', 'peradeniya', 'perca', 'perceived', 'percent', 'perdana', 'perdi', 'perdiendo', 'perdona', 'perdu', 'perdón', 'pereza', 'perf', 'perfect', 'perfectly', 'perfecto', 'perfil', 'perform', 'performance', 'perguntar', 'perguntei', 'perhaps', 'perils', 'period', 'periodismodigital', 'periodista', 'periods', 'perjudicial', 'perks', 'permanencia', 'permaneça', 'permission', 'permite', 'permitirá', 'pero', 'perpetual', 'perro', 'perry', 'perso', 'person', 'persona', 'personal', 'personalia', 'personalization', 'personally', 'personas', 'personasinviables', 'personnes', 'pertenece', 'pesame', 'pese', 'pessoal', 'pessoas', 'petapixel', 'peter', 'peternemcok', 'petit', 'petty', 'peu', 'peut', 'pffffff', 'pfzuy1i2', 'pg5uhrmi', 'pgm', 'pgstech', 'ph', 'phh2wmm1', 'phil', 'philanthropy', 'philipgrey', 'philips', 'philliprowntree', 'philosopher', 'philosophy', 'philsimon', 'phne', 'phoenix', 'phoenixswinger', 'phone', 'phone7', 'phonedog_aaron', 'phonerecord', 'phones', 'phone雜誌', 'photo', 'photograherseye', 'photography', 'photos', 'photosharing', 'phr', 'phuyrg', 'phxguy88', 'physical', 'piace', 'pic', 'pica', 'picando', 'pick', 'picked', 'picking', 'pics', 'picture', 'pictures', 'pide', 'pidounparche', 'piece', 'piensas', 'pierdan', 'pikkie', 'pilargarciam', 'pile', 'pills', 'pimentacom', 'pimentta_qzl', 'pimpjuicewow', 'pin', 'pinang', 'pinball', 'pinball_fx_2', 'pinch', 'pinches', 'ping', 'pink', 'pinkangel_26', 'pinpoint', 'pins', 'pinta', 'pinto', 'pioniq', 'piracy', 'piratas', 'piratasdainformatica', 'piraten', 'pirater', 'pirateria', 'piratería', 'pissed', 'pissing', 'pisto', 'pistoko', 'pith', 'pitman', 'pittman', 'pittsburgh', 'pitufo', 'pitufos', 'pivotaltracker', 'pixar', 'piña', 'più', 'pj', 'pjcyxd9j', 'pjd', 'pjkyf0gf', 'pjpfeytf', 'pjxurwrp', 'pkedrosky', 'pkmbgsnr', 'pks', 'pl', 'pl3kpdla', 'pl4zeevh', 'pla', 'place', 'placement', 'places', 'plaintiffs', 'plaisante', 'plan', 'planed', 'planes', 'planet', 'planeta', 'planforfame', 'planking', 'planned', 'planning', 'plano', 'planova', 'plans', 'plant', 'plantage', 'plante', 'plastic', 'plastics', 'plataforma', 'plate', 'platform', 'platforms', 'platiquenme', 'plattform', 'play', 'playa', 'playback', 'playbooks', 'played', 'player', 'players', 'playful', 'playing', 'playlist', 'playlists', 'plays', 'playstation', 'pleas', 'pleasant', 'please', 'pleased', 'pleasure', 'plebe', 'plena', 'plop', 'plot', 'pls', 'plse', 'pltitgei', 'plugged', 'plugin', 'pluit', 'plus', 'plush', 'plusone', 'plutselig', 'plutôt', 'plwve1iy', 'plz', 'pm', 'pm6wxvqb', 'pmanmoah', 'pmecxpug', 'pmphillips', 'pms', 'pnt21', 'po', 'pobres', 'poca', 'pocesivo', 'pocket', 'pocketlint', 'pockettouch', 'poco', 'pocos', 'pod', 'podacst', 'podcast', 'podcasts', 'pode', 'podem', 'poder', 'podrian', 'podrá', 'podría', 'podés', 'poes', 'pogo', 'poh', 'point', 'pointing', 'points', 'poir', 'pois', 'poised', 'poke', 'poker', 'pokerstars', 'police', 'policies', 'policy', 'policías', 'polish', 'politely', 'political', 'politicians', 'politik', 'poll', 'polska', 'polémique', 'política', 'pondering', 'pondre', 'pone', 'ponen', 'poner', 'ponerce', 'ponerle', 'ponerlo', 'ponerme', 'pones', 'pongo', 'poniendo', 'ponte', 'pooh', 'poole', 'poooha', 'poop', 'poor', 'poorly', 'pop', 'populaire', 'popular', 'populares', 'popularizar', 'popularizo', 'poqe', 'por', 'porchista', 'porq', 'porqq', 'porque', 'porquería', 'porr', 'porra', 'port4gr', 'port4growth', 'portal', 'portals', 'ported', 'porter', 'porter_anderson', 'portiert', 'portion', 'portland', 'porzelincako', 'pose', 'posez', 'posible', 'positions', 'positive', 'positives', 'possibilities', 'possibilité', 'possible', 'possibly', 'possono', 'post', 'posta', 'posted', 'posting', 'posto', 'posts', 'potente', 'potential', 'potenzial', 'pound', 'pour', 'pourrais', 'pouvoir', 'povidani', 'povo', 'power', 'powered', 'powerlink', 'powerpivot', 'powerpoint', 'pozdrowienia', 'ppc', 'pph5cw1p', 'ppl', 'ppmorraz', 'pps', 'pq', 'pq67grra', 'pqe', 'pqp', 'pr', 'pra', 'practica', 'practical', 'practice', 'practices', 'praia', 'pranav', 'prasing', 'praten', 'pratet', 'praticamente', 'pratiques', 'pray', 'praying', 'prb5yx4x', 'prctices', 'pre', 'preaching', 'precio', 'precious', 'precisamos', 'preciso', 'predefined', 'predice', 'predict', 'predicting', 'predictions', 'predicts', 'prefer', 'preferencia', 'pregnant', 'pregunta', 'preguntar', 'preisstab', 'preisvergleich', 'premier', 'premiere', 'premiostwco', 'premise', 'premium', 'première', 'premières', 'prend', 'prendere', 'prendido', 'prendio', 'prenez', 'preocupen', 'preorder', 'preordered', 'prep', 'prepara', 'prepping', 'pres', 'present', 'presenta', 'presentaciones', 'presentación', 'presentado', 'presentan', 'presentanción', 'presentatie', 'presentation', 'presentations', 'presentazione', 'presente', 'presenteert', 'presenting', 'presento', 'presents', 'presentó', 'presetnación', 'presiden', 'presidential_fu', 'press', 'pressekonferenz', 'presumir', 'pretend', 'pretending', 'pretendo', 'prettier', 'pretty', 'pretty_browniee', 'prettyfuckn_lee', 'prettynesz', 'preven', 'preventing', 'preview', 'previo', 'previous', 'preços', 'pric', 'price', 'priceless', 'pricepoints', 'prijsmodel', 'prijzen', 'prima', 'prime', 'primeira', 'primeiro', 'primer', 'primera', 'primero', 'primeros', 'primo', 'primos', 'primãao', 'prince_156', 'princesiita', 'princessofchina', 'principal', 'print', 'printed', 'printer', 'printing', 'prioridades', 'prisa', 'prise', 'pristatytas', 'prisutne', 'privacy', 'private', 'privatecloud', 'prix', 'prjusto', 'prmate', 'pro', 'probablemente', 'probably', 'probando', 'probleemloos', 'problem', 'problema', 'problemas', 'problemkind', 'problems', 'problèmes', 'probono', 'procedural', 'proceeds', 'process', 'processor', 'processors', 'procrastination', 'procure', 'prod', 'prodmgmt', 'produce', 'producers', 'produck', 'product', 'productive', 'productivity', 'productos', 'productplacement', 'productreviews', 'products', 'produkte', 'produkter', 'produktfamilie', 'produktion', 'proefschool', 'prof', 'profesores', 'professional', 'profile', 'profiles', 'profissionaisti', 'profissional', 'profissionalmente', 'profit', 'profitable', 'profitering', 'profitieren', 'profiting', 'profits', 'profound', 'profundo', 'program', 'programa', 'programm', 'programmable', 'programmer', 'programmers', 'programmes', 'programming', 'programs', 'programu', 'progress', 'progressed', 'progressive', 'project', 'projector', 'projekt', 'prolly', 'promise', 'promised', 'promises', 'promising', 'promiň', 'promo', 'promoallday', 'promocion', 'promoteback', 'promoted', 'promoting', 'promotion', 'prompt', 'prone', 'pronto', 'pronóstico', 'proof', 'propaganda', 'proper', 'properly', 'property', 'propietario', 'propio', 'propose', 'props', 'pros', 'prospect', 'protagonista', 'protagonistas', 'protect', 'protection', 'prototipo', 'prototyp', 'proud', 'proven', 'proves', 'provid', 'provide', 'provided', 'providing', 'proving', 'proxima', 'proximo', 'proxy', 'proyectada', 'proyecto', 'proyectos', 'pryourblog', 'próx', 'próxima', 'prüfung', 'ps', 'ps3', 'pseudonyms', 'psfk', 'psicólogos', 'psn', 'pss', 'pstd', 'psujg9pn', 'ptm', 'pts021', 'pub', 'publaunch', 'public', 'publicaciones', 'publicas', 'publication', 'publicidad', 'publicitarios', 'publicly', 'publicó', 'publiek', 'published', 'publishers', 'puchis', 'puck', 'puede', 'pueden', 'puedes', 'puedo', 'puee', 'pues', 'pujyv9c0', 'pulgadas', 'pull', 'pulling', 'pulls', 'pulse', 'pump', 'pumwmm9m', 'pun', 'puntogeek', 'pups', 'pura', 'puragentebienav', 'purchase', 'purchased', 'purchasing', 'purdie', 'pure', 'pureinfotech', 'purely', 'purple', 'purpose', 'push', 'pushen', 'pushing', 'puso', 'puss', 'put', 'puta', 'putain', 'putamadre', 'putapriceonconvenience', 'puto', 'putriasmara', 'putting', 'putz', 'puuuuuta', 'puvxwjjc', 'puxi', 'pvkqad33', 'pvrahhxr', 'pw4kre0f', 'pw4mfbse', 'pwldyxve', 'pwlpgq', 'pws', 'pxhqdsav', 'pxulr5dw', 'py0hlz', 'pyog47fv', 'pyrexpress', 'pyt7vkrp', 'python', 'pzonzec8', 'pzw8ovnm', 'página', 'páginas', 'pèdi', 'période', 'pô', 'pēdās', 'příští', 'q00gywqh', 'q08cbcue', 'q0d7djdn', 'q0qleokz', 'q1', 'q2kec7', 'q2mvqxjf', 'q3', 'q3avgqhn', 'q3cbxvkb', 'q3ynlqck', 'q4', 'q4ocljfs', 'q5mvw7vf', 'q7kf5xkz', 'q8inldfy', 'qa', 'qa1jfska', 'qagbowhc', 'qamj3mer', 'qanda', 'qb0pix09', 'qbgxxjmm', 'qbyum2ce', 'qcdddyrn', 'qcih8fjg', 'qcytszff', 'qd1bqvm8', 'qdfwodmd', 'qdm3x8bb', 'qdo', 'qdogji0u', 'qe', 'qeatnmpi', 'qedare', 'qedo', 'qefhpgx2', 'qeriido', 'qetk8ds2', 'qewndku6', 'qfqkhayd', 'qfzhtnjs', 'qg0rydvx', 'qgxn8d2l', 'qgzhllpv', 'qhofoxzd', 'qiero', 'qiibo', 'qj73xjle', 'qj9qdbha', 'qkthmjwo', 'qkuoeezv', 'ql7zmppo', 'qlarpuat', 'qlyqbryd', 'qm8zpfge', 'qmatteoq', 'qmc4k7', 'qmwjtvnk', 'qmx8opy0', 'qmymiv7z', 'qn', 'qnqj5ho0', 'qnvdvcmx', 'qojwxb50', 'qonitoag', 'qoxd3i0s', 'qpgxle', 'qpk5dhen', 'qqcwyl4b', 'qqkviaan', 'qr', 'qr1eijhw', 'qrcode', 'qschumin', 'qsegk2zy', 'qslf5isx', 'qticdivd', 'qtoqoz42', 'qtt22akr', 'qu', 'quak6947', 'qual', 'qualche', 'qualifications', 'qualify', 'quality', 'qualquer', 'qualsiasi', 'quand', 'quando', 'quanta', 'quarter', 'quarterly', 'quase', 'quasi', 'que', 'quebrar', 'queda', 'quedado', 'quedan', 'quedando', 'quedare', 'quedo', 'queem', 'quejarme', 'quelle', 'quello', 'quelque', 'quem', 'quemensos', 'queque', 'quer', 'queria', 'querida', 'querido', 'queridos', 'queries', 'quero', 'quería', 'quest', 'question', 'questions', 'queues', 'qui', 'quick', 'quickly', 'quickresponse', 'quiebre', 'quien', 'quiere', 'quieren', 'quieres', 'quiero', 'quierooo', 'quiierooo', 'quimera', 'quincy', 'quisiera', 'quit', 'quitandole', 'quitar', 'quite', 'quizá', 'quizás', 'quién', 'quiñonez', 'qukdb5lb', 'quora', 'quot', 'quote', 'quotes', 'quotin', 'quqpibic', 'qué', 'quítale', 'qv4daw7a', 'qv4m1un9', 'qvc', 'qvrwriyd', 'qwanqycf', 'qwhocf5t', 'qwk0yurh', 'qxfddrt4', 'qzcba4bx', 'qzqblizb', 'qzt26gj8', 'qzungylw', 'qzuqhcxx', 'qzynnuvi', 'r0ih6epa', 'r0wym1jx', 'r14', 'r1avtyof', 'r2', 'r2rndn6y', 'r2xdfqrs', 'r4bidq9d', 'r5jujsbr', 'r6aeq4fh', 'r6hnettu', 'r7rdw1ph', 'r8f0jmgy', 'r9cgeo', 'ra22zjb7', 'ra5pgosd', 'rabobank', 'rachat', 'rachel', 'rachiecrewz', 'racism', 'racketeering', 'rad9wdsw', 'rad_software', 'radar', 'radio', 'radiology', 'radiotux', 'radlerc', 'raellenkoga_', 'rafaarrudaa', 'rafts', 'raheemhbbti', 'rahorajty051230', 'rain', 'raining', 'raise', 'raises', 'rajak9p2', 'rakyat', 'ralando', 'ralphbin', 'ram', 'rambling', 'ramon', 'ramos', 'ranch', 'rancune', 'randomly', 'randsteden', 'range', 'ranked', 'ranking', 'rankings', 'rant', 'ranti', 'raovallab', 'rape', 'rapida', 'rapidamente', 'rapidly', 'rappelez', 'rara', 'raroooo', 'rart', 'rashadhurst', 'rat', 'ratchetsymptoms', 'rate', 'rather', 'rato', 'rauerrtf', 'rausbringen', 'raw', 'rawados', 'rawadosa', 'rawks', 'raxa', 'ray', 'rayo', 'raza', 'razanumerouno', 'razcacielo', 'razon', 'razones', 'razor', 'razr', 'rbev95ee', 'rbevrtfz', 'rbf23cnx', 'rbniwumi', 'rc', 'rcas7kph', 'rcml9xqr', 'rcot2nwi', 'rcpe86bw', 'rcswzlxk', 'rcu7x2lh', 'rcve', 'rdbeuctt', 'rdfa', 'rdingwell', 'rdtzumtz', 're', 're1enpau', 're4nlzgi', 'reaaly', 'reaching', 'reacless', 'reactie', 'reacties', 'reaction', 'read', 'readable', 'reader', 'reading', 'readinglists', 'ready', 'readyfor5', 'real', 'realestate', 'realestateguywi', 'realisation', 'realise', 'realize', 'realized', 'realjaythoven', 'reallly', 'really', 'realmente', 'realtalk', 'realtime', 'reappeared', 'reason', 'reasoning', 'reasons', 'reboot', 'rebuild', 'rebuttal', 'recap', 'receipt', 'receive', 'received', 'recent', 'recente', 'recently', 'recession', 'recherche', 'recht', 'rechtsstreit', 'recien', 'reckless', 'recognition', 'recomendado', 'recomiendenos', 'recommend', 'reconcilia', 'reconhecimento', 'reconnaissance', 'reconoce', 'reconocimiento', 'record', 'recordarme', 'recording', 'recortar', 'recover', 'recovered', 'recovers', 'recruit', 'recruiting', 'recuerdan', 'recupere', 'recursos', 'red', 'reddclay81', 'reddeersteph', 'redeemed', 'redes', 'redesigned', 'redessociales', 'redhat', 'redimensionnables', 'redimensionner', 'redirect', 'redirection', 'redmond', 'redsocial', 'referencia', 'referral', 'referring', 'refines', 'reflects', 'reflex', 'reflexionarán', 'reflexiones', 'reforma', 'reformat', 'refurbed', 'refurbished', 'regados', 'regalado', 'regalar', 'regarding', 'regardless', 'regent', 'reggetoneros', 'regio', 'region', 'register', 'registered', 'registrados', 'registrarse', 'registration', 'regreso', 'regular', 'regvulture', 'regístrate', 'regístrese', 'reimeraaron', 'reiniciando', 'reinvented', 'reizi', 'relación', 'relate', 'related', 'relaxin', 'relaxing', 'release', 'released', 'releasepartyguide', 'releases', 'releasing', 'relevance', 'relevant', 'reliable', 'relied', 'relive', 'reller', 'rem8', 'rema', 'remain', 'remake', 'remcovandenhout', 'remember', 'remembered', 'rememberin', 'remembering', 'remind', 'reminder', 'reminders', 'reminds', 'remonter', 'remote', 'removable', 'remove', 'removing', 'remporte', 'remué', 'renaedaniels', 'rename', 'renaming', 'renatmin', 'renatomb', 'renda', 'render', 'renders', 'renewal', 'renj0c0z', 'renovará', 'rep', 'repair', 'repeat', 'repensé', 'replace', 'replaced', 'replaceit', 'replacement', 'replaces', 'replacing', 'repletoooo', 'replied', 'replies', 'reply', 'report', 'reportar', 'reported', 'reportes', 'reporting', 'reports', 'repost', 'reppin', 'represent', 'reprisk', 'reps', 'republished', 'request', 'require', 'required', 'requires', 'res', 'rescue', 'rese', 'research', 'researchers', 'resellars', 'reseller', 'resemble', 'resembles', 'resentida', 'reservation', 'reserve', 'resetearlo', 'reshape', 'reside', 'resilience', 'resizable', 'resllers', 'resolution', 'resolutions', 'resolve', 'resolvir', 'resonating', 'resource', 'resources', 'respect', 'respectmaswagg', 'respecto', 'respekt', 'respond', 'respondeeer', 'responsable', 'response', 'responses', 'responsive', 'respuestas', 'respè', 'rest', 'resta', 'reste', 'restore', 'restored', 'restoring', 'restrict', 'restrictedboot', 'restrictions', 'restrictive', 'result', 'resultado', 'resultados', 'resulted', 'results', 'resumen', 'resumes', 'retail', 'retailers', 'retarded', 'retina', 'retire', 'retiro', 'retrieve', 'return', 'returning', 'returns', 'retweet', 'retweeted', 'retweets', 'reuna', 'reunion', 'reuters', 'revamped', 'revamps', 'reveal', 'revealed', 'reveals', 'reveil', 'revela', 'revelou', 'revenue', 'reverse', 'reverting', 'review', 'reviewing', 'reviora', 'revised', 'revolution', 'revue', 'rewarded', 'rewardhub', 'rewards', 'rewind', 'reünie', 'rf9mob8q', 'rffixdi4', 'rfianud0', 'rgbhhuqp', 'rhce', 'rhiannaraee', 'rhkqyxo2', 'rhnu1var', 'rhondaparsons', 'rht', 'ri8huald', 'rianru', 'rice', 'ricerca', 'rich', 'rich021', 'richer', 'richmond', 'rickholgate', 'ricklennie', 'ricks', 'rickysinghpt', 'rico', 'ricoo', 'rid', 'ridderkerk', 'ridic', 'ridiculously', 'rie', 'riesgo', 'riesling', 'right', 'rights', 'rihanna', 'riiicksilva', 'rijk', 'rilancia', 'rilasciata', 'rim', 'rimm', 'rinconindia', 'ring', 'ringgit', 'ringing', 'rip', 'ripjrmzs', 'ripsteve', 'ripstevejobs', 'risa', 'rise', 'rishij_pune', 'riskiest', 'rit4wjq3', 'ritcdsd2', 'rite', 'ritenow', 'ritrovo', 'rival', 'rivalen', 'rivelata', 'river', 'rjakesuk', 'rjpittman', 'rjy5wgr0', 'rk9kphss', 'rly', 'rmeneghelo', 'rmi8osmi', 'rnf3cnu8', 'rnhzqjgr', 'rnnjwo6r', 'road', 'roadmap', 'roaring', 'roasted', 'roba', 'robakk', 'robando', 'robbase101', 'robcollingridge', 'robe', 'robert_terpstra', 'robertoafelipe', 'robertodesign', 'robes', 'robot', 'roboto', 'robots', 'robynheartz', 'robyqq', 'rocioo08', 'rock', 'rocked', 'rocking', 'rocks', 'rocksmith', 'rogeralexiis', 'rogers', 'rogersbiz', 'rogerweir', 'rogriffo', 'rohit', 'rohit_bmw', 'roi', 'rolandsmartin', 'role', 'roll', 'rollbacks', 'rolling', 'rom', 'romankrd', 'rompan', 'romperla', 'ronakkataria', 'ronaldelapostol', 'ronda', 'ronpaul', 'roodprojecten', 'rookie', 'roolz', 'room', 'rooms', 'rooting', 'roslyn', 'rossmistry', 'rosto', 'rostro', 'rot', 'rotfl', 'rotiieo0', 'rotita', 'roto', 'roubando', 'rough', 'round', 'roundup', 'roupa', 'roupas', 'row', 'rows', 'roxbury', 'royalties', 'roycind', 'rp7lsoee', 'rpg', 'rptlwmlo', 'rqhgaibf', 'rqjtztr3', 'rqk2ansm', 'rqnhmfaa', 'rrcf9w2v', 'rrhh', 'rrp', 'rs', 'rscce99m', 'rsna', 'rsna11', 'rsna2011', 'rsnsg5nt', 'rsrmjpob', 'rsrsr', 'rsrsrs', 'rsrsrss', 'rss', 'rsxmvuxl', 'rszal40s', 'rt', 'rt9g3puh', 'rtdzjq2u', 'rted', 'rtimbuc', 'rts', 'ru', 'rubik', 'rubin', 'rubiocotize', 'rubriek', 'rubrique', 'rudybren', 'ruft', 'rug', 'ruhanirabin', 'ruhgljmt', 'ruilifestyle', 'ruim', 'ruined', 'ruining', 'ruktyujc', 'rule', 'rules', 'rumopwl0', 'rumor', 'rumored', 'rumores', 'rumors', 'rumours', 'run', 'running', 'runs', 'runtime', 'rusku', 'russia', 'rusza', 'rva', 'rvdjsmmi', 'rve', 'rvn0ofwy', 'rvtthd7p', 'rwgkpbgu', 'rww', 'rxopvngq', 'rxrcc1mb', 'rxupiw2u', 'rxwd6sn8', 'ryan_burke4', 'ryanbaldwin', 'ryannosaurusrex', 'rygurl', 'rzbmyltv', 'rzkidjv6', 'rztz9g1p', 'rzucfejc', 'rząd', 'rápidamente', 'rápido', 'räcker', 'rättssalen', 'réel', 'réjouit', 'résultats', 'résumé', 'rücktritt', 'rādās', 's0jkqpwn', 's0lugv4b', 's0vxsruu', 's1', 's19qrdju', 's1qfuznv', 's2', 's2ggpb0g', 's3', 's54lehki', 's6a7y9wt', 's73ylvu6', 's87lnq2u', 's8hsl06q', 's8v8vfmh', 'sa', 'saaindo', 'saalee', 'saat', 'sab', 'sabe', 'saben', 'saber', 'sabes', 'sabia', 'sabias', 'saca', 'sacada', 'sacarlo', 'sacarme', 'sachbearbeiter', 'sack', 'sad', 'sadly', 'sadmac', 'sadreally', 'saeldesn', 'saelwlbj', 'safari', 'safe', 'safety', 'sage', 'sagegroupza', 'sai', 'said', 'saiiidoooo', 'saiir', 'sail', 'saindo', 'saino', 'saints', 'sair', 'sais', 'sake', 'saldre', 'sale', 'salecker', 'salee', 'sales', 'salesforce', 'saleslogix', 'salesperson', 'sali', 'salir', 'salisbury', 'salmonella', 'saludmental', 'saludos', 'saludoss', 'salut', 'salute', 'salvação', 'salve', 'salvo', 'sam', 'sam1meta', 'sama', 'samay', 'sambou', 'same', 'samen', 'samixitoledo', 'sammydekeijne', 'samsumg', 'samsun', 'samsung', 'samsungarg', 'samsunggalaxynexus', 'samsungmobileca', 'samsungmobileus', 'samsungnexus', 'samsungpty', 'samudra', 'san', 'sander_koers', 'sandra', 'sandwich', 'sandwichintroducing', 'sandwichos', 'sandwitch', 'sanfrancisco', 'sanjeevgadre', 'sansung', 'santa', 'santo', 'santorum', 'sanwikipedia', 'sao', 'sap', 'sap_microsoft', 'sapb1', 'saperlo', 'sapevatelo', 'sapgateway', 'sapteched', 'saptha', 'sapworksmarter', 'sarahhhhh112', 'sarahhjessica', 'sarcasm', 'sarcasmo', 'saskianijs', 'satiliktir', 'satisfait', 'saturando', 'saturdaycute', 'satın', 'sauce', 'saudade', 'saudadeeees', 'saudades', 'sausagefest', 'sauvegarder', 'save', 'saved', 'saving', 'savoir', 'saw', 'sawyerhartman', 'say', 'sayin', 'saying', 'says', 'sb8geevb', 'sb_greenbiz', 'sbcs', 'sbpd8nbg', 'sbs', 'sbs2008', 'sby', 'sc', 'scalability', 'scale', 'scalecomputing', 'scam', 'scammers', 'scares', 'schafft', 'schaub', 'schaue', 'schaumburg', 'schedule', 'schestowitz', 'schimpfen', 'schiphol', 'schmerzen', 'schmerzensgeld', 'schnäppchen', 'schock', 'schon', 'school', 'schouder', 'schwastysmack', 'schweiz', 'schöne', 'science', 'science_alex', 'scientist', 'scientists', 'scientst', 'scimmia', 'scom', 'sconds', 'scores', 'scottdugas', 'scottrockhill', 'scottshipman1', 'scottyd99999', 'scpul9yz', 'scrapple', 'scream', 'screen', 'screened', 'screens', 'screenshot', 'screenshots', 'screw', 'screwed', 'screwing', 'screws', 'scribble', 'scriptures', 'scroll', 'scrollables', 'scrolling', 'scrubbing', 'scvmm', 'scène', 'sd', 'sd1xqwsp', 'sd33', 'sd3i1bjm', 'sdk', 'se', 'se4m', 'se4mcom', 'sea', 'seahawkswag', 'seal', 'seamlessly', 'sean', 'seanl44', 'searay', 'search', 'searchengine', 'searchengineland', 'searches', 'searching', 'searchmetrics', 'searchsoftware', 'seas', 'season', 'seats', 'sebascoulombe', 'sebitasrodri', 'sec', 'sec1802', 'second', 'seconde', 'seconds', 'secret', 'secretaresse', 'secreto', 'secretoo', 'section', 'secure', 'secureboot', 'securing', 'securities', 'security', 'securityessentials', 'sede', 'see', 'seeing', 'seek', 'seeking', 'seeks', 'seem', 'seemed', 'seemingly', 'seems', 'seen', 'seg', 'segoe', 'segregated', 'segue', 'segui', 'seguidores', 'seguir', 'seguiram', 'seguirse', 'segun', 'segunda', 'segur', 'seguridadparatodos', 'seguro', 'según', 'sehr', 'sei', 'sein', 'seinen', 'seit', 'seite', 'seiten', 'seize', 'sejahtera', 'selangor', 'selben', 'selección', 'select', 'selection', 'selecto', 'selektiv', 'self', 'sell', 'selling', 'sells', 'selop', 'sem', 'semana', 'semble', 'semejante', 'semilshah', 'sempre', 'send', 'sending', 'senews', 'senior', 'sense', 'sensible', 'sensor', 'sent', 'sentences', 'sentido', 'sentidoo', 'sentimiento', 'sentindo', 'senza', 'seo', 'seotips', 'september', 'sequence', 'ser', 'sera', 'seremos', 'serendipityjane', 'sergey', 'sergioapple', 'seriamente', 'serie', 'series', 'serieuze', 'serious', 'seriously', 'sermv1o7', 'serps', 'serve', 'served', 'server', 'servers', 'serveru', 'serves', 'serveur', 'service', 'servicepack', 'services', 'servicio', 'servicios', 'servir', 'servizi', 'servizio', 'serviços', 'será', 'serán', 'sería', 'sesame', 'sesamestreet', 'session', 'sessioni', 'set', 'setelah', 'sets', 'setting', 'settings', 'settle', 'settlement', 'setup', 'seu', 'seven', 'several', 'severe', 'sex', 'sexy', 'señal', 'señito', 'señor', 'señora', 'sf', 'sf1', 'sfblwqjg', 'sfciksak', 'sfida', 'sgarney', 'sgn', 'sgs', 'sgs2', 'sgsy2bw0', 'sh', 'sh2fcwus', 'sh316tbn', 'shagged', 'shagorikah', 'shair', 'shamada', 'shamlessselfpromotion', 'shanghai', 'shanmoorthy', 'share', 'shared', 'sharepoint', 'sharepoint2007', 'sharepoint2010', 'sharepointony', 'shares', 'shari', 'sharing', 'sharipaul_kofax', 'sharonhayes', 'shaunawalters8', 'shawnwildermuth', 'shaydiddy', 'she', 'sheet', 'shes', 'shezyyee', 'shhhh', 'shift', 'shifted', 'ship', 'shipping', 'shirts', 'shit', 'shitt', 'shitty', 'shld', 'shlft', 'sholliman', 'shoot', 'shop', 'shoppers', 'shopping', 'shops', 'shore', 'short', 'shortcut', 'shot', 'shots', 'shoukd', 'should', 'shout', 'shoutout', 'shouts', 'show', 'showed', 'shower', 'showin', 'showing', 'shows', 'shrewd', 'shuffle', 'shut', 'shutter', 'shyah', 'si', 'siamo', 'siapkan', 'sich', 'sicherheitslücken', 'sick', 'sidang', 'side', 'sido', 'sidyrm', 'sie', 'siehe', 'siempre', 'siendo', 'siento', 'sig', 'siga', 'sigam', 'sigamosla', 'sigan', 'siganme', 'sigh', 'siglos', 'sign', 'signal', 'signed', 'significa', 'significadosdos', 'signing', 'signs', 'signups', 'signé', 'signée', 'sigo', 'sigsource', 'sigue', 'siguemeytesigo', 'siguiendo', 'sii', 'sijsb3me', 'sikkerhet', 'silently', 'silicon', 'silly', 'silver', 'silverlight', 'sim', 'similar', 'similares', 'simon_townsend', 'simonsays_payme', 'simple', 'simplement', 'simplesmente', 'simplethings', 'simplicity', 'simplifies', 'simply', 'sin', 'sinanaral', 'since', 'sinceramente', 'sincerely', 'sincerelytigg_', 'sinceri', 'sincronización', 'sincronizarán', 'sind', 'sing', 'singapo', 'singapore', 'singaporean', 'singing', 'single', 'sinking', 'sino', 'sinon', 'siobhancoda', 'siourqui', 'sipcom', 'siri', 'siri_assistant', 'siriwho', 'sirve', 'sis', 'siseñor', 'sistema', 'sister', 'sit', 'site', 'sites', 'sith', 'sitio', 'sitios', 'sitting', 'situation', 'six', 'size', 'sizes', 'sizing', 'sjimotov', 'ska', 'skandalasgp', 'skills', 'skin', 'skip', 'skittles', 'skullgang', 'skvělé', 'skydrive', 'skype', 'skärm', 'sl', 'slackin', 'slacking', 'slams', 'slappy', 'slaps', 'slash', 'slashdotjp', 'slashgear', 'slate', 'slater_boy', 'slecht', 'slecluyse', 'sledgehammer', 'sleeep', 'sleek', 'sleep', 'sleeping', 'sleepy', 'slegit', 'slew', 'slick', 'slide', 'slider', 'slightly', 'slinging', 'slip', 'slipping', 'slogans', 'sloppy', 'slow', 'slower', 'slowly', 'slows', 'slowsprint', 'slp', 'slsss', 'sluta', 'slänga', 'slåss', 'sm', 'smalfunctioningagain', 'small', 'smallbiz', 'smallvictory', 'smarch323', 'smart', 'smart__remarks', 'smartbrief', 'smarterphone', 'smartest', 'smartkeitai', 'smartphone', 'smartphonenfc', 'smartphones', 'smartphonewar', 'smartphonewereld', 'smartsite', 'smashed', 'smau', 'smb', 'smell', 'smh', 'smile', 'smm', 'smooth', 'smp', 'smqueue', 'sms', 'smsavvy', 'smurf', 'sn', 'snad', 'snapt', 'snapw5tl', 'snatched', 'sndkag3e', 'sneaky', 'sneer', 'snel', 'sniferl4bs', 'snik', 'snippet', 'snippy', 'snl38em1', 'snom', 'snow', 'so', 'so1rcq0y', 'so7w7spn', 'soa', 'soaddicted', 'soaked', 'sobra', 'sobre', 'sobrevivir', 'sobrina', 'socapac11', 'socia', 'social', 'social_net_info', 'socialbiz', 'sociales', 'socialfans', 'socializar', 'socialize', 'socializing', 'socialmedia', 'socialmedia2day', 'socialmediamarketing', 'socialnetwork', 'socialnetworking', 'socialshareprivacy', 'socialwediatips', 'society', 'socio', 'socios', 'sociosmicrosoft', 'socioéconomique', 'sodear2myheart', 'soez', 'sofiavergara', 'sofort', 'soft', 'softline', 'softline24', 'softlinepastel', 'softs', 'software', 'softwarelibre', 'softwareverteilung', 'sogeti', 'soho', 'soi', 'soir', 'soirée', 'soit', 'sol', 'solamente', 'solar', 'solar_sister', 'solco', 'sold', 'solely', 'solo', 'solopensamosenti', 'solta', 'soluciones', 'solución', 'soluti', 'solution', 'solutions', 'soluzioni', 'soluções', 'solve', 'somalymam', 'some', 'some1', 'somebody', 'somehow', 'someone', 'something', 'sometime', 'sometimes', 'somos', 'son', 'song', 'songs', 'sonhos', 'sonic', 'sono', 'sont', 'sony', 'soon', 'sooner', 'sooo', 'soooo', 'soooooo', 'sopa', 'sophistication', 'soportes', 'soretes', 'sorprende', 'sorprendente', 'sorpresa', 'sorri', 'sorridente', 'sorry', 'sorryfollowers', 'sort', 'sorte', 'sorude', 'sos', 'sotto', 'sou', 'soudev', 'sought', 'sougo', 'sougofollow', 'soul', 'sound', 'sounds', 'sour_d_reyyy', 'source', 'sources', 'south', 'southern', 'southwestair', 'soy', 'soytufan2datemporada', 'soytufan_mx', 'sozinho', 'sp2010', 'sp210', 'sp3', 'space', 'spacecanard', 'spaces', 'spain', 'spam', 'spammy', 'spammée', 'spanish', 'spare', 'spared', 'spat', 'spatial', 'spazz', 'spaß', 'spbg', 'spd', 'speak', 'speakers', 'speaking', 'speakmymind', 'speaks', 'spec', 'specialist', 'specifying', 'specs', 'spectaculair', 'spectechular', 'specter', 'speech', 'speechtrans', 'speed', 'spell', 'spencer', 'spend', 'spending', 'spent', 'spezialist', 'spiegelonline', 'spiele', 'spigot', 'spin', 'spinning', 'spiral', 'spitzfcx', 'splitter', 'spmentor', 'spoed', 'spoiled', 'spoke', 'spongebob', 'sponsors', 'spontaneou', 'spontaneous', 'spontaneously', 'spookygoogle', 'sports', 'spot', 'spotify', 'spotted', 'spray', 'spring', 'springs', 'sprint', 'sprintfeed', 'sprung', 'spvyob8r', 'spy', 'spying', 'spyware', 'sql', 'sql2012', 'sqlazure', 'sqlkaraoke', 'sqlkilt', 'sqlpass', 'sqlserver', 'sqlserver2012', 'sqne1ilb', 'squad', 'squared', 'squatter', 'squidoo', 'sqxjkjao', 'sr', 'sr4scat7', 'sr7pip9b', 'sralgsci', 'srb0qlra', 'srbm3v0k', 'sri', 'srs', 'sscoop4', 'ssdxjowd', 'ssis', 'ssl', 'ssrs', 'ssurpnve', 'st', 'sta', 'staat', 'stabiel', 'stable', 'stacehendrix', 'stack', 'stacks', 'stadträtin', 'staff', 'staffed', 'stage', 'staged', 'stalkerismo', 'stalkertard', 'stalking', 'stand', 'standard', 'standards', 'standing', 'stap', 'star', 'staranddrama', 'starbucks', 'stare', 'starfrit', 'starr', 'starring', 'start', 'startbildschirm', 'started', 'starter', 'startet', 'starting', 'startpack', 'startpack_en', 'startpack_ru', 'starts', 'startup', 'startups', 'state', 'statement', 'states', 'station', 'statistiques', 'stato', 'statt', 'statuses', 'statussen', 'stavaza', 'stay', 'stayed', 'steal', 'steeds', 'steelo254', 'steffen', 'steffisavillon', 'steht', 'stellen', 'stellt', 'step', 'stephaniezogrh', 'stephen', 'stepitup', 'steps', 'sterling', 'steuerbehörde', 'steve', 'steve_b', 'steve_ballmer', 'steve_jobs', 'steveballmer', 'steveballmet', 'steveeadie', 'stevegr8ofteez', 'stevejobs', 'stevejobsday', 'stevejobstributecases', 'stevenbouquet', 'stevenrestern', 'stevewoz', 'stewart', 'stick', 'stickers', 'stickies', 'sticking', 'sticky', 'stifqwtu', 'stil', 'still', 'stilllearning', 'stimulate', 'stimulera', 'stink', 'sto', 'stock', 'stocks', 'stolen', 'stood', 'stop', 'stoppen', 'stops', 'storage', 'store', 'storeee', 'stores', 'store銀座', 'stories', 'story', 'str7go6w', 'str8talk123', 'straight', 'straits', 'strange', 'stranger', 'strangest', 'strategic', 'strategie', 'strategies', 'strategy', 'stratégique', 'stravi', 'stravinsky', 'stream', 'streams', 'street', 'streets', 'streiten', 'strengthen', 'stressed', 'stripes', 'strong', 'stronger', 'strongly', 'structure', 'struggling', 'stuartmiles', 'stuck', 'student', 'studentdiscounts', 'students', 'studies', 'studio', 'studiodev', 'studios', 'study', 'studying', 'studyingwhilstmotivated', 'stuff', 'stuffs', 'stumped', 'stunts', 'stupid', 'stuurt', 'styl_standin', 'style', 'stylus', 'su', 'su4l744v', 'sua', 'suavi', 'subatomicas', 'subjetivamente', 'submit', 'submitted', 'subscribe', 'subscriptions', 'substitute', 'subtweeting', 'suburbs', 'succeed', 'succesfully', 'success', 'successful', 'sucede', 'sucesso', 'such', 'sucha', 'suche', 'suchpartner', 'suck', 'sucked', 'suckers', 'sucking', 'sucks', 'sucrdj5y', 'sudden', 'suddenly', 'sue', 'sueñen', 'sueño', 'sueños', 'suffering', 'sufrir', 'sugar', 'sugg', 'suggest', 'suggested', 'suggesting', 'suggestions', 'suggests', 'suing', 'suisse', 'suit', 'suite', 'suivent', 'suivez', 'suivre', 'sujtk4fs', 'sukces', 'sul', 'sum', 'sum1', 'sumaho', 'sumandoo', 'sumarse', 'sumbo', 'sumbody', 'sumiu', 'sumiuuuuuuuuuuuuuuu', 'summary', 'summer', 'summit', 'sums', 'sun', 'sunaa', 'sundaaay', 'sunday', 'sungard', 'sunt', 'sup', 'supaluga', 'super', 'superb', 'superboîte', 'superficie', 'superior', 'superphone', 'supplier', 'suppliers', 'supply', 'support', 'supported', 'supporter', 'supporters', 'supporting', 'supportnya', 'supports', 'suppose', 'suppppp', 'supprimer', 'supreme', 'supuestros', 'sur', 'sure', 'surely', 'surface', 'surfaced', 'surfaces', 'surfactants', 'surpassing', 'surprised', 'surprises', 'surprising', 'survei', 'survey', 'survivable', 'survival', 'survived', 'surviving', 'sus', 'susanfelicity', 'suscripcion', 'sushi', 'suspecting', 'sustainability', 'sux', 'svega', 'sverige', 'svlrvxtr', 'svu8cg1m', 'svysckh7', 'swaag', 'swaagg', 'swagg', 'swaggination', 'swallow', 'swallowed', 'swaps', 'sware', 'swear', 'swears', 'sweatshops', 'sweepstakes', 'sweet', 'sweetdreams', 'swim', 'swipant', 'swipes', 'swirlz', 'switch', 'switched', 'switcher', 'switching', 'swpats', 'swvacbxc', 'swype', 'sx1nqjj1', 'sxfpd9xj', 'sxmlkarr', 'sxnobasn', 'sxpnubdh', 'sydney', 'sym', 'symantec', 'symbian', 'symbol', 'symonperriman', 'sympa', 'sympathische', 'sync', 'synching', 'syncing', 'syncronize', 'syncs', 'syntax', 'sys', 'sysadmin', 'sysikt', 'syste', 'systeem', 'systeembeheerder', 'system', 'systemcenter', 'systems', 'szansa', 'szchgkif', 'szimms', 'sáb', 'så', 'sé', 'sélectionner', 'sí', 'só', 'sólo', 'sóloenméxico', 'sıçmaya', 't05c34yy', 't0crksoo', 't0trfnk8', 't2ic4z3f', 't36kz6gf', 't4vxmno7', 't74bqyim', 't_t', 'ta', 'taa', 'tab', 'table', 'tablet', 'tableta', 'tabletguide_nl', 'tablets', 'tabs', 'tabtimes', 'tacoma', 'tactil', 'tactile', 'tademoda', 'taf', 'tag', 'taggean', 'tagged', 'tagger', 'tagging', 'taguer', 'tah', 'tah_med', 'tailfvuv', 'tajfjsd9', 'tak', 'takashiruru', 'take', 'takeaway', 'taken', 'takeover', 'takes', 'taking', 'talaga', 'talent', 'talk', 'talkandroid', 'talked', 'talking', 'talks', 'talkyo_ish', 'tall', 'tallgrass', 'tallman', 'tamagochi', 'tamanho', 'tambien', 'también', 'tambn', 'também', 'tami', 'tampa', 'tampoco', 'tan', 'tanbien', 'tando_m', 'tangled', 'tango', 'tanta', 'tantas', 'tanto', 'tantos', 'tantão', 'tao', 'tap', 'tapachula', 'taper', 'tapping', 'tarda', 'tardan', 'tarde', 'tardee', 'tarea', 'tareas', 'target', 'tarjeta', 'tartaruga', 'tas82011', 'task', 'taskcentre', 'taste', 'tatn', 'taught', 'tava', 'tavaa', 'tax', 'taxi', 'tazyodb8', 'taču', 'tbgqsfos', 'tbm', 'tbnyx7p7', 'tbon', 'tbtuewi1', 'tbxlrvin', 'tcdttniu', 'tcktgpbh', 'tcmagazine', 'tcn', 'tcot', 'tcpj_mickey', 'tdmfe0ni', 'tdz8z1uu', 'te', 'te4nqmxn', 'te_amotam', 'teach', 'teachforamerica', 'teachforus', 'teachhub', 'teaching', 'teah2015', 'team', 'teamandroid', 'teamapple', 'teamed', 'teamfollow', 'teamfollowback', 'teamgooglenexus', 'teamiphone', 'teamo', 'teams', 'tear', 'teaser', 'teasing', 'tebanrk', 'tecbuzz', 'tech', 'tech_ar', 'techcrunch', 'teched_na', 'techedafrica', 'techfest', 'techfieber', 'techflash', 'techgadgets', 'techhamlet', 'techie', 'techietroubles', 'techinciter', 'technabob', 'technet', 'technews', 'technical', 'technieken', 'techniques', 'technisch', 'technischer', 'techno', 'technological', 'technologies', 'technology', 'techs', 'techsupport', 'techwar', 'techxams', 'techy', 'techzader', 'tecido', 'teclado', 'tecniche', 'tecnify', 'tecnoclips', 'tecnologia', 'tecnologias', 'tecnología', 'tecnologías', 'tecnológica', 'tecnológicas', 'tecnológico', 'tecnológicos', 'teehee', 'teenpatti', 'teenswagquotess', 'teggyboy00', 'tegnologia', 'teknolojisini', 'tekstaanvulling', 'tel', 'tela', 'telarañas', 'tele', 'telecom', 'telefono', 'telefoon', 'telegraph', 'telephone', 'telerinonline', 'tell', 'telling', 'telljuicy', 'tellme', 'tells', 'telnummer', 'teléfono', 'teléfonos', 'tem', 'tema', 'temas', 'temasek', 'temor', 'temp', 'tempat', 'tempi', 'template', 'tempo', 'temporal', 'tempranitoo', 'tempão', 'tems', 'tendencia', 'tender', 'tendremos', 'tendrán', 'tendrás', 'tenemos', 'tener', 'tenerte', 'tenes', 'tengaa', 'tengan', 'tengas', 'tengo', 'tengooo', 'tenho', 'tenia', 'tenias', 'tenido', 'teniia', 'tentar', 'tento', 'tenía', 'ter', 'terceiros', 'terdege', 'teresarod', 'teresitacc', 'termina', 'terminal', 'terminar', 'terminas', 'terminaux', 'termine', 'termino', 'terms', 'ternuritas', 'terra', 'terrible', 'terror', 'terrystorch', 'tersangka', 'terug', 'teruk0bp', 'terça', 'test', 'testam', 'tested', 'tester', 'testificará', 'testify', 'testimonials', 'testing', 'tests', 'tetap', 'tetn3ull', 'teu', 'tewas', 'tewnhhuk', 'texas', 'text', 'texts', 'tfb', 'tferthomas', 'tfnrp3md', 'tfs', 'th', 'tha', 'thai', 'thai_q', 'thailand', 'than', 'thang', 'thank', 'thankful', 'thankfully', 'thanks', 'thanksfornothing', 'thanksgod', 'thankyou', 'thankyousteve', 'thanx', 'that', 'thats', 'thatsdisrespectful', 'thatsrealtalkin', 'thatstevegray', 'thattechguy92', 'thbenkoe', 'the', 'the_dj_show', 'the_kase', 'the_victor2', 'theater', 'thebufferingnetwork', 'thecloudnetwork', 'thedroidguy', 'thee', 'theft', 'thegadgetshow', 'theinq', 'their', 'thejabberwockey', 'thejcurt', 'thejjmg', 'theleg', 'thelegionofthefallen', 'thelittleappkid', 'them', 'thema', 'themacmob', 'themarketaire', 'themattbruening', 'theme', 'themes', 'themselves', 'then', 'thenextweb', 'thenonsensepersists', 'theoldway', 'theoretically', 'theq6sg9', 'therapy', 'there', 'therealdwi', 'therealjedad', 'therealterica', 'therefore', 'theresamarosy', 'therock', 'thesavoia', 'these', 'thestreet', 'thetechcheck', 'thetecheye', 'thetinyjewelbox', 'theunlockr', 'they', 'thezerooftime', 'thiagozito', 'thibaudd', 'thiel', 'thievingbastards', 'thigh', 'thing', 'things', 'thingsweallhate', 'thingswealllove', 'think', 'thinking', 'thinks', 'third', 'thirsty', 'this', 'thise', 'thisisdoyin_', 'thisisyungfresh', 'thks', 'thnx', 'tho', 'thomas', 'thomasgoubin', 'thoo', 'thorn', 'thorough', 'those', 'though', 'thought', 'thoughtful', 'thoughts', 'threads', 'threat', 'threaten', 'three', 'threw', 'throat', 'throne', 'through', 'throw', 'throws', 'tht', 'thuglife', 'thugs', 'thuis', 'thumbs', 'thunderbird', 'thunderbolt', 'thursday', 'thursdays', 'thus', 'thx', 'thxx', 'thyself', 'ti', 'ti9hy8lw', 'tic', 'tick', 'tidpahyc', 'tie', 'tied', 'tiempo', 'tienda', 'tiene', 'tienen', 'tienes', 'tienta', 'tiers', 'tiffanyk', 'tig', 'tiger', 'tighten', 'tijdrovend', 'til', 'tiles', 'till', 'tillgänglig', 'tillhörande', 'tim', 'time', 'timecapsule', 'timed', 'timeline', 'times', 'timewarnercable', 'timing', 'timjwdowning', 'tinha', 'tinkengil', 'tint', 'tintin_julielmo', 'tip', 'tipo', 'tipp', 'tipped', 'tips', 'tira', 'tiraderas', 'tired', 'tita_ramos', 'titanes', 'titanic', 'title', 'titles', 'titrer', 'tittelen', 'tja', 'tjcjaqfl', 'tjzscoal', 'tk6ihh2b', 'tk7i6fw4', 'tkgcw6y8', 'tkhmmy5y', 'tl', 'tlkin', 'tlkwhosd', 'tlmxcv6l', 'tlow', 'tm', 'tm2xaijb', 'tmb', 'tmdfqre1', 'tmghv24e', 'tmq50jru', 'tmurucvw', 'tmw', 'tnwl0oyu', 'tnxyuxva', 'to', 'to1ne', 'to7a2eih', 'tobillo', 'toch', 'tocomplicated', 'tod', 'toda', 'todas', 'todavía', 'today', 'todd', 'todo', 'todos', 'toevoegen', 'together', 'toggle', 'togmpp8i', 'tokó', 'told', 'toledo', 'tom', 'tomando', 'tomanocu', 'tomanocú', 'tomcastiglia', 'tomcolontonio', 'tomcruise', 'tomkeene', 'tommorrow', 'tommylee', 'tomorrow', 'ton', 'tonces', 'tone', 'tones', 'tonight', 'tonite', 'tons', 'tonybates', 'tonymicheal', 'tonytech818', 'too', 'toocool', 'took', 'tool', 'toolbar', 'tools', 'top', 'topic', 'topsport', 'toptweets', 'torbenleuschner', 'torrent', 'tos', 'tosleepigo', 'tossing', 'tot', 'total', 'totally', 'totvs', 'touch', 'touched', 'touchfähige', 'touching', 'touchme', 'touchpoints', 'touchscreen', 'touchscreens', 'tough', 'toulouse', 'tour', 'tournament', 'tous', 'tout', 'toute', 'toutes', 'touts', 'tov1xkq8', 'towards', 'towhat', 'town', 'towson', 'toy', 'toys', 'tqf6pjf5', 'tqmsbdrx', 'tra', 'trabado', 'trabaja', 'trabajan', 'trabajar', 'trabaje', 'trabajo', 'trabalhar', 'trabalho', 'track', 'tracking', 'trade', 'trademark', 'tradepromotion', 'traditional', 'traducidos', 'trae', 'traee', 'traen', 'traer', 'traffic', 'trafic', 'tragic', 'train', 'trainer', 'trainers', 'training', 'trainingen', 'traje', 'traject', 'tranquila', 'transactions', 'transcribirlo', 'transferir', 'transferred', 'transform', 'transformar', 'transición', 'transition', 'transitions', 'transj', 'translator', 'transmiten', 'transparentes', 'trapt', 'trash', 'trashes', 'trashier', 'trasteo', 'tratando', 'trava', 'travel', 'travisdommert', 'treat', 'trecebits', 'tree', 'treiber', 'treinandolider', 'trem', 'trended', 'trending', 'trendingtopicmn', 'trendmicro', 'trends', 'trenuyf4', 'tres', 'treuhand', 'treyhob21', 'treyratcliff', 'tri', 'trial', 'tribunale', 'tribune', 'tribute', 'trick', 'tricks', 'tried', 'tries', 'trip', 'triple', 'tripled', 'tripletown', 'triplingo', 'trippin', 'tripping', 'trisha_ps', 'triste', 'trivia', 'troca', 'trocar', 'trojan', 'tron', 'tronman', 'troquei', 'tros', 'trots', 'trouble', 'troublemaker', 'trovarci', 'troy', 'troyhopson', 'truck', 'trucs', 'true', 'truestory', 'truhlu', 'truly', 'trunfos', 'try', 'trying', 'tryladis', 'tryna', 'trynna', 'tráfego', 'très', 'trés', 'tsgcoihx', 'tshirts', 'tsk', 'tsql', 'tsyxwdkh', 'tt', 'tteunwmj', 'ttgycujs', 'ttinha', 'tu', 'tube', 'tudo', 'tuesday', 'tuexperto', 'tuit', 'tumbles', 'tumblr', 'tune', 'tuned', 'tunef', 'tunes', 'tunisie', 'tunisienews', 'tunisienews2011', 'turismo', 'turn', 'turned', 'turning', 'turns', 'turrets', 'tus', 'tussen', 'tuto', 'tutoriel', 'tuu', 'tuudo', 'tuvieras', 'tuítes', 'tv', 'tvbox', 'tvnewschick', 'tvnz', 'tw3szx61', 'twaeudbp', 'twalve', 'twandroid', 'twatter', 'tweeps', 'tweeqfr', 'tweet', 'tweetbarassment', 'tweetbot', 'tweetcaster', 'tweetdeck', 'tweetear', 'tweeted', 'tweeter', 'tweeting', 'tweetoff', 'tweetoftheday', 'tweets', 'tweetsmarter', 'tweezard', 'tweezardcom', 'twhistler', 'twicam', 'twiceiphone4sales', 'twidroyd', 'twikito', 'twinkleg_ray', 'twit', 'twit2alsh', 'twitches', 'twitgrap', 'twitoma', 'twitpeeps', 'twitpic', 'twittea', 'twittear', 'twitter', 'twitterapp', 'twitterapps', 'twitterdeity', 'twitterer', 'twitterjail', 'twitterless', 'twitterloze', 'twittermilestone', 'twitternation', 'twittero', 'twitteroff', 'twitterrookie', 'twitters', 'twitterswag', 'twittertime', 'twittertip', 'twittertweeters', 'twittoma', 'twittos', 'twitts', 'twitwhore', 'twizjgbr', 'two', 'twoja', 'tx', 'txheoine', 'txnkgfzl', 'txt', 'txts', 'ty', 'ty0hdqam', 'tyadzhqx', 'tyfusverspreiding', 'tyg4ualc', 'tyh0abxl', 'tyjugsnq', 'tylermatheison', 'tym', 'typ3', 'typ67kqf', 'type', 'typebuilder', 'typed', 'types', 'typing', 'tzblegaq', 'tzigd99b', 'tzj1bync', 'tzm4fd4w', 'tzvjaqli', 'tá', 'táctil', 'tão', 'téc', 'típico', 'títulos', 'tõ', 'tüm', 'türkiye', 'u0hzovqf', 'u1zmu9ih', 'u3lchmgd', 'u62wseou', 'u702soso', 'u7vimwl6', 'u82a1ivk', 'uac', 'uahsuahsuasa', 'uaqrxtnk', 'uawhbolz', 'uber', 'ubersocial', 'ubersoical', 'ubisys', 'ubuntu', 'uc', 'ucd9sdx4', 'ucexpo', 'uch', 'ucoms', 'ud', 'udkgr3cb', 'udloqfsa', 'uecqhl6k', 'uecurydx', 'uefi', 'uepatrzx', 'uf9tak8f', 'uff', 'ufff', 'ufi0yll7', 'ugh', 'ughh', 'ugly', 'ugptuucz', 'ugsbdxqm', 'ugurlu', 'ugzvjmmr', 'uh', 'uhmw', 'uhr', 'uhuruoooo', 'ui', 'ui0ad1fj', 'ui8loezx', 'uick', 'uii', 'uiiii', 'uit', 'uitbouwen', 'uitdagende', 'uitgehaald', 'uiwn6fgq', 'ujivd1xu', 'ujn5j8dw', 'uk', 'uk3a7jwk', 'uk8sw8hz', 'ukwokbgd', 'ukxnzpyq', 'ul9zzkv8', 'ulchky', 'ulforthewin', 'ulteriore', 'ultiem', 'ultimate', 'ultimo', 'ultimooos', 'um', 'um860jfh', 'uma', 'umber', 'umbgxvqi', 'umbrellas', 'umd', 'umdnews', 'umelink', 'umm', 'umobolne', 'umsatzgarantien', 'umweltverschmutzung', 'un', 'una', 'unable', 'unauthorized', 'unbelievable', 'unblocked', 'unblocker', 'unborn', 'uncategorized', 'unconventional', 'und', 'undecided', 'under', 'undergo', 'underlying', 'underplayed', 'underrated', 'underscore', 'understand', 'underwhelming', 'undo', 'undoubtedly', 'une', 'unen', 'unerwartetem', 'unexpected', 'unfair', 'unfkqpaj', 'unfollow', 'unfollowing', 'unfollows', 'unfortunately', 'unhappy', 'unico', 'unidades', 'unidos', 'unified', 'unipamplona', 'unique', 'uniquegens', 'unites', 'units', 'universe', 'universidad', 'university', 'universität', 'unkaboggable', 'unknown', 'unladen', 'unless', 'unlike', 'unlock', 'unlocked', 'unlocking', 'unlocks', 'unmindful', 'uno', 'unos', 'unproductive', 'unquality', 'unreal', 'uns', 'unter', 'unterstützenswerte', 'untersuchung', 'until', 'untill', 'unveil', 'unveiled', 'unveiling', 'unveils', 'unwanted', 'unwrapping', 'uoifnklj', 'uol', 'uolayiea', 'uopsylto', 'up', 'upcoming', 'upcomingparty', 'update', 'updated', 'updater', 'updates', 'updating', 'upgrade', 'upgraded', 'upgraden', 'upgrades', 'upgrading', 'uphill', 'upload', 'ups', 'upset', 'upsidedown', 'upstairs', 'uqghsamj', 'uqmiqbbt', 'ur', 'url', 'urlare', 'urls', 'uruchomił', 'urwelcome', 'urxjixce', 'us', 'usa', 'usabilidade', 'usable', 'usada', 'usage', 'usagi', 'usan', 'usando', 'usar', 'usara', 'usarlo', 'usas', 'usato', 'usava', 'usb', 'usdor', 'use', 'used', 'useful', 'useless', 'user', 'useragent', 'users', 'uses', 'using', 'usnya', 'uso', 'usoandroid', 'ustan', 'usted', 'ustedes', 'usual', 'usuario', 'usuarios', 'utbpxrsj', 'uthuuecj', 'util', 'utilisateurs', 'utilisation', 'utilisé', 'utilities', 'utility', 'utiliza', 'utilizado', 'utilizando', 'utilizar', 'utilizas', 'utilizza', 'utmhyifd', 'utter', 'utterly', 'utu4mwjk', 'uuchas', 'uud7ea3v', 'uuzhimgv', 'uvgb05g6', 'uvyjxgsv', 'uweyalkb', 'ux', 'ux1cib6a', 'uxfa8ukg', 'uy35rrru', 'uy7kwjiy', 'uydnz4r0', 'uz', 'uz7qqu1j', 'uzi5aexa', 'už', 'v07pbndp', 'v0mo0vkq', 'v1wej6z6', 'v2', 'v4', 'v4ibwfpp', 'v4lr34p3', 'v5', 'v5fasqid', 'v5wg698v', 'v690lfls', 'v8zttnvv', 'v9rmrauh', 'va', 'vacaciones', 'vacature', 'vacatures', 'vacia', 'vacilar', 'vad', 'vadvkmsk', 'vagina', 'vai', 'vain', 'vale', 'valelokas', 'validated', 'valley', 'valorada', 'valore', 'valuable', 'values', 'vam', 'vamos', 'van', 'vancouver', 'vandaag', 'vanillalatte_xd', 'vanmiddag', 'var', 'varför', 'variety', 'varios', 'varon', 'vars', 'vas', 'vast', 'vastloopt', 'vat', 'vattam', 'vaya', 'vaydredn', 'vb', 'vba', 'vbcl0ozp', 'vbr0cpkr', 'vc', 'vc573pte', 'vcs', 'vdd', 'vdhjkydn', 'vdyd7qaw', 've', 've3lmotn', 'vea', 'vean', 'veces', 'vecmsahq', 'veeam', 'veel', 'vegas', 'vegascharlieb', 'vegkjifq', 'vehicle', 'veicot', 'vejam', 'vejo', 'velho', 'velmtzns', 'velocidade', 'vemos', 'vend', 'vende', 'vender', 'vendeurs', 'vendido', 'vendidos', 'vendo', 'vendor', 'vendors', 'vendroid', 'venezuela', 'venite', 'ventas', 'venturebeat', 'ventures', 'veo', 'ver', 'vera', 'verbe', 'verbessern', 'verbraucher', 'verdad', 'verdd', 'verder', 'verdient', 'veremos', 'verfügbar', 'verge', 'vergones', 'vergrootglas', 'verhaal', 'verizon', 'verizonwireless', 'verkaufspezialist', 'verkocht', 'verkoop', 'verleden', 'verloren', 'verlängert', 'vernieuwend', 'veroturismo', 'vers', 'verschlüsselt', 'verschmutzung', 'verschwunde', 'verses', 'version', 'version5', 'versjon', 'verspricht', 'versus', 'versão', 'verte', 'vertical', 'verwachtingovertreffen', 'verwaltungs', 'verwandelt', 'very', 'verzoek', 'verás', 'ves', 'veteran', 'vez', 'vfacebook', 'vfzrtkaa', 'vgcotk8z', 'vgmydlds', 'vgsf529q', 'vgubrzyn', 'vhntgols', 'vi', 'vi0htjrr', 'via', 'vibrar', 'vibrate', 'vibrating', 'vibro', 'vic', 'vicariously', 'vice', 'viciada', 'viciados', 'vicio', 'vicioooooo', 'victim', 'victima', 'victims', 'victoires', 'victorafrosan', 'vid', 'vida', 'video', 'videoconferencing', 'videohovory', 'videollamada', 'videos', 'vidio', 'vidé', 'vidéo', 'vidéos', 'vie', 'viel', 'viendo', 'viene', 'viens', 'vieron', 'view', 'views', 'vijinite', 'village', 'villes', 'vincemayfield', 'vincent', 'vinda', 'vinnymartiins', 'vinodrad', 'viny1970', 'violated', 'violence', 'vior326d', 'vip', 'virage', 'virginity', 'virgojud81', 'virtual', 'virtualfat', 'virtualisation', 'virtualization', 'virtualização', 'virtualsystem', 'virtuels', 'virus', 'visibility', 'visibles', 'visigoth', 'vision', 'visionnaire', 'visionner', 'visit', 'visitadaaa', 'visite', 'visión', 'viss', 'visse', 'vista', 'vistazo', 'viste', 'visto', 'visual', 'visualiza', 'visualstudio', 'visualstudio2010', 'vital', 'vittoria', 'viu', 'viva', 'vivablackberry', 'vive', 'vivido', 'vivir', 'vivistephiee', 'viy6w6z0', 'vió', 'vj2jpktm', 'vj678hk3', 'vjbbjwhe', 'vjrssfyn', 'vkfnwmtj', 'vkjwatsr', 'vkv2tbcj', 'vkxg7az5', 'vkyyy2ro', 'vlad5564', 'vlieg', 'vlingo', 'vll4nzc6', 'vm', 'vmax', 'vmi', 'vms', 'vmware', 'vmworld', 'vmworld2011', 'vmzshhuq', 'vngazg48', 'vnnkrfs2', 'vo', 'vo542mrz', 'vo9mf1g5', 'vocabb', 'vocale', 'voce', 'você', 'vocês', 'vodi', 'vodka', 'voglio', 'voh8vm8a', 'voi', 'voice', 'voicecontrol', 'voicemail', 'voicemails', 'voices', 'voici', 'voii', 'voip', 'voir', 'vol', 'volgende', 'volgens', 'volta', 'volto', 'voltoo', 'volume', 'volver', 'volverán', 'volviendose', 'volviiendoo', 'vom', 'vomitarlas', 'von', 'vonjhtje', 'voo', 'voor', 'voou', 'vooz', 'vor', 'vorbereitet', 'vorgestellt', 'vorstellung', 'vorte', 'vorteil', 'vortrag', 'vos', 'voss', 'vote', 'votes', 'votlsnfx', 'votos', 'votre', 'vou', 'vouched', 'voucher', 'voudrais', 'voulez', 'vous', 'voy', 'voz', 'voçs', 'vp', 'vpqoyxwa', 'vpxanjtz', 'vqkj84ac', 'vqueoske', 'vraag', 'vraagt', 'vrai', 'vrfosqtb', 'vrij', 'vs', 'vs0ujozd', 'vs2010', 'vs5r1oox', 'vsf', 'vshport', 'vslive', 'vsphere5', 'vsypl9xu', 'vt9d24yi', 'vtybqi91', 'vu', 'vuelta', 'vuelto', 'vuelva', 'vuelve', 'vuelvo', 'vulnerability', 'vuoi', 'vusala_abidin', 'vuwgyx3n', 'vuyxwrxw', 'vuzmzezv', 'vv', 'vv6ltkyp', 'vvasluma', 'vwaiqdlt', 'vwciov1f', 'vwhpxkvp', 'vwpua2gt', 'vxcv9cpq', 'vya3ed6h', 'vyntu8xw', 'vyxqubjg', 'vyyasbm6', 'vzfuv9oi', 'vzicdhfw', 'vzkedzac', 'vzx25ht8', 'väggen', 'världens', 'vía', 'vím', 'w03j7hta', 'w051bfs0', 'w2s', 'w4muskem', 'w5ocrbpm', 'w7gtxqz0', 'w8ixibot', 'wa0bp7mx', 'waaaaay', 'waaaay', 'waar', 'waardeloos', 'waardering', 'waardevolle', 'waba8k9b', 'wack', 'wad', 'waddya', 'waffel', 'wahooly', 'wait', 'waited', 'waiting', 'wake', 'waking', 'walk', 'walked', 'wall', 'walled', 'wallet', 'wallpaper', 'walls', 'wank', 'wanna', 'wannabe', 'want', 'wanted', 'wanting', 'wants', 'war', 'ware', 'warfare', 'warm', 'warning', 'warns', 'warranty', 'warrenwhitlock', 'wars', 'warum', 'wary', 'was', 'wasalu_flora', 'wash', 'washer', 'washington', 'washingtonpost', 'wasn', 'wass', 'wassup', 'waste', 'wasted', 'wasting', 'wat', 'watch', 'watchdog', 'watched', 'watchin', 'watching', 'water', 'watson', 'wauw', 'wave', 'way', 'wayne', 'waynp', 'ways', 'waz', 'waze_it', 'wbasinger', 'wd05mhpu', 'wdhfz7hp', 'wdlhzsza', 'we', 'weaken', 'wear', 'wearable', 'weather', 'web', 'web2', 'webcam', 'webcamps', 'webcast', 'webespacio', 'webex', 'webgl', 'webhosting', 'webhostingcoupon', 'webinar', 'webmaster', 'webmatrix', 'webos', 'webpage', 'webpronews', 'webseoanalytics', 'webservice', 'webshop', 'website', 'websitespark', 'webstandardat', 'webwinkel', 'wecker', 'wednesday', 'wedpbcpx', 'week', 'weekend', 'weekly', 'weep', 'weer', 'weetapplehetaltijdbeter', 'weg', 'weil', 'weird', 'weirdo', 'weirdosrunshit', 'weiterhin', 'wel', 'welchen', 'welcome', 'welcomee', 'welcomes', 'welcomeskype', 'welcometotwitter', 'welcum', 'well', 'wellis68', 'welp', 'welt', 'wen', 'wendywilliams', 'wenig', 'wenn', 'went', 'wer', 'werd', 'were', 'weren', 'weres', 'werk', 'werkelijk', 'werken', 'wesle', 'wesleybackelant', 'west', 'weten', 'wethepeople', 'wevatotal', 'wfjxlkhe', 'wfoopx1y', 'wfrui1nn', 'wfrzkysn', 'wfssexks', 'wg9xonkg', 'wgrmnypi', 'whaddupwitdat', 'whale', 'what', 'whatchu', 'whats', 'whatsapp', 'whatuphoe1211', 'whdraqo4', 'wheat', 'wheel', 'when', 'whenever', 'wheniwas14', 'whens', 'where', 'whether', 'whhyy', 'whi', 'which', 'while', 'white', 'who', 'whoa', 'whoever', 'whole', 'whoops', 'whore', 'whores', 'whoring', 'whrox8ka', 'wht', 'whts', 'why', 'whymicrosoft', 'whymsft', 'wiadomosci', 'wibbwi5t', 'wichtigste', 'wid', 'wide', 'widget', 'widgets', 'wie', 'wieder', 'wien', 'wife', 'wifi', 'wififofum', 'wii', 'wikileaks', 'wikipedia', 'wil', 'wild', 'wilko_lr', 'will', 'william', 'willing', 'willkommen', 'willprovide', 'wilth', 'wimxvtlb', 'win', 'win32', 'win7', 'win8', 'winbetadotorg', 'window', 'windows', 'windows7', 'windows7mobile', 'windows8', 'windows_95', 'windows_phone', 'windowsazure', 'windowsblog', 'windowsespana', 'windowsfrance', 'windowslivebook', 'windowsphone', 'windowsphone7', 'windowsxp', 'windowsxphomesoftware', 'winklrsprinklr', 'winnaar', 'winner', 'winners', 'winning', 'winningwithel', 'winnipeg', 'winnipeg_rt', 'winrt', 'winrumors', 'wins', 'wiped', 'wir', 'wird', 'wired', 'wireddoo', 'wiredinsider', 'wireditalia', 'wireless', 'wirelesskeyboardandmouse', 'wisconsin_mommy', 'wise', 'wisely', 'wish', 'wished', 'wishh', 'wishing', 'wissekomm', 'wisten', 'wit', 'witchcraft', 'with', 'within', 'without', 'witnessing', 'wiz4omu0', 'więcej', 'wjab0tmq', 'wjccdiab', 'wjjbq7ae', 'wjwrefjj', 'wk', 'wld', 'wma', 'wmcxwysh', 'wmi', 'wmp', 'wmqnpclv', 'wmy6locd', 'wo', 'woke', 'wom', 'woman', 'women', 'won', 'wonder', 'wonderful', 'wondering', 'wonderlaura', 'wong', 'wonky', 'wont', 'wooden', 'woods', 'woon', 'wooooow', 'woooow', 'word', 'wordd', 'worden', 'wordperfect', 'wordpress', 'words', 'wordswfriends', 'wordt', 'work', 'worked', 'workers', 'workflow', 'workflows', 'workforce', 'working', 'workload', 'works', 'workshop', 'workshops', 'workspace', 'workstation', 'world', 'worldrecession', 'worlds', 'worldwide', 'worried', 'worries', 'worry', 'worse', 'worst', 'worstupdateever', 'worth', 'would', 'wouldn', 'wouldnt', 'wounded', 'wow', 'wowo', 'wowww', 'woz', 'wp', 'wp7', 'wp75', 'wp7dev', 'wpcentral', 'wpdesignteam', 'wpdev', 'wpltbvs3', 'wpo9l63f', 'wps', 'wpt', 'wqh2phea', 'wqqv4lyu', 'wrestler', 'wristpad', 'write', 'writer', 'writeychap', 'writing', 'wrong', 'ws4gs9uk', 'ws4lwwxy', 'ws7lints', 'wsfevvd4', 'wsgk5waj', 'wspsandiego', 'wspwest', 'wstein', 'wt3c2rp1', 'wtf', 'wtfh', 'wth', 'wtj1ogdo', 'wtjix29b', 'wtvvz8g4', 'wu3zm', 'wu6esvt5', 'wu9bfi1h', 'wueba', 'wuf65dtr', 'wuhu', 'wunmsql6', 'wunschdenken', 'wuppy', 'wurde', 'wvn', 'wvzprbci', 'ww', 'wwj3xvdm', 'wwnz6dx6', 'wwrycm04', 'wwsyxabn', 'www', 'wwwaaooooo', 'wxbc1uuw', 'wxhb8jxo', 'wyd5rnxn', 'wyhjuoqr', 'wymfplcs', 'wyszukuj', 'wzvxnz8e', 'wäre', 'wärmt', 'würde', 'własny', 'x1i0mxha', 'x1j8hnzu', 'x1qzex7f', 'x2', 'x2ymwess', 'x3gdbuyk', 'x3jy4b2l', 'x4ywfnsv', 'x55u6i4w', 'x6icubdz', 'x7tzk9sg', 'x7z87xzt', 'x86', 'x92swech', 'x_justlucky_x', 'xakls4gc', 'xataka', 'xatakamovil', 'xau', 'xaxnopo6', 'xbl', 'xbla', 'xbmjupmq', 'xbox', 'xbox360', 'xbox720', 'xboxlive', 'xboxygen', 'xcuntnuggetx', 'xd', 'xd5gst4l', 'xdd', 'xdtdzurd', 'xdxcwsar', 'xe7rl7a8', 'xekwtlug', 'xenophin', 'xenszcjh', 'xero', 'xeyirli', 'xezz42z2', 'xfg6l29d', 'xfzicbqo', 'xgf60gms', 'xghcsgx5', 'xghoev8k', 'xgurxnpa', 'xhbckq9t', 'xhrua9dz', 'xhvncznb', 'xijyuohz', 'xing', 'xiq3v54f', 'xjtcc7j7', 'xjuwsszs', 'xk', 'xkavtom9', 'xkh7ugy4', 'xli2br42', 'xljbygis', 'xlsu6ipa', 'xltt7wr9', 'xm2blifc', 'xm9fvcpd', 'xmas', 'xmf34t27', 'xml', 'xmrzvkav', 'xncmtwwb', 'xnj052no', 'xnkwgxme', 'xo_rosibel_', 'xolrauey', 'xomlcegl', 'xop25kvu', 'xoql8wqh', 'xp4apwah', 'xp9lhjpr', 'xpghlc2o', 'xpiaz8xp', 'xq', 'xq0trp44', 'xqxp2uwx', 'xrvolume', 'xsiydnqu', 'xsjgifop', 'xsl', 'xt2swsxg', 'xtqv4dw5', 'xtzmpsmt', 'xuepaar2', 'xuuxinha_', 'xv2q3gfi', 'xvcch6os', 'xvoncbeb', 'xw1acttj', 'xw7vh75e', 'xwc7xvk8', 'xwm15rvq', 'xwordy', 'xx', 'xx1chzbn', 'xxtfy71a', 'xym8fxd0', 'xywfxsdl', 'xyz', 'xzxmhuuu', 'y1', 'y2qzujm7', 'y33v8wvr', 'y3mali6y', 'y3yoarin', 'y6e1tuvi', 'y8hc6kzb', 'ya', 'yaaa', 'yaaaaaaaay', 'yahaan', 'yahoo', 'yahooanswers', 'yahoofinance', 'yahoos', 'yaksys', 'yal', 'yall', 'yang', 'yankees', 'yapping', 'yashasjoshi', 'yasserdvm', 'ycaff43r', 'ycxco5kk', 'yd4fbog3', 'ydh8ffxe', 'ye0nzy82', 'ye337yr6', 'ye6lt3bo', 'yea', 'yeah', 'yeahh', 'year', 'yearly', 'years', 'yeaxvp1v', 'yegge', 'yeh', 'yel8pq4o', 'yellow', 'yellowgate', 'yellowpages', 'yelp', 'yeni', 'yenilik', 'yeo', 'yep', 'yerson_aponte', 'yes', 'yesenia_rivero', 'yesplease', 'yesss', 'yessss', 'yesterday', 'yet', 'yevwfl4n', 'yf8fmeah', 'yfamgurf', 'yfwf9iye', 'yg', 'ygiso7xt', 'yglyrzwj', 'ygmidiiw', 'ygpnusfv', 'yhoo', 'yibumsuk', 'yie1rssz', 'yields', 'ykchtu8h', 'ykiftufx', 'ykqip7nk', 'ylf30h0h', 'yllitfat', 'ylrl4lzy', 'ylvjazxz', 'ymntcikg', 'ymás', 'yn34nged', 'yng45idc', 'ynjotwpi', 'ynkseeun', 'yo', 'yoconfieso', 'yojimbo', 'yonopienso_', 'yoo', 'yooo', 'yoooo', 'yooooo', 'yooooooo', 'yootfktm', 'you', 'youmoz', 'young', 'youngbasedsonic', 'your', 'yourbrowsermatters', 'yourdaysarenumbered', 'yourlameashell', 'yours', 'yourself', 'yousendit', 'youth', 'youtu', 'youtube', 'youuuuuuuuuuuu', 'yovotopor', 'yoxdu', 'yozd8hcx', 'ypergaf1', 'ypf60yee', 'ypm4gxf9', 'yptcbeon', 'ypzlts50', 'yqh20z0u', 'yqynjbdy', 'yr', 'yrckqeis', 'yrs', 'ys79qurd', 'ysi', 'yt2rwbgn', 'yt87krbp', 'yt8aw0gk', 'ytn5ohym', 'ytnbl8sf', 'ytq1kv5d', 'ytx4jhzm', 'ytyl8wm0', 'yu', 'yumad', 'yummy', 'yumyumyum', 'yup', 'yuvalariav', 'yuvalz', 'yuydxo1t', 'yuyg3kf6', 'yvandavid', 'yvwrw98h', 'yvxmwibi', 'ywtvgwjy', 'yx1r3wsx', 'yy1hnrbq', 'yyc', 'yycezpdy', 'yynzsp8j', 'yyu5q0i7', 'yywhy', 'yz9xgqgm', 'yzhcdgfp', 'yziwv1wd', 'yzlpogxb', 'yüzeyleri', 'z2bh6oh1', 'z2uzanhd', 'z3z3x9pa', 'z4gs3pxc', 'z4j7whms', 'z4jwlqvu', 'z5k7qgux', 'z5oxyc0y', 'z6x5re5q', 'z76pv0qv', 'z7bbj1xu', 'z8sdgut9', 'z9idoni7', 'za9h5o5u', 'zaaaat', 'zaakgericht', 'zaarly', 'zacksiam', 'zacksiezmagraff', 'zaelukm1', 'zahlreichen', 'zaibatsu', 'zal', 'zamodz9o', 'zanedbatelný', 'zapatero', 'zappos', 'zapptek', 'zat', 'zbi6rz5s', 'zbltz5mw', 'zbot', 'zcdtjyrp', 'zcevlb1a', 'zchv6tac', 'zd14sy6e', 'zdnet', 'zdnet_de', 'ze', 'ze4bzfph', 'ze9aimyi', 'zeer', 'zeg', 'zeggar', 'zegnaofficial', 'zegt', 'zeichen', 'zeigt', 'zeker', 'zekibildirici', 'zelf', 'zelfstandig', 'zero', 'zetes', 'zgbk3xnk', 'zgfsehao', 'zhgyinii', 'zhyegwaz', 'zichtbaar', 'zie', 'ziemlich', 'zien', 'ziet', 'zij', 'zijn', 'ziou333', 'zite', 'zixfa91n', 'zj9k6fw6', 'zjlsx90p', 'zjmhbph7', 'zk1dtfis', 'zkn2bu5r', 'zl951yca', 'zlaťáky', 'zm9dye63', 'zmd42jjj', 'zmx85fkd', 'znamená', 'zndp9vr6', 'znfytk9p', 'znpyad5f', 'zo', 'zo0fm1ya', 'zoals', 'zoek', 'zoekdiensten', 'zoeken', 'zogecner', 'zollikon', 'zombiebomber', 'zombienpndejs', 'zombies', 'zomg', 'zonabinaria', 'zonaredcom', 'zoo', 'zoom', 'zorgloob', 'zou', 'zover', 'zozr0uuz', 'zpznmwve', 'zqkmkq91', 'zrbak7kl', 'zrqoewxi', 'zryndhdi', 'zsfuv48d', 'zthaedigital', 'ztq9sx7x', 'zu', 'zu9pswsg', 'zuckerberg', 'zufolge', 'zug', 'zukünftige', 'zul3rivera', 'zulieferer', 'zum', 'zune', 'zv7dxria', 'zvitaly', 'zvzxxzul', 'zwaktebod', 'zwdhuk2w', 'zwecwhd', 'zwolle', 'zwqwpdq4', 'zwsufuez', 'zx3dleli', 'zx5pw0gt', 'zx6pio6f', 'zxfeb0ld', 'zxwmatxn', 'zxyaunaq', 'zyetras0', 'zyker3ax', 'zynga', 'zz8pjwwx', 'zzc6be0w', 'zzk4ftii', 'zzp06kpz', 'zzruwrsk', 'zzzzzzzzzzz', 'zzzzzzzzzzzz', 'zzzzzzzzzzzzzzzzzzzz', 'zürich']\n",
            "[[0 0 0 ... 0 0 0]\n",
            " [0 0 0 ... 0 0 0]\n",
            " [0 0 0 ... 0 0 0]\n",
            " ...\n",
            " [0 0 0 ... 0 0 0]\n",
            " [0 0 0 ... 0 0 0]\n",
            " [0 0 0 ... 0 0 0]]\n"
          ],
          "name": "stdout"
        }
      ]
    },
    {
      "cell_type": "code",
      "metadata": {
        "id": "P7oGqXhWJMJ5",
        "colab_type": "code",
        "colab": {
          "base_uri": "https://localhost:8080/",
          "height": 419
        },
        "outputId": "35c5aee0-e862-4b83-d1fe-96c57c955fa3"
      },
      "source": [
        "df_1=pd.DataFrame(X.toarray(),columns=(vectorizer.get_feature_names()))\n",
        "df_1"
      ],
      "execution_count": 11,
      "outputs": [
        {
          "output_type": "execute_result",
          "data": {
            "text/html": [
              "<div>\n",
              "<style scoped>\n",
              "    .dataframe tbody tr th:only-of-type {\n",
              "        vertical-align: middle;\n",
              "    }\n",
              "\n",
              "    .dataframe tbody tr th {\n",
              "        vertical-align: top;\n",
              "    }\n",
              "\n",
              "    .dataframe thead th {\n",
              "        text-align: right;\n",
              "    }\n",
              "</style>\n",
              "<table border=\"1\" class=\"dataframe\">\n",
              "  <thead>\n",
              "    <tr style=\"text-align: right;\">\n",
              "      <th></th>\n",
              "      <th>a050tg4l</th>\n",
              "      <th>a0wnchmi</th>\n",
              "      <th>a11y</th>\n",
              "      <th>a1arte</th>\n",
              "      <th>a1zgak5l</th>\n",
              "      <th>a23</th>\n",
              "      <th>a4ashlf6</th>\n",
              "      <th>a4wbqmc9</th>\n",
              "      <th>a6fllkge</th>\n",
              "      <th>a88zbr2o</th>\n",
              "      <th>a8on3iaa</th>\n",
              "      <th>a8tlwr3o</th>\n",
              "      <th>a8zqmpyp</th>\n",
              "      <th>a9</th>\n",
              "      <th>aa</th>\n",
              "      <th>aaa</th>\n",
              "      <th>aaargh</th>\n",
              "      <th>aac</th>\n",
              "      <th>aaddaqa7</th>\n",
              "      <th>aai</th>\n",
              "      <th>aalkhubaizi</th>\n",
              "      <th>aan</th>\n",
              "      <th>aanbieding</th>\n",
              "      <th>aanbod</th>\n",
              "      <th>aangekondigd</th>\n",
              "      <th>aantal</th>\n",
              "      <th>aantikken</th>\n",
              "      <th>aap7stht</th>\n",
              "      <th>aapl</th>\n",
              "      <th>ab</th>\n",
              "      <th>abaikan</th>\n",
              "      <th>abandonado</th>\n",
              "      <th>abandoned</th>\n",
              "      <th>abarcar</th>\n",
              "      <th>abbas</th>\n",
              "      <th>abbatterà</th>\n",
              "      <th>abbia</th>\n",
              "      <th>abbreviations</th>\n",
              "      <th>abc</th>\n",
              "      <th>abdullah347</th>\n",
              "      <th>...</th>\n",
              "      <th>zsfuv48d</th>\n",
              "      <th>zthaedigital</th>\n",
              "      <th>ztq9sx7x</th>\n",
              "      <th>zu</th>\n",
              "      <th>zu9pswsg</th>\n",
              "      <th>zuckerberg</th>\n",
              "      <th>zufolge</th>\n",
              "      <th>zug</th>\n",
              "      <th>zukünftige</th>\n",
              "      <th>zul3rivera</th>\n",
              "      <th>zulieferer</th>\n",
              "      <th>zum</th>\n",
              "      <th>zune</th>\n",
              "      <th>zv7dxria</th>\n",
              "      <th>zvitaly</th>\n",
              "      <th>zvzxxzul</th>\n",
              "      <th>zwaktebod</th>\n",
              "      <th>zwdhuk2w</th>\n",
              "      <th>zwecwhd</th>\n",
              "      <th>zwolle</th>\n",
              "      <th>zwqwpdq4</th>\n",
              "      <th>zwsufuez</th>\n",
              "      <th>zx3dleli</th>\n",
              "      <th>zx5pw0gt</th>\n",
              "      <th>zx6pio6f</th>\n",
              "      <th>zxfeb0ld</th>\n",
              "      <th>zxwmatxn</th>\n",
              "      <th>zxyaunaq</th>\n",
              "      <th>zyetras0</th>\n",
              "      <th>zyker3ax</th>\n",
              "      <th>zynga</th>\n",
              "      <th>zz8pjwwx</th>\n",
              "      <th>zzc6be0w</th>\n",
              "      <th>zzk4ftii</th>\n",
              "      <th>zzp06kpz</th>\n",
              "      <th>zzruwrsk</th>\n",
              "      <th>zzzzzzzzzzz</th>\n",
              "      <th>zzzzzzzzzzzz</th>\n",
              "      <th>zzzzzzzzzzzzzzzzzzzz</th>\n",
              "      <th>zürich</th>\n",
              "    </tr>\n",
              "  </thead>\n",
              "  <tbody>\n",
              "    <tr>\n",
              "      <th>0</th>\n",
              "      <td>0</td>\n",
              "      <td>0</td>\n",
              "      <td>0</td>\n",
              "      <td>0</td>\n",
              "      <td>0</td>\n",
              "      <td>0</td>\n",
              "      <td>0</td>\n",
              "      <td>0</td>\n",
              "      <td>0</td>\n",
              "      <td>0</td>\n",
              "      <td>0</td>\n",
              "      <td>0</td>\n",
              "      <td>0</td>\n",
              "      <td>0</td>\n",
              "      <td>0</td>\n",
              "      <td>0</td>\n",
              "      <td>0</td>\n",
              "      <td>0</td>\n",
              "      <td>0</td>\n",
              "      <td>0</td>\n",
              "      <td>0</td>\n",
              "      <td>0</td>\n",
              "      <td>0</td>\n",
              "      <td>0</td>\n",
              "      <td>0</td>\n",
              "      <td>0</td>\n",
              "      <td>0</td>\n",
              "      <td>0</td>\n",
              "      <td>0</td>\n",
              "      <td>0</td>\n",
              "      <td>0</td>\n",
              "      <td>0</td>\n",
              "      <td>0</td>\n",
              "      <td>0</td>\n",
              "      <td>0</td>\n",
              "      <td>0</td>\n",
              "      <td>0</td>\n",
              "      <td>0</td>\n",
              "      <td>0</td>\n",
              "      <td>0</td>\n",
              "      <td>...</td>\n",
              "      <td>0</td>\n",
              "      <td>0</td>\n",
              "      <td>0</td>\n",
              "      <td>0</td>\n",
              "      <td>0</td>\n",
              "      <td>0</td>\n",
              "      <td>0</td>\n",
              "      <td>0</td>\n",
              "      <td>0</td>\n",
              "      <td>0</td>\n",
              "      <td>0</td>\n",
              "      <td>0</td>\n",
              "      <td>0</td>\n",
              "      <td>0</td>\n",
              "      <td>0</td>\n",
              "      <td>0</td>\n",
              "      <td>0</td>\n",
              "      <td>0</td>\n",
              "      <td>0</td>\n",
              "      <td>0</td>\n",
              "      <td>0</td>\n",
              "      <td>0</td>\n",
              "      <td>0</td>\n",
              "      <td>0</td>\n",
              "      <td>0</td>\n",
              "      <td>0</td>\n",
              "      <td>0</td>\n",
              "      <td>0</td>\n",
              "      <td>0</td>\n",
              "      <td>0</td>\n",
              "      <td>0</td>\n",
              "      <td>0</td>\n",
              "      <td>0</td>\n",
              "      <td>0</td>\n",
              "      <td>0</td>\n",
              "      <td>0</td>\n",
              "      <td>0</td>\n",
              "      <td>0</td>\n",
              "      <td>0</td>\n",
              "      <td>0</td>\n",
              "    </tr>\n",
              "    <tr>\n",
              "      <th>1</th>\n",
              "      <td>0</td>\n",
              "      <td>0</td>\n",
              "      <td>0</td>\n",
              "      <td>0</td>\n",
              "      <td>0</td>\n",
              "      <td>0</td>\n",
              "      <td>0</td>\n",
              "      <td>0</td>\n",
              "      <td>0</td>\n",
              "      <td>0</td>\n",
              "      <td>0</td>\n",
              "      <td>0</td>\n",
              "      <td>0</td>\n",
              "      <td>0</td>\n",
              "      <td>0</td>\n",
              "      <td>0</td>\n",
              "      <td>0</td>\n",
              "      <td>0</td>\n",
              "      <td>0</td>\n",
              "      <td>0</td>\n",
              "      <td>0</td>\n",
              "      <td>0</td>\n",
              "      <td>0</td>\n",
              "      <td>0</td>\n",
              "      <td>0</td>\n",
              "      <td>0</td>\n",
              "      <td>0</td>\n",
              "      <td>0</td>\n",
              "      <td>0</td>\n",
              "      <td>0</td>\n",
              "      <td>0</td>\n",
              "      <td>0</td>\n",
              "      <td>0</td>\n",
              "      <td>0</td>\n",
              "      <td>0</td>\n",
              "      <td>0</td>\n",
              "      <td>0</td>\n",
              "      <td>0</td>\n",
              "      <td>0</td>\n",
              "      <td>0</td>\n",
              "      <td>...</td>\n",
              "      <td>0</td>\n",
              "      <td>0</td>\n",
              "      <td>0</td>\n",
              "      <td>0</td>\n",
              "      <td>0</td>\n",
              "      <td>0</td>\n",
              "      <td>0</td>\n",
              "      <td>0</td>\n",
              "      <td>0</td>\n",
              "      <td>0</td>\n",
              "      <td>0</td>\n",
              "      <td>0</td>\n",
              "      <td>0</td>\n",
              "      <td>0</td>\n",
              "      <td>0</td>\n",
              "      <td>0</td>\n",
              "      <td>0</td>\n",
              "      <td>0</td>\n",
              "      <td>0</td>\n",
              "      <td>0</td>\n",
              "      <td>0</td>\n",
              "      <td>0</td>\n",
              "      <td>0</td>\n",
              "      <td>0</td>\n",
              "      <td>0</td>\n",
              "      <td>0</td>\n",
              "      <td>0</td>\n",
              "      <td>0</td>\n",
              "      <td>0</td>\n",
              "      <td>0</td>\n",
              "      <td>0</td>\n",
              "      <td>0</td>\n",
              "      <td>0</td>\n",
              "      <td>0</td>\n",
              "      <td>0</td>\n",
              "      <td>0</td>\n",
              "      <td>0</td>\n",
              "      <td>0</td>\n",
              "      <td>0</td>\n",
              "      <td>0</td>\n",
              "    </tr>\n",
              "    <tr>\n",
              "      <th>2</th>\n",
              "      <td>0</td>\n",
              "      <td>0</td>\n",
              "      <td>0</td>\n",
              "      <td>0</td>\n",
              "      <td>0</td>\n",
              "      <td>0</td>\n",
              "      <td>0</td>\n",
              "      <td>0</td>\n",
              "      <td>0</td>\n",
              "      <td>0</td>\n",
              "      <td>0</td>\n",
              "      <td>0</td>\n",
              "      <td>0</td>\n",
              "      <td>0</td>\n",
              "      <td>0</td>\n",
              "      <td>0</td>\n",
              "      <td>0</td>\n",
              "      <td>0</td>\n",
              "      <td>0</td>\n",
              "      <td>0</td>\n",
              "      <td>0</td>\n",
              "      <td>0</td>\n",
              "      <td>0</td>\n",
              "      <td>0</td>\n",
              "      <td>0</td>\n",
              "      <td>0</td>\n",
              "      <td>0</td>\n",
              "      <td>0</td>\n",
              "      <td>0</td>\n",
              "      <td>0</td>\n",
              "      <td>0</td>\n",
              "      <td>0</td>\n",
              "      <td>0</td>\n",
              "      <td>0</td>\n",
              "      <td>0</td>\n",
              "      <td>0</td>\n",
              "      <td>0</td>\n",
              "      <td>0</td>\n",
              "      <td>0</td>\n",
              "      <td>0</td>\n",
              "      <td>...</td>\n",
              "      <td>0</td>\n",
              "      <td>0</td>\n",
              "      <td>0</td>\n",
              "      <td>0</td>\n",
              "      <td>0</td>\n",
              "      <td>0</td>\n",
              "      <td>0</td>\n",
              "      <td>0</td>\n",
              "      <td>0</td>\n",
              "      <td>0</td>\n",
              "      <td>0</td>\n",
              "      <td>0</td>\n",
              "      <td>0</td>\n",
              "      <td>0</td>\n",
              "      <td>0</td>\n",
              "      <td>0</td>\n",
              "      <td>0</td>\n",
              "      <td>0</td>\n",
              "      <td>0</td>\n",
              "      <td>0</td>\n",
              "      <td>0</td>\n",
              "      <td>0</td>\n",
              "      <td>0</td>\n",
              "      <td>0</td>\n",
              "      <td>0</td>\n",
              "      <td>0</td>\n",
              "      <td>0</td>\n",
              "      <td>0</td>\n",
              "      <td>0</td>\n",
              "      <td>0</td>\n",
              "      <td>0</td>\n",
              "      <td>0</td>\n",
              "      <td>0</td>\n",
              "      <td>0</td>\n",
              "      <td>0</td>\n",
              "      <td>0</td>\n",
              "      <td>0</td>\n",
              "      <td>0</td>\n",
              "      <td>0</td>\n",
              "      <td>0</td>\n",
              "    </tr>\n",
              "    <tr>\n",
              "      <th>3</th>\n",
              "      <td>0</td>\n",
              "      <td>0</td>\n",
              "      <td>0</td>\n",
              "      <td>0</td>\n",
              "      <td>0</td>\n",
              "      <td>0</td>\n",
              "      <td>0</td>\n",
              "      <td>0</td>\n",
              "      <td>0</td>\n",
              "      <td>0</td>\n",
              "      <td>0</td>\n",
              "      <td>0</td>\n",
              "      <td>0</td>\n",
              "      <td>0</td>\n",
              "      <td>0</td>\n",
              "      <td>0</td>\n",
              "      <td>0</td>\n",
              "      <td>0</td>\n",
              "      <td>0</td>\n",
              "      <td>0</td>\n",
              "      <td>0</td>\n",
              "      <td>0</td>\n",
              "      <td>0</td>\n",
              "      <td>0</td>\n",
              "      <td>0</td>\n",
              "      <td>0</td>\n",
              "      <td>0</td>\n",
              "      <td>0</td>\n",
              "      <td>0</td>\n",
              "      <td>0</td>\n",
              "      <td>0</td>\n",
              "      <td>0</td>\n",
              "      <td>0</td>\n",
              "      <td>0</td>\n",
              "      <td>0</td>\n",
              "      <td>0</td>\n",
              "      <td>0</td>\n",
              "      <td>0</td>\n",
              "      <td>0</td>\n",
              "      <td>0</td>\n",
              "      <td>...</td>\n",
              "      <td>0</td>\n",
              "      <td>0</td>\n",
              "      <td>0</td>\n",
              "      <td>0</td>\n",
              "      <td>0</td>\n",
              "      <td>0</td>\n",
              "      <td>0</td>\n",
              "      <td>0</td>\n",
              "      <td>0</td>\n",
              "      <td>0</td>\n",
              "      <td>0</td>\n",
              "      <td>0</td>\n",
              "      <td>0</td>\n",
              "      <td>0</td>\n",
              "      <td>0</td>\n",
              "      <td>0</td>\n",
              "      <td>0</td>\n",
              "      <td>0</td>\n",
              "      <td>0</td>\n",
              "      <td>0</td>\n",
              "      <td>0</td>\n",
              "      <td>0</td>\n",
              "      <td>0</td>\n",
              "      <td>0</td>\n",
              "      <td>0</td>\n",
              "      <td>0</td>\n",
              "      <td>0</td>\n",
              "      <td>0</td>\n",
              "      <td>0</td>\n",
              "      <td>0</td>\n",
              "      <td>0</td>\n",
              "      <td>0</td>\n",
              "      <td>0</td>\n",
              "      <td>0</td>\n",
              "      <td>0</td>\n",
              "      <td>0</td>\n",
              "      <td>0</td>\n",
              "      <td>0</td>\n",
              "      <td>0</td>\n",
              "      <td>0</td>\n",
              "    </tr>\n",
              "    <tr>\n",
              "      <th>4</th>\n",
              "      <td>0</td>\n",
              "      <td>0</td>\n",
              "      <td>0</td>\n",
              "      <td>0</td>\n",
              "      <td>0</td>\n",
              "      <td>0</td>\n",
              "      <td>0</td>\n",
              "      <td>0</td>\n",
              "      <td>0</td>\n",
              "      <td>0</td>\n",
              "      <td>0</td>\n",
              "      <td>0</td>\n",
              "      <td>0</td>\n",
              "      <td>0</td>\n",
              "      <td>0</td>\n",
              "      <td>0</td>\n",
              "      <td>0</td>\n",
              "      <td>0</td>\n",
              "      <td>0</td>\n",
              "      <td>0</td>\n",
              "      <td>0</td>\n",
              "      <td>0</td>\n",
              "      <td>0</td>\n",
              "      <td>0</td>\n",
              "      <td>0</td>\n",
              "      <td>0</td>\n",
              "      <td>0</td>\n",
              "      <td>0</td>\n",
              "      <td>0</td>\n",
              "      <td>0</td>\n",
              "      <td>0</td>\n",
              "      <td>0</td>\n",
              "      <td>0</td>\n",
              "      <td>0</td>\n",
              "      <td>0</td>\n",
              "      <td>0</td>\n",
              "      <td>0</td>\n",
              "      <td>0</td>\n",
              "      <td>0</td>\n",
              "      <td>0</td>\n",
              "      <td>...</td>\n",
              "      <td>0</td>\n",
              "      <td>0</td>\n",
              "      <td>0</td>\n",
              "      <td>0</td>\n",
              "      <td>0</td>\n",
              "      <td>0</td>\n",
              "      <td>0</td>\n",
              "      <td>0</td>\n",
              "      <td>0</td>\n",
              "      <td>0</td>\n",
              "      <td>0</td>\n",
              "      <td>0</td>\n",
              "      <td>0</td>\n",
              "      <td>0</td>\n",
              "      <td>0</td>\n",
              "      <td>0</td>\n",
              "      <td>0</td>\n",
              "      <td>0</td>\n",
              "      <td>0</td>\n",
              "      <td>0</td>\n",
              "      <td>0</td>\n",
              "      <td>0</td>\n",
              "      <td>0</td>\n",
              "      <td>0</td>\n",
              "      <td>0</td>\n",
              "      <td>0</td>\n",
              "      <td>0</td>\n",
              "      <td>0</td>\n",
              "      <td>0</td>\n",
              "      <td>0</td>\n",
              "      <td>0</td>\n",
              "      <td>0</td>\n",
              "      <td>0</td>\n",
              "      <td>0</td>\n",
              "      <td>0</td>\n",
              "      <td>0</td>\n",
              "      <td>0</td>\n",
              "      <td>0</td>\n",
              "      <td>0</td>\n",
              "      <td>0</td>\n",
              "    </tr>\n",
              "    <tr>\n",
              "      <th>...</th>\n",
              "      <td>...</td>\n",
              "      <td>...</td>\n",
              "      <td>...</td>\n",
              "      <td>...</td>\n",
              "      <td>...</td>\n",
              "      <td>...</td>\n",
              "      <td>...</td>\n",
              "      <td>...</td>\n",
              "      <td>...</td>\n",
              "      <td>...</td>\n",
              "      <td>...</td>\n",
              "      <td>...</td>\n",
              "      <td>...</td>\n",
              "      <td>...</td>\n",
              "      <td>...</td>\n",
              "      <td>...</td>\n",
              "      <td>...</td>\n",
              "      <td>...</td>\n",
              "      <td>...</td>\n",
              "      <td>...</td>\n",
              "      <td>...</td>\n",
              "      <td>...</td>\n",
              "      <td>...</td>\n",
              "      <td>...</td>\n",
              "      <td>...</td>\n",
              "      <td>...</td>\n",
              "      <td>...</td>\n",
              "      <td>...</td>\n",
              "      <td>...</td>\n",
              "      <td>...</td>\n",
              "      <td>...</td>\n",
              "      <td>...</td>\n",
              "      <td>...</td>\n",
              "      <td>...</td>\n",
              "      <td>...</td>\n",
              "      <td>...</td>\n",
              "      <td>...</td>\n",
              "      <td>...</td>\n",
              "      <td>...</td>\n",
              "      <td>...</td>\n",
              "      <td>...</td>\n",
              "      <td>...</td>\n",
              "      <td>...</td>\n",
              "      <td>...</td>\n",
              "      <td>...</td>\n",
              "      <td>...</td>\n",
              "      <td>...</td>\n",
              "      <td>...</td>\n",
              "      <td>...</td>\n",
              "      <td>...</td>\n",
              "      <td>...</td>\n",
              "      <td>...</td>\n",
              "      <td>...</td>\n",
              "      <td>...</td>\n",
              "      <td>...</td>\n",
              "      <td>...</td>\n",
              "      <td>...</td>\n",
              "      <td>...</td>\n",
              "      <td>...</td>\n",
              "      <td>...</td>\n",
              "      <td>...</td>\n",
              "      <td>...</td>\n",
              "      <td>...</td>\n",
              "      <td>...</td>\n",
              "      <td>...</td>\n",
              "      <td>...</td>\n",
              "      <td>...</td>\n",
              "      <td>...</td>\n",
              "      <td>...</td>\n",
              "      <td>...</td>\n",
              "      <td>...</td>\n",
              "      <td>...</td>\n",
              "      <td>...</td>\n",
              "      <td>...</td>\n",
              "      <td>...</td>\n",
              "      <td>...</td>\n",
              "      <td>...</td>\n",
              "      <td>...</td>\n",
              "      <td>...</td>\n",
              "      <td>...</td>\n",
              "      <td>...</td>\n",
              "    </tr>\n",
              "    <tr>\n",
              "      <th>5108</th>\n",
              "      <td>0</td>\n",
              "      <td>0</td>\n",
              "      <td>0</td>\n",
              "      <td>0</td>\n",
              "      <td>0</td>\n",
              "      <td>0</td>\n",
              "      <td>0</td>\n",
              "      <td>0</td>\n",
              "      <td>0</td>\n",
              "      <td>0</td>\n",
              "      <td>0</td>\n",
              "      <td>0</td>\n",
              "      <td>0</td>\n",
              "      <td>0</td>\n",
              "      <td>0</td>\n",
              "      <td>0</td>\n",
              "      <td>0</td>\n",
              "      <td>0</td>\n",
              "      <td>0</td>\n",
              "      <td>0</td>\n",
              "      <td>0</td>\n",
              "      <td>0</td>\n",
              "      <td>0</td>\n",
              "      <td>0</td>\n",
              "      <td>0</td>\n",
              "      <td>0</td>\n",
              "      <td>0</td>\n",
              "      <td>0</td>\n",
              "      <td>0</td>\n",
              "      <td>0</td>\n",
              "      <td>0</td>\n",
              "      <td>0</td>\n",
              "      <td>0</td>\n",
              "      <td>0</td>\n",
              "      <td>0</td>\n",
              "      <td>0</td>\n",
              "      <td>0</td>\n",
              "      <td>0</td>\n",
              "      <td>0</td>\n",
              "      <td>0</td>\n",
              "      <td>...</td>\n",
              "      <td>0</td>\n",
              "      <td>0</td>\n",
              "      <td>0</td>\n",
              "      <td>0</td>\n",
              "      <td>0</td>\n",
              "      <td>0</td>\n",
              "      <td>0</td>\n",
              "      <td>0</td>\n",
              "      <td>0</td>\n",
              "      <td>0</td>\n",
              "      <td>0</td>\n",
              "      <td>0</td>\n",
              "      <td>0</td>\n",
              "      <td>0</td>\n",
              "      <td>0</td>\n",
              "      <td>0</td>\n",
              "      <td>0</td>\n",
              "      <td>0</td>\n",
              "      <td>0</td>\n",
              "      <td>0</td>\n",
              "      <td>0</td>\n",
              "      <td>0</td>\n",
              "      <td>0</td>\n",
              "      <td>0</td>\n",
              "      <td>0</td>\n",
              "      <td>0</td>\n",
              "      <td>0</td>\n",
              "      <td>0</td>\n",
              "      <td>0</td>\n",
              "      <td>0</td>\n",
              "      <td>0</td>\n",
              "      <td>0</td>\n",
              "      <td>0</td>\n",
              "      <td>0</td>\n",
              "      <td>0</td>\n",
              "      <td>0</td>\n",
              "      <td>0</td>\n",
              "      <td>0</td>\n",
              "      <td>0</td>\n",
              "      <td>0</td>\n",
              "    </tr>\n",
              "    <tr>\n",
              "      <th>5109</th>\n",
              "      <td>0</td>\n",
              "      <td>0</td>\n",
              "      <td>0</td>\n",
              "      <td>0</td>\n",
              "      <td>0</td>\n",
              "      <td>0</td>\n",
              "      <td>0</td>\n",
              "      <td>0</td>\n",
              "      <td>0</td>\n",
              "      <td>0</td>\n",
              "      <td>0</td>\n",
              "      <td>0</td>\n",
              "      <td>0</td>\n",
              "      <td>0</td>\n",
              "      <td>0</td>\n",
              "      <td>0</td>\n",
              "      <td>0</td>\n",
              "      <td>0</td>\n",
              "      <td>0</td>\n",
              "      <td>0</td>\n",
              "      <td>0</td>\n",
              "      <td>0</td>\n",
              "      <td>0</td>\n",
              "      <td>0</td>\n",
              "      <td>0</td>\n",
              "      <td>0</td>\n",
              "      <td>0</td>\n",
              "      <td>0</td>\n",
              "      <td>0</td>\n",
              "      <td>0</td>\n",
              "      <td>0</td>\n",
              "      <td>0</td>\n",
              "      <td>0</td>\n",
              "      <td>0</td>\n",
              "      <td>0</td>\n",
              "      <td>0</td>\n",
              "      <td>0</td>\n",
              "      <td>0</td>\n",
              "      <td>0</td>\n",
              "      <td>0</td>\n",
              "      <td>...</td>\n",
              "      <td>0</td>\n",
              "      <td>0</td>\n",
              "      <td>0</td>\n",
              "      <td>0</td>\n",
              "      <td>0</td>\n",
              "      <td>0</td>\n",
              "      <td>0</td>\n",
              "      <td>0</td>\n",
              "      <td>0</td>\n",
              "      <td>0</td>\n",
              "      <td>0</td>\n",
              "      <td>0</td>\n",
              "      <td>0</td>\n",
              "      <td>0</td>\n",
              "      <td>0</td>\n",
              "      <td>0</td>\n",
              "      <td>0</td>\n",
              "      <td>0</td>\n",
              "      <td>0</td>\n",
              "      <td>0</td>\n",
              "      <td>0</td>\n",
              "      <td>0</td>\n",
              "      <td>0</td>\n",
              "      <td>0</td>\n",
              "      <td>0</td>\n",
              "      <td>0</td>\n",
              "      <td>0</td>\n",
              "      <td>0</td>\n",
              "      <td>0</td>\n",
              "      <td>0</td>\n",
              "      <td>0</td>\n",
              "      <td>0</td>\n",
              "      <td>0</td>\n",
              "      <td>0</td>\n",
              "      <td>0</td>\n",
              "      <td>0</td>\n",
              "      <td>0</td>\n",
              "      <td>0</td>\n",
              "      <td>0</td>\n",
              "      <td>0</td>\n",
              "    </tr>\n",
              "    <tr>\n",
              "      <th>5110</th>\n",
              "      <td>0</td>\n",
              "      <td>0</td>\n",
              "      <td>0</td>\n",
              "      <td>0</td>\n",
              "      <td>0</td>\n",
              "      <td>0</td>\n",
              "      <td>0</td>\n",
              "      <td>0</td>\n",
              "      <td>0</td>\n",
              "      <td>0</td>\n",
              "      <td>0</td>\n",
              "      <td>0</td>\n",
              "      <td>0</td>\n",
              "      <td>0</td>\n",
              "      <td>0</td>\n",
              "      <td>0</td>\n",
              "      <td>0</td>\n",
              "      <td>0</td>\n",
              "      <td>0</td>\n",
              "      <td>0</td>\n",
              "      <td>0</td>\n",
              "      <td>0</td>\n",
              "      <td>0</td>\n",
              "      <td>0</td>\n",
              "      <td>0</td>\n",
              "      <td>0</td>\n",
              "      <td>0</td>\n",
              "      <td>0</td>\n",
              "      <td>0</td>\n",
              "      <td>0</td>\n",
              "      <td>0</td>\n",
              "      <td>0</td>\n",
              "      <td>0</td>\n",
              "      <td>0</td>\n",
              "      <td>0</td>\n",
              "      <td>0</td>\n",
              "      <td>0</td>\n",
              "      <td>0</td>\n",
              "      <td>0</td>\n",
              "      <td>0</td>\n",
              "      <td>...</td>\n",
              "      <td>0</td>\n",
              "      <td>0</td>\n",
              "      <td>0</td>\n",
              "      <td>0</td>\n",
              "      <td>0</td>\n",
              "      <td>0</td>\n",
              "      <td>0</td>\n",
              "      <td>0</td>\n",
              "      <td>0</td>\n",
              "      <td>0</td>\n",
              "      <td>0</td>\n",
              "      <td>0</td>\n",
              "      <td>0</td>\n",
              "      <td>0</td>\n",
              "      <td>0</td>\n",
              "      <td>0</td>\n",
              "      <td>0</td>\n",
              "      <td>0</td>\n",
              "      <td>0</td>\n",
              "      <td>0</td>\n",
              "      <td>0</td>\n",
              "      <td>0</td>\n",
              "      <td>0</td>\n",
              "      <td>0</td>\n",
              "      <td>0</td>\n",
              "      <td>0</td>\n",
              "      <td>0</td>\n",
              "      <td>0</td>\n",
              "      <td>0</td>\n",
              "      <td>0</td>\n",
              "      <td>0</td>\n",
              "      <td>0</td>\n",
              "      <td>0</td>\n",
              "      <td>0</td>\n",
              "      <td>0</td>\n",
              "      <td>0</td>\n",
              "      <td>0</td>\n",
              "      <td>0</td>\n",
              "      <td>0</td>\n",
              "      <td>0</td>\n",
              "    </tr>\n",
              "    <tr>\n",
              "      <th>5111</th>\n",
              "      <td>0</td>\n",
              "      <td>0</td>\n",
              "      <td>0</td>\n",
              "      <td>0</td>\n",
              "      <td>0</td>\n",
              "      <td>0</td>\n",
              "      <td>0</td>\n",
              "      <td>0</td>\n",
              "      <td>0</td>\n",
              "      <td>0</td>\n",
              "      <td>0</td>\n",
              "      <td>0</td>\n",
              "      <td>0</td>\n",
              "      <td>0</td>\n",
              "      <td>0</td>\n",
              "      <td>0</td>\n",
              "      <td>0</td>\n",
              "      <td>0</td>\n",
              "      <td>0</td>\n",
              "      <td>0</td>\n",
              "      <td>0</td>\n",
              "      <td>0</td>\n",
              "      <td>0</td>\n",
              "      <td>0</td>\n",
              "      <td>0</td>\n",
              "      <td>0</td>\n",
              "      <td>0</td>\n",
              "      <td>0</td>\n",
              "      <td>0</td>\n",
              "      <td>0</td>\n",
              "      <td>0</td>\n",
              "      <td>0</td>\n",
              "      <td>0</td>\n",
              "      <td>0</td>\n",
              "      <td>0</td>\n",
              "      <td>0</td>\n",
              "      <td>0</td>\n",
              "      <td>0</td>\n",
              "      <td>0</td>\n",
              "      <td>0</td>\n",
              "      <td>...</td>\n",
              "      <td>0</td>\n",
              "      <td>0</td>\n",
              "      <td>0</td>\n",
              "      <td>0</td>\n",
              "      <td>0</td>\n",
              "      <td>0</td>\n",
              "      <td>0</td>\n",
              "      <td>0</td>\n",
              "      <td>0</td>\n",
              "      <td>0</td>\n",
              "      <td>0</td>\n",
              "      <td>0</td>\n",
              "      <td>0</td>\n",
              "      <td>0</td>\n",
              "      <td>0</td>\n",
              "      <td>0</td>\n",
              "      <td>0</td>\n",
              "      <td>0</td>\n",
              "      <td>0</td>\n",
              "      <td>0</td>\n",
              "      <td>0</td>\n",
              "      <td>0</td>\n",
              "      <td>0</td>\n",
              "      <td>0</td>\n",
              "      <td>0</td>\n",
              "      <td>0</td>\n",
              "      <td>0</td>\n",
              "      <td>0</td>\n",
              "      <td>0</td>\n",
              "      <td>0</td>\n",
              "      <td>0</td>\n",
              "      <td>0</td>\n",
              "      <td>0</td>\n",
              "      <td>0</td>\n",
              "      <td>0</td>\n",
              "      <td>0</td>\n",
              "      <td>0</td>\n",
              "      <td>0</td>\n",
              "      <td>0</td>\n",
              "      <td>0</td>\n",
              "    </tr>\n",
              "    <tr>\n",
              "      <th>5112</th>\n",
              "      <td>0</td>\n",
              "      <td>0</td>\n",
              "      <td>0</td>\n",
              "      <td>0</td>\n",
              "      <td>0</td>\n",
              "      <td>0</td>\n",
              "      <td>0</td>\n",
              "      <td>0</td>\n",
              "      <td>0</td>\n",
              "      <td>0</td>\n",
              "      <td>0</td>\n",
              "      <td>0</td>\n",
              "      <td>0</td>\n",
              "      <td>0</td>\n",
              "      <td>0</td>\n",
              "      <td>0</td>\n",
              "      <td>0</td>\n",
              "      <td>0</td>\n",
              "      <td>0</td>\n",
              "      <td>0</td>\n",
              "      <td>0</td>\n",
              "      <td>0</td>\n",
              "      <td>0</td>\n",
              "      <td>0</td>\n",
              "      <td>0</td>\n",
              "      <td>0</td>\n",
              "      <td>0</td>\n",
              "      <td>0</td>\n",
              "      <td>0</td>\n",
              "      <td>0</td>\n",
              "      <td>0</td>\n",
              "      <td>0</td>\n",
              "      <td>0</td>\n",
              "      <td>0</td>\n",
              "      <td>0</td>\n",
              "      <td>0</td>\n",
              "      <td>0</td>\n",
              "      <td>0</td>\n",
              "      <td>0</td>\n",
              "      <td>0</td>\n",
              "      <td>...</td>\n",
              "      <td>0</td>\n",
              "      <td>0</td>\n",
              "      <td>0</td>\n",
              "      <td>0</td>\n",
              "      <td>0</td>\n",
              "      <td>0</td>\n",
              "      <td>0</td>\n",
              "      <td>0</td>\n",
              "      <td>0</td>\n",
              "      <td>0</td>\n",
              "      <td>0</td>\n",
              "      <td>0</td>\n",
              "      <td>0</td>\n",
              "      <td>0</td>\n",
              "      <td>0</td>\n",
              "      <td>0</td>\n",
              "      <td>0</td>\n",
              "      <td>0</td>\n",
              "      <td>0</td>\n",
              "      <td>0</td>\n",
              "      <td>0</td>\n",
              "      <td>0</td>\n",
              "      <td>0</td>\n",
              "      <td>0</td>\n",
              "      <td>0</td>\n",
              "      <td>0</td>\n",
              "      <td>0</td>\n",
              "      <td>0</td>\n",
              "      <td>0</td>\n",
              "      <td>0</td>\n",
              "      <td>0</td>\n",
              "      <td>0</td>\n",
              "      <td>0</td>\n",
              "      <td>0</td>\n",
              "      <td>0</td>\n",
              "      <td>0</td>\n",
              "      <td>0</td>\n",
              "      <td>0</td>\n",
              "      <td>0</td>\n",
              "      <td>0</td>\n",
              "    </tr>\n",
              "  </tbody>\n",
              "</table>\n",
              "<p>5113 rows × 14204 columns</p>\n",
              "</div>"
            ],
            "text/plain": [
              "      a050tg4l  a0wnchmi  a11y  ...  zzzzzzzzzzzz  zzzzzzzzzzzzzzzzzzzz  zürich\n",
              "0            0         0     0  ...             0                     0       0\n",
              "1            0         0     0  ...             0                     0       0\n",
              "2            0         0     0  ...             0                     0       0\n",
              "3            0         0     0  ...             0                     0       0\n",
              "4            0         0     0  ...             0                     0       0\n",
              "...        ...       ...   ...  ...           ...                   ...     ...\n",
              "5108         0         0     0  ...             0                     0       0\n",
              "5109         0         0     0  ...             0                     0       0\n",
              "5110         0         0     0  ...             0                     0       0\n",
              "5111         0         0     0  ...             0                     0       0\n",
              "5112         0         0     0  ...             0                     0       0\n",
              "\n",
              "[5113 rows x 14204 columns]"
            ]
          },
          "metadata": {
            "tags": []
          },
          "execution_count": 11
        }
      ]
    },
    {
      "cell_type": "code",
      "metadata": {
        "id": "XHnSCgfBJMO5",
        "colab_type": "code",
        "colab": {}
      },
      "source": [
        "y = twitter['Sentiment']"
      ],
      "execution_count": 0,
      "outputs": []
    },
    {
      "cell_type": "code",
      "metadata": {
        "id": "Pz1wCbbEJMOP",
        "colab_type": "code",
        "colab": {}
      },
      "source": [
        "#Splitting the data into training and testing\n",
        "X_train, X_test, y_train, y_test = tts(X, y, test_size=0.25, random_state=42)"
      ],
      "execution_count": 0,
      "outputs": []
    },
    {
      "cell_type": "code",
      "metadata": {
        "id": "Gn93KwhXJMId",
        "colab_type": "code",
        "colab": {
          "base_uri": "https://localhost:8080/",
          "height": 177
        },
        "outputId": "586510fb-bc26-436d-f4de-58c2cbad3f4d"
      },
      "source": [
        "#Machine learning algorithm on transformed text data\n",
        "rfc = RandomForestClassifier()\n",
        "rfc.fit(X_train, y_train)"
      ],
      "execution_count": 14,
      "outputs": [
        {
          "output_type": "stream",
          "text": [
            "/usr/local/lib/python3.6/dist-packages/sklearn/ensemble/forest.py:245: FutureWarning: The default value of n_estimators will change from 10 in version 0.20 to 100 in 0.22.\n",
            "  \"10 in version 0.20 to 100 in 0.22.\", FutureWarning)\n"
          ],
          "name": "stderr"
        },
        {
          "output_type": "execute_result",
          "data": {
            "text/plain": [
              "RandomForestClassifier(bootstrap=True, class_weight=None, criterion='gini',\n",
              "                       max_depth=None, max_features='auto', max_leaf_nodes=None,\n",
              "                       min_impurity_decrease=0.0, min_impurity_split=None,\n",
              "                       min_samples_leaf=1, min_samples_split=2,\n",
              "                       min_weight_fraction_leaf=0.0, n_estimators=10,\n",
              "                       n_jobs=None, oob_score=False, random_state=None,\n",
              "                       verbose=0, warm_start=False)"
            ]
          },
          "metadata": {
            "tags": []
          },
          "execution_count": 14
        }
      ]
    },
    {
      "cell_type": "code",
      "metadata": {
        "id": "6OzNop7JJgNq",
        "colab_type": "code",
        "colab": {
          "base_uri": "https://localhost:8080/",
          "height": 88
        },
        "outputId": "88a7c3bc-fb1d-47cb-8e6c-3f482cf2d214"
      },
      "source": [
        "#Viewing predictions on text data\n",
        "y_pred = rfc.predict(X_test)\n",
        "y_pred[25:40]"
      ],
      "execution_count": 15,
      "outputs": [
        {
          "output_type": "execute_result",
          "data": {
            "text/plain": [
              "array(['irrelevant', 'irrelevant', 'neutral', 'neutral', 'neutral',\n",
              "       'neutral', 'neutral', 'neutral', 'neutral', 'irrelevant',\n",
              "       'neutral', 'neutral', 'neutral', 'negative', 'neutral'],\n",
              "      dtype=object)"
            ]
          },
          "metadata": {
            "tags": []
          },
          "execution_count": 15
        }
      ]
    },
    {
      "cell_type": "code",
      "metadata": {
        "id": "8EV7ipQAJgSt",
        "colab_type": "code",
        "colab": {
          "base_uri": "https://localhost:8080/",
          "height": 88
        },
        "outputId": "2b15f1c2-fbde-437a-b533-31251dd06a1b"
      },
      "source": [
        "#Viewing confusion matrix for classes negative, neutral, positive\n",
        "confusion_matrix(y_test, y_pred)"
      ],
      "execution_count": 16,
      "outputs": [
        {
          "output_type": "execute_result",
          "data": {
            "text/plain": [
              "array([[351,   5,  63,   1],\n",
              "       [  2,  57,  89,   4],\n",
              "       [ 48,  24, 510,   4],\n",
              "       [  8,   9,  81,  23]])"
            ]
          },
          "metadata": {
            "tags": []
          },
          "execution_count": 16
        }
      ]
    },
    {
      "cell_type": "code",
      "metadata": {
        "id": "mxJhEYvoJgXz",
        "colab_type": "code",
        "colab": {
          "base_uri": "https://localhost:8080/",
          "height": 212
        },
        "outputId": "8c13a705-2446-41aa-997a-262cbfb4013e"
      },
      "source": [
        "print(classification_report(y_pred, y_test))  ## Precision and recall for default threshold(0.5)"
      ],
      "execution_count": 17,
      "outputs": [
        {
          "output_type": "stream",
          "text": [
            "              precision    recall  f1-score   support\n",
            "\n",
            "  irrelevant       0.84      0.86      0.85       409\n",
            "    negative       0.38      0.60      0.46        95\n",
            "     neutral       0.87      0.69      0.77       743\n",
            "    positive       0.19      0.72      0.30        32\n",
            "\n",
            "    accuracy                           0.74      1279\n",
            "   macro avg       0.57      0.72      0.59      1279\n",
            "weighted avg       0.81      0.74      0.76      1279\n",
            "\n"
          ],
          "name": "stdout"
        }
      ]
    },
    {
      "cell_type": "code",
      "metadata": {
        "id": "KILArFIeJgdB",
        "colab_type": "code",
        "colab": {}
      },
      "source": [
        "\n",
        "#Defining a function that can find the roc auc score for multiple classes\n",
        "def multiclass_roc_auc_score(y_test, y_pred, average='macro'):\n",
        "  lb = LabelBinarizer()\n",
        "  lb.fit(y_test)\n",
        "  y_test = lb.transform(y_test)\n",
        "  y_pred = lb.transform(y_pred)\n",
        "  return roc_auc_score(y_test, y_pred, average=average)"
      ],
      "execution_count": 0,
      "outputs": []
    },
    {
      "cell_type": "code",
      "metadata": {
        "id": "tiSK9XxKJgcY",
        "colab_type": "code",
        "colab": {
          "base_uri": "https://localhost:8080/",
          "height": 35
        },
        "outputId": "bf035f04-8e54-4ecf-fc11-72e837379cc7"
      },
      "source": [
        "multiclass_roc_auc_score(y_test, y_pred)\n"
      ],
      "execution_count": 19,
      "outputs": [
        {
          "output_type": "execute_result",
          "data": {
            "text/plain": [
              "0.7282343166433614"
            ]
          },
          "metadata": {
            "tags": []
          },
          "execution_count": 19
        }
      ]
    },
    {
      "cell_type": "code",
      "metadata": {
        "id": "mex8Lp0xJgXG",
        "colab_type": "code",
        "colab": {}
      },
      "source": [
        "#Label Encoding y_test so that it can be compared with the threshold's output for the the classification report\n",
        "le = LabelEncoder()\n",
        "y_test = le.fit_transform(y_test)"
      ],
      "execution_count": 0,
      "outputs": []
    },
    {
      "cell_type": "code",
      "metadata": {
        "id": "32h25It8JgSA",
        "colab_type": "code",
        "colab": {
          "base_uri": "https://localhost:8080/",
          "height": 141
        },
        "outputId": "219f376f-1524-4988-bba3-1261afec6824"
      },
      "source": [
        "\n",
        "#These predicted probabilities make things easier when the thresholds are changes\n",
        "pred_rf = rfc.predict_proba(X_test)\n",
        "pred_rf"
      ],
      "execution_count": 21,
      "outputs": [
        {
          "output_type": "execute_result",
          "data": {
            "text/plain": [
              "array([[0.16      , 0.        , 0.84      , 0.        ],\n",
              "       [0.        , 0.        , 0.6       , 0.4       ],\n",
              "       [0.        , 0.        , 1.        , 0.        ],\n",
              "       ...,\n",
              "       [0.07142857, 0.2       , 0.32857143, 0.4       ],\n",
              "       [0.1       , 0.2       , 0.6       , 0.1       ],\n",
              "       [0.        , 0.6       , 0.4       , 0.        ]])"
            ]
          },
          "metadata": {
            "tags": []
          },
          "execution_count": 21
        }
      ]
    },
    {
      "cell_type": "code",
      "metadata": {
        "id": "_fDNRgXmJ7u6",
        "colab_type": "code",
        "colab": {}
      },
      "source": [
        "def threshold6(array):\n",
        "  a = []\n",
        "  for i in range(len(array)):\n",
        "    if max(array[i])>0.6:\n",
        "      a.append(np.argmax(array[i]))\n",
        "    else:\n",
        "      a.append(2)\n",
        "  return a"
      ],
      "execution_count": 0,
      "outputs": []
    },
    {
      "cell_type": "code",
      "metadata": {
        "id": "sSIn1IJ2J7z3",
        "colab_type": "code",
        "colab": {
          "base_uri": "https://localhost:8080/",
          "height": 248
        },
        "outputId": "79a1ff63-d7a2-43e2-8faf-a8b1d6d5949e"
      },
      "source": [
        "#Precision and Recall\n",
        "print(\"\\n 0.6 threshold for Random Forest : \\n\",classification_report(threshold6(pred_rf),y_test))"
      ],
      "execution_count": 23,
      "outputs": [
        {
          "output_type": "stream",
          "text": [
            "\n",
            " 0.6 threshold for Random Forest : \n",
            "               precision    recall  f1-score   support\n",
            "\n",
            "           0       0.75      0.90      0.82       347\n",
            "           1       0.10      0.83      0.18        18\n",
            "           2       0.95      0.62      0.75       904\n",
            "           3       0.08      1.00      0.15        10\n",
            "\n",
            "    accuracy                           0.70      1279\n",
            "   macro avg       0.47      0.84      0.47      1279\n",
            "weighted avg       0.88      0.70      0.75      1279\n",
            "\n"
          ],
          "name": "stdout"
        }
      ]
    },
    {
      "cell_type": "code",
      "metadata": {
        "id": "YOm4BzW5J7uE",
        "colab_type": "code",
        "colab": {
          "base_uri": "https://localhost:8080/",
          "height": 35
        },
        "outputId": "7883aebd-c9a6-497b-b1e8-dbe74a084f41"
      },
      "source": [
        "#ROC AUC score\n",
        "multiclass_roc_auc_score(threshold6(pred_rf),y_test)"
      ],
      "execution_count": 24,
      "outputs": [
        {
          "output_type": "execute_result",
          "data": {
            "text/plain": [
              "0.870900161223298"
            ]
          },
          "metadata": {
            "tags": []
          },
          "execution_count": 24
        }
      ]
    },
    {
      "cell_type": "code",
      "metadata": {
        "id": "y-1SR5QUJgMq",
        "colab_type": "code",
        "colab": {}
      },
      "source": [
        "def threshold7(array):\n",
        "  a = []\n",
        "  for i in range(len(array)):\n",
        "    if max(array[i])>0.7:\n",
        "      a.append(np.argmax(array[i]))\n",
        "    else:\n",
        "      a.append(2)\n",
        "  return a"
      ],
      "execution_count": 0,
      "outputs": []
    },
    {
      "cell_type": "code",
      "metadata": {
        "id": "Xxi4t8O7KJLD",
        "colab_type": "code",
        "colab": {
          "base_uri": "https://localhost:8080/",
          "height": 248
        },
        "outputId": "2774d284-7f9a-44cd-c169-514ec963fe5a"
      },
      "source": [
        "#Precision and Recall\n",
        "print(\"\\n 0.7 threshold for Random Forest : \\n\",classification_report((threshold7(pred_rf)),y_test))"
      ],
      "execution_count": 26,
      "outputs": [
        {
          "output_type": "stream",
          "text": [
            "\n",
            " 0.7 threshold for Random Forest : \n",
            "               precision    recall  f1-score   support\n",
            "\n",
            "           0       0.69      0.92      0.79       314\n",
            "           1       0.06      1.00      0.11         9\n",
            "           2       0.96      0.59      0.74       950\n",
            "           3       0.05      1.00      0.09         6\n",
            "\n",
            "    accuracy                           0.68      1279\n",
            "   macro avg       0.44      0.88      0.43      1279\n",
            "weighted avg       0.89      0.68      0.74      1279\n",
            "\n"
          ],
          "name": "stdout"
        }
      ]
    },
    {
      "cell_type": "code",
      "metadata": {
        "id": "E3f7CiGsKJP2",
        "colab_type": "code",
        "colab": {
          "base_uri": "https://localhost:8080/",
          "height": 35
        },
        "outputId": "895d1816-b798-4b81-fdb3-39d66c8fda69"
      },
      "source": [
        "#ROC AUC score\n",
        "multiclass_roc_auc_score(threshold7(pred_rf),y_test)\n"
      ],
      "execution_count": 27,
      "outputs": [
        {
          "output_type": "execute_result",
          "data": {
            "text/plain": [
              "0.8890752143977837"
            ]
          },
          "metadata": {
            "tags": []
          },
          "execution_count": 27
        }
      ]
    },
    {
      "cell_type": "code",
      "metadata": {
        "id": "njnDQO5JKJKG",
        "colab_type": "code",
        "colab": {}
      },
      "source": [
        "def threshold8(array):\n",
        "  a = []\n",
        "  for i in range(len(array)):\n",
        "    if max(array[i])>0.8:\n",
        "      a.append(np.argmax(array[i]))\n",
        "    else:\n",
        "      a.append(2)\n",
        "  return a"
      ],
      "execution_count": 0,
      "outputs": []
    },
    {
      "cell_type": "code",
      "metadata": {
        "id": "K0od8j_AKcz8",
        "colab_type": "code",
        "colab": {
          "base_uri": "https://localhost:8080/",
          "height": 248
        },
        "outputId": "d667a4a9-d667-40ff-ad8a-356d20c04e18"
      },
      "source": [
        "#Precision and Recall\n",
        "print(\"\\n 0.8 threshold for Random Forest : \\n\",classification_report((threshold8(pred_rf)),y_test))"
      ],
      "execution_count": 29,
      "outputs": [
        {
          "output_type": "stream",
          "text": [
            "\n",
            " 0.8 threshold for Random Forest : \n",
            "               precision    recall  f1-score   support\n",
            "\n",
            "           0       0.60      0.94      0.73       269\n",
            "           1       0.02      1.00      0.04         3\n",
            "           2       0.98      0.57      0.72      1002\n",
            "           3       0.04      1.00      0.08         5\n",
            "\n",
            "    accuracy                           0.65      1279\n",
            "   macro avg       0.41      0.88      0.39      1279\n",
            "weighted avg       0.89      0.65      0.72      1279\n",
            "\n"
          ],
          "name": "stdout"
        }
      ]
    },
    {
      "cell_type": "code",
      "metadata": {
        "id": "prZ6C6-gKc4O",
        "colab_type": "code",
        "colab": {
          "base_uri": "https://localhost:8080/",
          "height": 35
        },
        "outputId": "06e4ca31-9774-491c-d0fb-8b21c1f5a01c"
      },
      "source": [
        "#ROC AUC score\n",
        "multiclass_roc_auc_score(threshold8(pred_rf),y_test)"
      ],
      "execution_count": 30,
      "outputs": [
        {
          "output_type": "execute_result",
          "data": {
            "text/plain": [
              "0.8853700177862309"
            ]
          },
          "metadata": {
            "tags": []
          },
          "execution_count": 30
        }
      ]
    },
    {
      "cell_type": "code",
      "metadata": {
        "id": "KbSQLMgiKc9K",
        "colab_type": "code",
        "colab": {}
      },
      "source": [
        "amazon['preprocessed_text'] = amazon['reviewText'].apply(Preprocessing,1)"
      ],
      "execution_count": 0,
      "outputs": []
    },
    {
      "cell_type": "code",
      "metadata": {
        "id": "x0gKxOEfKc3Y",
        "colab_type": "code",
        "colab": {}
      },
      "source": [
        "#Count Vectorizer converts a text into a machine learning problem format. Thereby, making it possible to run machine learning algorithms on text data\n",
        "corpus = amazon['preprocessed_text'] \n",
        "vectorizer = CountVectorizer()\n",
        "x = vectorizer.fit_transform(corpus)"
      ],
      "execution_count": 0,
      "outputs": []
    },
    {
      "cell_type": "code",
      "metadata": {
        "id": "3OJ6lzSlKcyt",
        "colab_type": "code",
        "colab": {
          "base_uri": "https://localhost:8080/",
          "height": 52
        },
        "outputId": "c79d8030-444a-4609-a3a9-4cb1d7eca0f2"
      },
      "source": [
        "amazon_pred = rfc.predict(X)\n",
        "amazon_pred \n"
      ],
      "execution_count": 34,
      "outputs": [
        {
          "output_type": "execute_result",
          "data": {
            "text/plain": [
              "array(['positive', 'positive', 'positive', ..., 'irrelevant',\n",
              "       'irrelevant', 'irrelevant'], dtype=object)"
            ]
          },
          "metadata": {
            "tags": []
          },
          "execution_count": 34
        }
      ]
    },
    {
      "cell_type": "code",
      "metadata": {
        "id": "D69P7Cu5pbCF",
        "colab_type": "code",
        "colab": {}
      },
      "source": [
        ""
      ],
      "execution_count": 0,
      "outputs": []
    }
  ]
}