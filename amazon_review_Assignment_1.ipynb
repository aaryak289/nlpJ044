{
  "nbformat": 4,
  "nbformat_minor": 0,
  "metadata": {
    "colab": {
      "name": "amazon review Assignment 1",
      "provenance": [],
      "collapsed_sections": [],
      "include_colab_link": true
    },
    "kernelspec": {
      "name": "python3",
      "display_name": "Python 3"
    }
  },
  "cells": [
    {
      "cell_type": "markdown",
      "metadata": {
        "id": "view-in-github",
        "colab_type": "text"
      },
      "source": [
        "<a href=\"https://colab.research.google.com/github/aaryak289/nlpJ044/blob/master/amazon_review_Assignment_1.ipynb\" target=\"_parent\"><img src=\"https://colab.research.google.com/assets/colab-badge.svg\" alt=\"Open In Colab\"/></a>"
      ]
    },
    {
      "cell_type": "markdown",
      "metadata": {
        "id": "DJim4gKsAC3u",
        "colab_type": "text"
      },
      "source": [
        "AMAZON PRODUCT REVIEW"
      ]
    },
    {
      "cell_type": "code",
      "metadata": {
        "id": "3ZbSd3xHANUr",
        "colab_type": "code",
        "colab": {}
      },
      "source": [
        "import pandas as pd"
      ],
      "execution_count": 0,
      "outputs": []
    },
    {
      "cell_type": "code",
      "metadata": {
        "id": "wsIyYTsDAUGB",
        "colab_type": "code",
        "colab": {}
      },
      "source": [
        "file = pd.read_json('http://snap.stanford.edu/data/amazon/productGraph/categoryFiles/reviews_Office_Products_5.json.gz', lines=True)"
      ],
      "execution_count": 0,
      "outputs": []
    },
    {
      "cell_type": "code",
      "metadata": {
        "id": "y5oFcyM3K_Vl",
        "colab_type": "code",
        "colab": {
          "base_uri": "https://localhost:8080/",
          "height": 266
        },
        "outputId": "151fc764-bd7e-4b1f-8e79-564262ba3342"
      },
      "source": [
        "print(file)"
      ],
      "execution_count": 21,
      "outputs": [
        {
          "output_type": "stream",
          "text": [
            "           reviewerID        asin  ... unixReviewTime   reviewTime\n",
            "0      A32T2H8150OJLU  B00000JBLH  ...     1094169600   09 3, 2004\n",
            "1      A3MAFS04ZABRGO  B00000JBLH  ...     1197676800  12 15, 2007\n",
            "2      A1F1A0QQP2XVH5  B00000JBLH  ...     1293840000   01 1, 2011\n",
            "3       A49R5DBXXQDE5  B00000JBLH  ...     1145404800  04 19, 2006\n",
            "4      A2XRMQA6PJ5ZJ8  B00000JBLH  ...     1375574400   08 4, 2013\n",
            "...               ...         ...  ...            ...          ...\n",
            "53253  A1ODOGXEYECQQ8  B00KYA0RC2  ...     1405555200  07 17, 2014\n",
            "53254  A2XX2A4OJCDNLZ  B00KYA0RC2  ...     1405296000  07 14, 2014\n",
            "53255  A3LGT6UZL99IW1  B00KYA0RC2  ...     1405468800  07 16, 2014\n",
            "53256  A1XJOSJN6FHFO0  B00KYA0RC2  ...     1405814400  07 20, 2014\n",
            "53257   AAEVGE52KL0DJ  B00KYA0RC2  ...     1404604800   07 6, 2014\n",
            "\n",
            "[53258 rows x 9 columns]\n"
          ],
          "name": "stdout"
        }
      ]
    },
    {
      "cell_type": "code",
      "metadata": {
        "id": "8rfN_9yCAk6N",
        "colab_type": "code",
        "colab": {}
      },
      "source": [
        "def word_count(str):\n",
        "    counts = dict()\n",
        "    words = str.lower().split()\n",
        "    for word in words:\n",
        "        if word in counts:\n",
        "            counts[word] += 1\n",
        "        else:\n",
        "            counts[word] = 1\n",
        "    return counts"
      ],
      "execution_count": 0,
      "outputs": []
    },
    {
      "cell_type": "code",
      "metadata": {
        "id": "Eai06SkVBV7x",
        "colab_type": "code",
        "colab": {}
      },
      "source": [
        "file['reviewText_word'] = file['reviewText'].apply(word_count,1)\n",
        "file['summary_word'] = file['summary'].apply(word_count,1)"
      ],
      "execution_count": 0,
      "outputs": []
    },
    {
      "cell_type": "code",
      "metadata": {
        "id": "ilgqKIlIBk4p",
        "colab_type": "code",
        "outputId": "99538b3f-cb13-459a-a452-d96412ae7850",
        "colab": {
          "base_uri": "https://localhost:8080/",
          "height": 266
        }
      },
      "source": [
        "print (file)"
      ],
      "execution_count": 24,
      "outputs": [
        {
          "output_type": "stream",
          "text": [
            "           reviewerID  ...                                       summary_word\n",
            "0      A32T2H8150OJLU  ...  {'a': 1, 'solid': 1, 'performer,': 1, 'and': 1...\n",
            "1      A3MAFS04ZABRGO  ...  {'price': 1, 'of': 1, 'gold': 1, 'is': 1, 'up,...\n",
            "2      A1F1A0QQP2XVH5  ...  {'good': 1, 'functionality,': 1, 'but': 1, 'no...\n",
            "3       A49R5DBXXQDE5  ...  {'one': 1, 'of': 2, 'the': 1, 'last': 1, 'an':...\n",
            "4      A2XRMQA6PJ5ZJ8  ...                  {'still': 1, 'the': 1, 'best': 1}\n",
            "...               ...  ...                                                ...\n",
            "53253  A1ODOGXEYECQQ8  ...  {'portable': 1, 'and': 1, 'very': 1, 'easy': 1...\n",
            "53254  A2XX2A4OJCDNLZ  ...  {'accuteck': 1, 'shippro': 1, 'digital': 1, 'p...\n",
            "53255  A3LGT6UZL99IW1  ...  {'extremely': 1, 'accurate,': 1, 'foolproof': ...\n",
            "53256  A1XJOSJN6FHFO0  ...   {'fast,': 1, 'easy': 1, 'and': 1, 'accurate': 1}\n",
            "53257   AAEVGE52KL0DJ  ...  {'great': 1, 'value': 1, 'on': 1, 'a': 1, 'goo...\n",
            "\n",
            "[53258 rows x 11 columns]\n"
          ],
          "name": "stdout"
        }
      ]
    },
    {
      "cell_type": "code",
      "metadata": {
        "id": "rcQ06m7HLGKs",
        "colab_type": "code",
        "colab": {}
      },
      "source": [
        ""
      ],
      "execution_count": 0,
      "outputs": []
    }
  ]
}