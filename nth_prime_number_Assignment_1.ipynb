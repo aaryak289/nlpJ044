{
  "nbformat": 4,
  "nbformat_minor": 0,
  "metadata": {
    "colab": {
      "name": "nth prime number Assignment 1",
      "provenance": [],
      "collapsed_sections": [],
      "include_colab_link": true
    },
    "kernelspec": {
      "name": "python3",
      "display_name": "Python 3"
    }
  },
  "cells": [
    {
      "cell_type": "markdown",
      "metadata": {
        "id": "view-in-github",
        "colab_type": "text"
      },
      "source": [
        "<a href=\"https://colab.research.google.com/github/aaryak289/nlpJ044/blob/master/nth_prime_number_Assignment_1.ipynb\" target=\"_parent\"><img src=\"https://colab.research.google.com/assets/colab-badge.svg\" alt=\"Open In Colab\"/></a>"
      ]
    },
    {
      "cell_type": "code",
      "metadata": {
        "id": "ZxU77qy-SxjU",
        "colab_type": "code",
        "colab": {}
      },
      "source": [
        "from sympy import isprime "
      ],
      "execution_count": 0,
      "outputs": []
    },
    {
      "cell_type": "code",
      "metadata": {
        "id": "aRVlqss-_MH4",
        "colab_type": "code",
        "colab": {}
      },
      "source": [
        "def findPrime (n):\n",
        "    primeAmount = 0\n",
        "    primecheck = 1\n",
        "    while True:\n",
        "        if isprime(primecheck):\n",
        "            primeAmount +=1\n",
        "        if primeAmount >= n:\n",
        "            return (primecheck)\n",
        "        primecheck += 1"
      ],
      "execution_count": 0,
      "outputs": []
    },
    {
      "cell_type": "code",
      "metadata": {
        "id": "HLeyFDX0_Ngc",
        "colab_type": "code",
        "outputId": "7a4323bc-5ba0-436f-870e-09ae72377c5b",
        "colab": {
          "base_uri": "https://localhost:8080/",
          "height": 52
        }
      },
      "source": [
        "n = input ('enter n: ')\n",
        "print('The ' + str(n) + 'th prime number is ' + str(findPrime(int(n))))"
      ],
      "execution_count": 5,
      "outputs": [
        {
          "output_type": "stream",
          "text": [
            "enter n: 4\n",
            "The 4th prime number is 7\n"
          ],
          "name": "stdout"
        }
      ]
    },
    {
      "cell_type": "code",
      "metadata": {
        "id": "xtwOYeDIHqCg",
        "colab_type": "code",
        "colab": {}
      },
      "source": [
        ""
      ],
      "execution_count": 0,
      "outputs": []
    }
  ]
}