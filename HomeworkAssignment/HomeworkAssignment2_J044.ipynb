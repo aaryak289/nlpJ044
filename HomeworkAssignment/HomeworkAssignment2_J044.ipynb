{
  "nbformat": 4,
  "nbformat_minor": 0,
  "metadata": {
    "colab": {
      "name": "HomeworkAssignment2_J044.ipynb",
      "provenance": [],
      "include_colab_link": true
    },
    "kernelspec": {
      "name": "python3",
      "display_name": "Python 3"
    }
  },
  "cells": [
    {
      "cell_type": "markdown",
      "metadata": {
        "id": "view-in-github",
        "colab_type": "text"
      },
      "source": [
        "<a href=\"https://colab.research.google.com/github/aaryak289/nlpJ044/blob/master/HomeworkAssignment/HomeworkAssignment2_J044.ipynb\" target=\"_parent\"><img src=\"https://colab.research.google.com/assets/colab-badge.svg\" alt=\"Open In Colab\"/></a>"
      ]
    },
    {
      "cell_type": "code",
      "metadata": {
        "id": "iHMHphBmJApF",
        "colab_type": "code",
        "colab": {}
      },
      "source": [
        "#Reading data\n",
        "import pandas as pd \n",
        "data=pd.read_json(\"http://snap.stanford.edu/data/amazon/productGraph/categoryFiles/reviews_Office_Products_5.json.gz\",lines= True,orient='values')"
      ],
      "execution_count": 0,
      "outputs": []
    },
    {
      "cell_type": "code",
      "metadata": {
        "id": "5loojTmrJQY_",
        "colab_type": "code",
        "colab": {
          "base_uri": "https://localhost:8080/",
          "height": 280
        },
        "outputId": "63921623-de50-4e40-f2aa-e6b02aab6d21"
      },
      "source": [
        "#Viewing data \n",
        "data.head()"
      ],
      "execution_count": 2,
      "outputs": [
        {
          "output_type": "execute_result",
          "data": {
            "text/html": [
              "<div>\n",
              "<style scoped>\n",
              "    .dataframe tbody tr th:only-of-type {\n",
              "        vertical-align: middle;\n",
              "    }\n",
              "\n",
              "    .dataframe tbody tr th {\n",
              "        vertical-align: top;\n",
              "    }\n",
              "\n",
              "    .dataframe thead th {\n",
              "        text-align: right;\n",
              "    }\n",
              "</style>\n",
              "<table border=\"1\" class=\"dataframe\">\n",
              "  <thead>\n",
              "    <tr style=\"text-align: right;\">\n",
              "      <th></th>\n",
              "      <th>reviewerID</th>\n",
              "      <th>asin</th>\n",
              "      <th>reviewerName</th>\n",
              "      <th>helpful</th>\n",
              "      <th>reviewText</th>\n",
              "      <th>overall</th>\n",
              "      <th>summary</th>\n",
              "      <th>unixReviewTime</th>\n",
              "      <th>reviewTime</th>\n",
              "    </tr>\n",
              "  </thead>\n",
              "  <tbody>\n",
              "    <tr>\n",
              "      <th>0</th>\n",
              "      <td>A32T2H8150OJLU</td>\n",
              "      <td>B00000JBLH</td>\n",
              "      <td>ARH</td>\n",
              "      <td>[3, 4]</td>\n",
              "      <td>I bought my first HP12C in about 1984 or so, a...</td>\n",
              "      <td>5</td>\n",
              "      <td>A solid performer, and long time friend</td>\n",
              "      <td>1094169600</td>\n",
              "      <td>09 3, 2004</td>\n",
              "    </tr>\n",
              "    <tr>\n",
              "      <th>1</th>\n",
              "      <td>A3MAFS04ZABRGO</td>\n",
              "      <td>B00000JBLH</td>\n",
              "      <td>Let it Be \"Alan\"</td>\n",
              "      <td>[7, 9]</td>\n",
              "      <td>WHY THIS BELATED REVIEW? I feel very obliged t...</td>\n",
              "      <td>5</td>\n",
              "      <td>Price of GOLD is up, so don't bury the golden ...</td>\n",
              "      <td>1197676800</td>\n",
              "      <td>12 15, 2007</td>\n",
              "    </tr>\n",
              "    <tr>\n",
              "      <th>2</th>\n",
              "      <td>A1F1A0QQP2XVH5</td>\n",
              "      <td>B00000JBLH</td>\n",
              "      <td>Mark B</td>\n",
              "      <td>[3, 3]</td>\n",
              "      <td>I have an HP 48GX that has been kicking for mo...</td>\n",
              "      <td>2</td>\n",
              "      <td>Good functionality, but not durable like old HPs</td>\n",
              "      <td>1293840000</td>\n",
              "      <td>01 1, 2011</td>\n",
              "    </tr>\n",
              "    <tr>\n",
              "      <th>3</th>\n",
              "      <td>A49R5DBXXQDE5</td>\n",
              "      <td>B00000JBLH</td>\n",
              "      <td>R. D Johnson</td>\n",
              "      <td>[7, 8]</td>\n",
              "      <td>I've started doing more finance stuff recently...</td>\n",
              "      <td>5</td>\n",
              "      <td>One of the last of an almost extinct species</td>\n",
              "      <td>1145404800</td>\n",
              "      <td>04 19, 2006</td>\n",
              "    </tr>\n",
              "    <tr>\n",
              "      <th>4</th>\n",
              "      <td>A2XRMQA6PJ5ZJ8</td>\n",
              "      <td>B00000JBLH</td>\n",
              "      <td>Roger J. Buffington</td>\n",
              "      <td>[0, 0]</td>\n",
              "      <td>For simple calculations and discounted cash fl...</td>\n",
              "      <td>5</td>\n",
              "      <td>Still the best</td>\n",
              "      <td>1375574400</td>\n",
              "      <td>08 4, 2013</td>\n",
              "    </tr>\n",
              "  </tbody>\n",
              "</table>\n",
              "</div>"
            ],
            "text/plain": [
              "       reviewerID        asin  ... unixReviewTime   reviewTime\n",
              "0  A32T2H8150OJLU  B00000JBLH  ...     1094169600   09 3, 2004\n",
              "1  A3MAFS04ZABRGO  B00000JBLH  ...     1197676800  12 15, 2007\n",
              "2  A1F1A0QQP2XVH5  B00000JBLH  ...     1293840000   01 1, 2011\n",
              "3   A49R5DBXXQDE5  B00000JBLH  ...     1145404800  04 19, 2006\n",
              "4  A2XRMQA6PJ5ZJ8  B00000JBLH  ...     1375574400   08 4, 2013\n",
              "\n",
              "[5 rows x 9 columns]"
            ]
          },
          "metadata": {
            "tags": []
          },
          "execution_count": 2
        }
      ]
    },
    {
      "cell_type": "code",
      "metadata": {
        "id": "vuZye5B1Jcgj",
        "colab_type": "code",
        "colab": {
          "base_uri": "https://localhost:8080/",
          "height": 53
        },
        "outputId": "c8ef54c7-7a05-4b0c-d874-3f07267e0de3"
      },
      "source": [
        "#Viewing the line \n",
        "import re\n",
        "text=data.iloc[1].reviewText\n",
        "text"
      ],
      "execution_count": 6,
      "outputs": [
        {
          "output_type": "execute_result",
          "data": {
            "text/plain": [
              "'WHY THIS BELATED REVIEW? I feel very obliged to share my views about this old workhorse, the HP12C GOLD at its 25th anniversary and my 1Oth year as a satisfied ower user and fan. Especially after sharing my frank views on Amazon about two of its three successors on Amazon.com, burying the HP12c Platinum (2004 1st release, HP12cP) and praising the HP12c Platiunum Anniversary Edition (2006 3rd release, HP12cPAE or HP12cPA).To the majority of HP 12c calculator owners and fans, including the non-techkie nerd like myself, the name Hewlett-Packard To the majority of HP 12c calculator owners and fans. The brandname of Hewlett-Packard is synonymous with the highest quality and best range offered in handheld electronic business financial calculators before the first generation of personal computers hits the desktops of business users.To date (December 2007), the bearer of this \"gold\" standard is none other than the HP12C HP\\'s \"golden boy\" in its calculator business segment.The HP12C now a matured product, is the only continuing HP handheld surviving calculator product since \\'81 and probably the longest selling electronic calculator ever. According to HP almost 15 million HP 12Cs, cPs was sold since ,it is probably the best selling HP (and RPN) calculator ever.As a proven product, the HP12C \"gold\" works from day 1, with its form factor and sofware remaining unchanged and has not been dethroned by rivals and even its HP successors which had come and go.Even with PC software versions being sold, the 12C remains the truly indispensable \"portable\" finance-business heldheld computer for its owners, professionals and students alike. This handy companion powers up immediately and is faster than any portable personal computers to jump right into the action.The HP12C is a serious product and the ultimate time tested solution, field tested proven by its users and survived all its rival products, the workhorse moves on.Anyone in charge of this HP line should always bear in mind that the continued production run of the HP 12c is a testimony of HP\\'s quality and standard expected by its customers.Don\\'t just listen to a HP12C fan here, I own and am using three out of 4 models of the HP 12C series, and it is amusing and somewhat disappointing to observe that it had taken HP at least four years and two major upgrades of the HP 12c Platinium, in its futile attempt to \"fix & retire\" the HP12C with three successors in the form of HP12cPlatinum since 2004.It would seems especially frustrating on the part of HP, to realize after all the effort spent on remaking the HP12cPlatinum models that it would not outdone its siblings the HP10bII and HP17bII+ series to seriously challenge the HP12C Gold.  However, by their own rights the HP10Bs and HP17Bs, and the HP12cPlatinum may find their rightful place in the HP financial calculator line, differentiating the HP12C GOLD in terms of price and functions.IMHO, this had happened because the following golden rules were infringed by HP...GOLDEN RULE I - A PRODUCT WHICH STILL SELLS ITSELF IS NEVER OBSOLETE.GOLDEN RULE II - IF IT AREN\\'T BROKEN, DON\\'t FIX IT ! \"The gold rule of thumb should always be guarded as gospel by the HP heldheld calculator product team. Based on the same reasoning, the HP12C\\'s built quality and product standard is paramount to its users.GOLDEN RULE III - ALWAYS LISTEN TO YOUR CUSTOMERS! If in doubt, see rules I & II.GOLDEN RULE IV - ONLY OUTSOURCE THE MANUFACTURING OF YOUR PRODUCT TO SOMEONE WHO COULD BETTER YOUR OWN PRODUCT QUALITY. If in doubt ask IBM about Lenovo.GOLDEN RULE V - THE BENCHMARKING INDUSTRY STANDARD FOR THIS PRODUCT LINE IS THE HP12C. Just in case, if HP does not know or is not listening to its customers.GOLDEN RULE VI - DO NOT DISCONTINUE THE ICONIC HP12C GOLD. HP needs no reminder that the customer is always right. Please let your customer, the ultimate market force decide if the HP12C should ever be retired.As an ardent fan of HP12C and line of financial business & scientific calculators, I am of the view that the day when HP discontinue the HP12C would be the day it exit this business segment. I speculate this would happen when the HP brandname disappears from the 12C just like after IBM name had disappeared from ThinkPads and ThinkCentres.Since the price of GOLD is on the rise, it is indeed puzzling to fans of the HP12C, why HP did not release a genuine HP12C gold 25th anniversary model for the fans to mark the occasion, if replacing the discontinuing the HP12C GOLD is the intention READ ALL GOLDEN RULES above.To be fair, the silver HP12c Platinum Anniversary is very nice and has spotted the \"retro\" silver look of the HP 11C, however, it is still not the GOLD standard. With HP missing this golden opportunity to mark the occasion, I would love to see and own a HP 12C engraved with 50th Anniversary logo, reckon that this would be the ultimate testimony for the HP12C and a milestone for its fans.Looking forward, a GOLD 50th anniversary HP12C Anniversary model would be very nice for the fans.For HP, this is a lucrative business proposition. By now, they would have realized that if they have any of its products which could hit a 50th year home run  in 2031, it would not be from its other product line-it would be this original HP12C GOLD standard bearer. So please treat the old workhorse with the upmost respect!'"
            ]
          },
          "metadata": {
            "tags": []
          },
          "execution_count": 6
        }
      ]
    },
    {
      "cell_type": "code",
      "metadata": {
        "id": "XgScR-TlJi9-",
        "colab_type": "code",
        "colab": {
          "base_uri": "https://localhost:8080/",
          "height": 53
        },
        "outputId": "6fed9433-e305-40e7-991b-a27f735fec5c"
      },
      "source": [
        "y = re.findall(r\"\\b\\W\\^b[Bb]\\w+\\b | \\b\\w+[^gG]\\W\\b\",text)\n",
        "print(y)"
      ],
      "execution_count": 7,
      "outputs": [
        {
          "output_type": "stream",
          "text": [
            "[' THIS ', ' REVIEW? ', ' feel ', ' obliged ', ' share ', ' views ', ' this ', ' workhorse, ', ' HP12C ', ' at ', ' 25th ', ' and ', ' 1Oth ', ' as ', ' satisfied ', ' user ', ' fan. ', ' after ', ' my ', ' views ', ' Amazon ', ' two ', ' its ', ' successors ', ' Amazon.', ' the ', ' Platinum (', ' 1st ', ' HP12cP) ', ' the ', ' Platiunum ', ' Edition (', ' 3rd ', ' HP12cPAE ', ' HP12cPA).', ' the ', ' of ', ' 12c ', ' owners ', ' fans, ', ' the ', ' nerd ', ' myself, ', ' name ', ' To ', ' majority ', ' HP ', ' calculator ', ' and ', ' The ', ' of ', ' is ', ' with ', ' highest ', ' and ', ' range ', ' in ', ' electronic ', ' financial ', ' before ', ' first ', ' of ', ' computers ', ' the ', ' of ', ' users.', ' date (', ' the ', ' of ', ' standard ', ' none ', ' than ', ' HP12C ', ' boy\" ', ' its ', ' business ', ' HP12C ', ' matured ', ' is ', ' only ', ' HP ', ' calculator ', \" since '\", ' and ', ' the ', ' electronic ', ' ever. ', ' to ', ' almost ', ' million ', ' 12Cs, ', ' was ', ' since ,', ' is ', ' the ', ' HP (', ' RPN) ', ' ever.', ' proven ', ' the ', ' works ', ' day ', ' with ', ' form ', ' and ', ' unchanged ', ' has ', ' been ', ' by ', ' and ', ' its ', ' successors ', ' had ', ' and ', ' with ', ' software ', ' sold, ', ' 12C ', ' the ', ' indispensable \"', ' finance-', ' heldheld ', ' for ', ' owners, ', ' and ', ' alike. ', ' handy ', ' powers ', ' immediately ', ' is ', ' than ', ' portable ', ' computers ', ' jump ', ' into ', ' action.', ' HP12C ', ' serious ', ' and ', ' ultimate ', ' tested ', ' field ', ' proven ', ' its ', ' and ', ' all ', ' rival ', ' the ', ' moves ', ' in ', ' of ', ' HP ', ' should ', ' bear ', ' mind ', ' the ', ' production ', ' of ', ' HP ', ' is ', ' testimony ', \" HP'\", ' quality ', ' standard ', ' by ', ' customers.', ' just ', ' to ', ' HP12C ', ' here, ', ' own ', ' am ', ' three ', ' of ', ' models ', ' the ', ' 12C ', ' and ', ' is ', ' and ', ' to ', ' that ', ' had ', ' HP ', ' least ', ' years ', ' two ', ' upgrades ', ' the ', ' 12c ', ' in ', ' futile ', ' to \"', ' retire\" ', ' HP12C ', ' three ', ' in ', ' form ', ' HP12cPlatinum ', ' 2004.', ' would ', ' especially ', ' on ', ' part ', ' HP, ', ' realize ', ' all ', ' effort ', ' on ', ' the ', ' models ', ' it ', ' not ', ' its ', ' the ', ' and ', ' series ', ' seriously ', ' the ', ' However, ', ' their ', ' rights ', ' HP10Bs ', ' HP17Bs, ', ' the ', ' may ', ' their ', ' place ', ' the ', ' financial ', ' line, ', ' the ', ' GOLD ', ' terms ', ' price ', ' functions.', ' this ', ' happened ', ' the ', ' golden ', ' were ', ' by ', ' RULE ', ' PRODUCT ', ' STILL ', ' ITSELF ', ' NEVER ', ' RULE ', ' IF ', \" AREN'\", ' BROKEN, ', ' FIX ', ' gold ', ' of ', ' should ', ' be ', ' as ', ' by ', ' HP ', ' calculator ', ' team. ', ' on ', ' same ', ' the ', ' built ', ' and ', ' standard ', ' paramount ', ' its ', ' RULE ', ' ALWAYS ', ' TO ', ' CUSTOMERS! ', ' in ', ' see ', ' II.', ' RULE ', ' ONLY ', ' THE ', ' OF ', ' PRODUCT ', ' SOMEONE ', ' COULD ', ' YOUR ', ' PRODUCT ', ' If ', ' doubt ', ' IBM ', ' Lenovo.', ' RULE ', ' THE ', ' INDUSTRY ', ' FOR ', ' PRODUCT ', ' IS ', ' HP12C. ', ' in ', ' if ', ' does ', ' know ', ' is ', ' to ', ' customers.', ' RULE ', ' DO ', ' DISCONTINUE ', ' ICONIC ', ' GOLD. ', ' needs ', ' reminder ', ' the ', ' is ', ' right. ', ' let ', ' customer, ', ' ultimate ', ' force ', ' if ', ' HP12C ', ' ever ', ' retired.', ' an ', ' fan ', ' HP12C ', ' line ', ' financial ', ' scientific ', ' am ', ' the ', ' that ', ' day ', ' HP ', ' the ', ' would ', ' the ', ' it ', ' this ', ' segment. ', ' speculate ', ' would ', ' when ', ' HP ', ' disappears ', ' the ', ' just ', ' after ', ' name ', ' disappeared ', ' ThinkPads ', ' ThinkCentres.', ' the ', ' of ', ' is ', ' the ', ' it ', ' indeed ', ' to ', ' of ', ' HP12C, ', ' HP ', ' not ', ' genuine ', ' gold ', ' anniversary ', ' for ', ' fans ', ' mark ', ' occasion, ', ' the ', ' the ', ' GOLD ', ' the ', ' READ ', ' GOLDEN ', ' above.', ' be ', ' the ', ' HP12c ', ' Anniversary ', ' very ', ' and ', ' spotted ', ' silver ', ' of ', ' HP ', ' however, ', ' is ', ' not ', ' GOLD ', ' With ', ' this ', ' opportunity ', ' mark ', ' occasion, ', ' would ', ' to ', ' and ', ' HP ', ' engraved ', ' 50th ', ' logo, ', ' that ', ' would ', ' the ', ' testimony ', ' the ', ' and ', ' milestone ', ' its ', ' forward, ', ' GOLD ', ' anniversary ', ' Anniversary ', ' would ', ' very ', ' for ', ' fans.', ' HP, ', ' is ', ' lucrative ', ' proposition. ', ' now, ', ' would ', ' realized ', ' if ', ' have ', ' of ', ' products ', ' could ', ' 50th ', ' home ', ' in ', ' it ', ' not ', ' from ', ' other ', ' line-', ' would ', ' this ', ' HP12C ', ' standard ', ' So ', ' treat ', ' old ', ' with ', ' upmost ']\n"
          ],
          "name": "stdout"
        }
      ]
    },
    {
      "cell_type": "code",
      "metadata": {
        "id": "uVXzwXgxJpOj",
        "colab_type": "code",
        "colab": {
          "base_uri": "https://localhost:8080/",
          "height": 53
        },
        "outputId": "f67079e9-1b4f-47a2-be2d-1b9ab4c17f9b"
      },
      "source": [
        "x = re.findall(r\"\\b\\S\\^b[Bb]\\w+\\b | \\b\\w+[^gG]\\S\\b\",text)\n",
        "print(x)"
      ],
      "execution_count": 8,
      "outputs": [
        {
          "output_type": "stream",
          "text": [
            "[' THIS', ' BELATED', ' REVIEW', ' feel', ' very', ' obliged', ' share', ' views', ' about', ' this', ' old', ' workhorse', ' the', ' HP12C', ' GOLD', ' its', ' 25th', ' anniversary', ' and', ' 1Oth', ' year', ' as a', ' satisfied', ' ower', ' user', ' and', ' fan', ' Especially', ' after', ' sharing', ' frank', ' views', ' Amazon', ' about', ' two', ' its', ' three', ' successors', ' Amazon.', ' burying', ' the', ' HP12c', ' Platinum (', ' 1st', ' release', ' HP12cP', ' and', ' praising', ' the', ' HP12c', ' Platiunum', ' Anniversary', ' Edition (', ' 3rd', ' release', ' HP12cPAE', ' HP12cPA).', ' the', ' majority', ' 12c', ' calculator', ' owners', ' and', ' fans', ' including', ' the', ' non-', ' nerd', ' like', ' myself', ' the', ' name', ' Hewlett-', ' the', ' majority', ' 12c', ' calculator', ' owners', ' and', ' fans', ' The', ' brandname', ' Hewlett-', ' synonymous', ' with', ' the', ' highest', ' quality', ' and', ' best', ' offered', ' handheld', ' electronic', ' business', ' financial', ' calculators', ' before', ' the', ' first', ' generation', ' personal', ' computers', ' hits', ' the', ' desktops', ' business', ' users.', ' date (', ' 2007', ' the', ' bearer', ' this \"', ' standard', ' none', ' other', ' than', ' the', ' HP12C', \" HP's\", ' boy', ' its', ' calculator', ' business', ' segment.', ' HP12C', ' now a', ' matured', ' product', ' the', ' only', ' continuing', ' handheld', ' surviving', ' calculator', ' product', \" since '\", ' and', ' probably', ' the', ' longest', ' selling', ' electronic', ' calculator', ' ever', ' According', ' almost', ' million', ' 12Cs', ' cPs', ' was', ' sold', ' since ,', ' probably', ' the', ' best', ' selling', ' HP (', ' RPN', ' calculator', ' ever.', ' proven', ' product', ' the', ' HP12C \"', ' works', ' from', ' day 1', ' with', ' its', ' form', ' factor', ' and', ' sofware', ' remaining', ' unchanged', ' and', ' has', ' not', ' been', ' dethroned', ' rivals', ' and', ' even', ' its', ' successors', ' which', ' had', ' come', ' and', ' go.', ' with', ' software', ' versions', ' being', ' sold', ' the', ' 12C', ' remains', ' the', ' truly', ' indispensable \"', ' finance-', ' heldheld', ' computer', ' for', ' its', ' owners', ' professionals', ' and', ' students', ' alike', ' This', ' handy', ' companion', ' powers', ' immediately', ' and', ' faster', ' than', ' any', ' portable', ' personal', ' computers', ' jump', ' right', ' into', ' the', ' action.', ' HP12C', ' is a', ' serious', ' product', ' and', ' the', ' ultimate', ' time', ' tested', ' solution', ' field', ' tested', ' proven', ' its', ' users', ' and', ' survived', ' all', ' its', ' rival', ' products', ' the', ' workhorse', ' moves', ' on.', ' this', ' line', ' should', ' always', ' bear', ' mind', ' that', ' the', ' continued', ' production', ' run', ' the', ' 12c', ' is a', ' testimony', \" HP's\", ' quality', ' and', ' standard', ' expected', ' its', ' customers.', ' just', ' listen', ' to a', ' HP12C', ' fan', ' here', ' own', ' and', ' using', ' three', ' out', ' of 4', ' models', ' the', ' 12C', ' series', ' and', ' amusing', ' and', ' somewhat', ' disappointing', ' observe', ' that', ' had', ' taken', ' least', ' four', ' years', ' and', ' two', ' major', ' upgrades', ' the', ' 12c', ' Platinium', ' its', ' futile', ' attempt', ' to \"', ' retire', ' the', ' HP12C', ' with', ' three', ' successors', ' the', ' form', ' HP12cPlatinum', ' since', ' 2004.', ' would', ' seems', ' especially', ' frustrating', ' the', ' part', ' realize', ' after', ' all', ' the', ' effort', ' spent', ' remaking', ' the', ' HP12cPlatinum', ' models', ' that', ' would', ' not', ' outdone', ' its', ' the', ' HP10bII', ' and', ' HP17bII', ' series', ' seriously', ' the', ' HP12C', ' Gold', ' However', ' their', ' own', ' rights', ' the', ' HP10Bs', ' and', ' HP17Bs', ' and', ' the', ' HP12cPlatinum', ' may', ' find', ' their', ' rightful', ' place', ' the', ' financial', ' calculator', ' line', ' differentiating', ' the', ' HP12C', ' GOLD', ' terms', ' price', ' and', ' functions.', ' this', ' had', ' happened', ' because', ' the', ' following', ' golden', ' rules', ' were', ' infringed', ' RULE I', ' PRODUCT', ' WHICH', ' STILL', ' SELLS', ' ITSELF', ' NEVER', ' OBSOLETE.', ' RULE', \" AREN'T\", ' BROKEN', \" DON't\", ' FIX', ' gold', ' rule', ' thumb', ' should', ' always', ' guarded', ' gospel', ' the', ' heldheld', ' calculator', ' product', ' team', ' Based', ' the', ' same', ' reasoning', ' the', \" HP12C's\", ' built', ' quality', ' and', ' product', ' standard', ' paramount', ' its', ' users.', ' RULE', ' III', ' ALWAYS', ' LISTEN', ' YOUR', ' CUSTOMERS', ' doubt', ' see', ' rules I', ' II.', ' RULE', ' ONLY', ' OUTSOURCE', ' THE', ' MANUFACTURING', ' YOUR', ' PRODUCT', ' SOMEONE', ' WHO', ' COULD', ' BETTER', ' YOUR', ' OWN', ' PRODUCT', ' QUALITY', ' doubt', ' ask', ' IBM', ' about', ' Lenovo.', ' RULE V', ' THE', ' BENCHMARKING', ' INDUSTRY', ' STANDARD', ' FOR', ' THIS', ' PRODUCT', ' LINE', ' THE', ' HP12C', ' Just', ' case', ' does', ' not', ' know', ' not', ' listening', ' its', ' customers.', ' RULE', ' NOT', ' DISCONTINUE', ' THE', ' ICONIC', ' HP12C', ' GOLD', ' needs', ' reminder', ' that', ' the', ' customer', ' always', ' right', ' Please', ' let', ' your', ' customer', ' the', ' ultimate', ' market', ' force', ' decide', ' the', ' HP12C', ' should', ' ever', ' retired.', ' ardent', ' fan', ' HP12C', ' and', ' line', ' financial', ' business', ' scientific', ' calculators', ' the', ' view', ' that', ' the', ' day', ' when', ' discontinue', ' the', ' HP12C', ' would', ' the', ' day', ' exit', ' this', ' business', ' segment', ' speculate', ' this', ' would', ' happen', ' when', ' the', ' brandname', ' disappears', ' from', ' the', ' 12C', ' just', ' like', ' after', ' IBM', ' name', ' had', ' disappeared', ' from', ' ThinkPads', ' and', ' ThinkCentres.', ' the', ' price', ' GOLD', ' the', ' rise', ' indeed', ' puzzling', ' fans', ' the', ' HP12C', ' why', ' did', ' not', ' release a', ' genuine', ' HP12C', ' gold', ' 25th', ' anniversary', ' model', ' for', ' the', ' fans', ' mark', ' the', ' occasion', ' replacing', ' the', ' discontinuing', ' the', ' HP12C', ' GOLD', ' the', ' intention', ' READ', ' ALL', ' GOLDEN', ' RULES', ' above.', ' fair', ' the', ' silver', ' HP12c', ' Platinum', ' Anniversary', ' very', ' nice', ' and', ' has', ' spotted', ' the \"', ' silver', ' look', ' the', ' 11C', ' however', ' still', ' not', ' the', ' GOLD', ' standard', ' With', ' missing', ' this', ' golden', ' opportunity', ' mark', ' the', ' occasion', ' would', ' love', ' see', ' and', ' own a', ' 12C', ' engraved', ' with', ' 50th', ' Anniversary', ' reckon', ' that', ' this', ' would', ' the', ' ultimate', ' testimony', ' for', ' the', ' HP12C', ' and a', ' milestone', ' for', ' its', ' fans.', ' forward', ' GOLD', ' 50th', ' anniversary', ' HP12C', ' Anniversary', ' model', ' would', ' very', ' nice', ' for', ' the', ' fans.', ' this', ' is a', ' lucrative', ' business', ' proposition', ' now', ' they', ' would', ' have', ' realized', ' that', ' they', ' have', ' any', ' its', ' products', ' which', ' could', ' hit a', ' 50th', ' year', ' home', ' run', ' 2031', ' would', ' not', ' from', ' its', ' other', ' product', ' line-', ' would', ' this', ' original', ' HP12C', ' GOLD', ' standard', ' bearer', ' please', ' treat', ' the', ' old', ' workhorse', ' with', ' the', ' upmost', ' respect']\n"
          ],
          "name": "stdout"
        }
      ]
    },
    {
      "cell_type": "code",
      "metadata": {
        "id": "xKv_GaXAJwIP",
        "colab_type": "code",
        "colab": {
          "base_uri": "https://localhost:8080/",
          "height": 33
        },
        "outputId": "77c95c8d-625d-456c-b258-ed8119626378"
      },
      "source": [
        "str=\"The rain in boy ate a gobble frog Big Spain\"\n",
        "s = re.sub(r'[^\\w\\s]',' ',str) \n",
        "start_b=re.findall(r\"\\b[^\\WbB]\\w+\\b\",s)\n",
        "start_b\n",
        "sent= ' '.join([elem for elem in start_b])\n",
        "start_b_end_g=re.findall(r'\\b\\w+[^\\WgG]\\b',sent)\n",
        "print(start_b_end_g)\n",
        "#print(sent)"
      ],
      "execution_count": 9,
      "outputs": [
        {
          "output_type": "stream",
          "text": [
            "['The', 'rain', 'in', 'ate', 'gobble', 'Spain']\n"
          ],
          "name": "stdout"
        }
      ]
    },
    {
      "cell_type": "code",
      "metadata": {
        "id": "diuz8Yr7e2Fw",
        "colab_type": "code",
        "colab": {}
      },
      "source": [
        "def begB_endG(text):\n",
        "  text=text.lower()\n",
        "  text = re.sub(r'[^\\w\\s]',' ',text)    \n",
        "  start_B=re.findall(r\"\\b[^\\WbB]\\w+\\b\",text)\n",
        "  sentence = ' '.join([elem for elem in start_B])\n",
        "  startB_endG = re.findall(r'\\b\\w+[^\\WgG]\\b', sentence)\n",
        "  #print(startB_endG)  \n",
        "  return set(startB_endG)"
      ],
      "execution_count": 0,
      "outputs": []
    },
    {
      "cell_type": "code",
      "metadata": {
        "colab_type": "code",
        "outputId": "aa073fbf-25e4-4f0a-eb6e-7c81f09dab64",
        "id": "7IQEhJADfEM0",
        "colab": {
          "base_uri": "https://localhost:8080/",
          "height": 217
        }
      },
      "source": [
        "data[\"b_g\"]=data.reviewText.apply(begB_endG)\n",
        "data[\"b_g\"]"
      ],
      "execution_count": 11,
      "outputs": [
        {
          "output_type": "execute_result",
          "data": {
            "text/plain": [
              "0        {didn, lost, another, come, you, replace, shor...\n",
              "1        {12cs, proven, attempt, students, desktops, us...\n",
              "2        {calculator, hard, register, number, overall, ...\n",
              "3        {take, without, answers, entry, display, suspe...\n",
              "4        {rpn, calculator, reverse, notation, really, l...\n",
              "                               ...                        \n",
              "53253    {adapter, included, three, away, display, like...\n",
              "53254    {experience, unpacked, clean, display, paces, ...\n",
              "53255    {lost, new, 14, out, assembly, detaches, hinge...\n",
              "53256    {weigh, honest, their, fool, display, placed, ...\n",
              "53257    {telephone, display, necessary, scales, requir...\n",
              "Name: b_g, Length: 53258, dtype: object"
            ]
          },
          "metadata": {
            "tags": []
          },
          "execution_count": 11
        }
      ]
    },
    {
      "cell_type": "code",
      "metadata": {
        "id": "6O8uaDUHfLD7",
        "colab_type": "code",
        "colab": {}
      },
      "source": [
        "def notb_g(t):\n",
        "  t = re.sub(\"'\",\"\",text)\n",
        "  t = re.sub(\"[^a-zA-Z0-9]\",\" \",t)\n",
        "  startb = re.findall(r\"\\b(?!b)\\w+\",t,re.IGNORECASE)\n",
        "  startb_endg = [word for word in startb if word in re.findall(r\"\\w*(?<!g)\\b\",text,re.IGNORECASE)]          \n",
        "  return startb_endg"
      ],
      "execution_count": 0,
      "outputs": []
    },
    {
      "cell_type": "code",
      "metadata": {
        "id": "G0n8tkVFfa5U",
        "colab_type": "code",
        "colab": {}
      },
      "source": [
        "data['Text'] = data.reviewText.apply(notb_g)\n",
        "#data['Sum'] = data['summary'].apply(notb_g)"
      ],
      "execution_count": 0,
      "outputs": []
    }
  ]
}